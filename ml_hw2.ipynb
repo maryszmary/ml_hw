{
 "cells": [
  {
   "cell_type": "markdown",
   "metadata": {},
   "source": [
    "# Наивный Байес"
   ]
  },
  {
   "cell_type": "markdown",
   "metadata": {},
   "source": [
    "Импортирую нужные библиотеки и загружаю датасет."
   ]
  },
  {
   "cell_type": "code",
   "execution_count": 56,
   "metadata": {
    "collapsed": true
   },
   "outputs": [],
   "source": [
    "import pandas\n",
    "import numpy as np\n",
    "import matplotlib.pyplot as plt\n",
    "import seaborn as sns\n",
    "import copy\n",
    "\n",
    "from nltk import word_tokenize\n",
    "from sklearn.feature_extraction.text import CountVectorizer, TfidfTransformer\n",
    "from sklearn.naive_bayes import MultinomialNB\n",
    "from sklearn.metrics import classification_report, f1_score, accuracy_score, confusion_matrix\n",
    "from sklearn.pipeline import Pipeline\n",
    "from sklearn.model_selection import StratifiedKFold, cross_val_score, train_test_split\n",
    "\n",
    "messages = pandas.read_csv('SMSSpamCollection', sep='\\t', names=[\"label\", \"message\"])"
   ]
  },
  {
   "cell_type": "code",
   "execution_count": 10,
   "metadata": {
    "collapsed": false
   },
   "outputs": [
    {
     "data": {
      "text/html": [
       "<div>\n",
       "<table border=\"1\" class=\"dataframe\">\n",
       "  <thead>\n",
       "    <tr style=\"text-align: right;\">\n",
       "      <th></th>\n",
       "      <th>label</th>\n",
       "      <th>message</th>\n",
       "    </tr>\n",
       "  </thead>\n",
       "  <tbody>\n",
       "    <tr>\n",
       "      <th>0</th>\n",
       "      <td>ham</td>\n",
       "      <td>Go until jurong point, crazy.. Available only ...</td>\n",
       "    </tr>\n",
       "    <tr>\n",
       "      <th>1</th>\n",
       "      <td>ham</td>\n",
       "      <td>Ok lar... Joking wif u oni...</td>\n",
       "    </tr>\n",
       "    <tr>\n",
       "      <th>2</th>\n",
       "      <td>spam</td>\n",
       "      <td>Free entry in 2 a wkly comp to win FA Cup fina...</td>\n",
       "    </tr>\n",
       "    <tr>\n",
       "      <th>3</th>\n",
       "      <td>ham</td>\n",
       "      <td>U dun say so early hor... U c already then say...</td>\n",
       "    </tr>\n",
       "    <tr>\n",
       "      <th>4</th>\n",
       "      <td>ham</td>\n",
       "      <td>Nah I don't think he goes to usf, he lives aro...</td>\n",
       "    </tr>\n",
       "  </tbody>\n",
       "</table>\n",
       "</div>"
      ],
      "text/plain": [
       "  label                                            message\n",
       "0   ham  Go until jurong point, crazy.. Available only ...\n",
       "1   ham                      Ok lar... Joking wif u oni...\n",
       "2  spam  Free entry in 2 a wkly comp to win FA Cup fina...\n",
       "3   ham  U dun say so early hor... U c already then say...\n",
       "4   ham  Nah I don't think he goes to usf, he lives aro..."
      ]
     },
     "execution_count": 10,
     "metadata": {},
     "output_type": "execute_result"
    }
   ],
   "source": [
    "messages.head()"
   ]
  },
  {
   "cell_type": "code",
   "execution_count": 47,
   "metadata": {
    "collapsed": false
   },
   "outputs": [
    {
     "name": "stdout",
     "output_type": "stream",
     "text": [
      "                                                        message\n",
      "label                                                          \n",
      "ham   count                                                4825\n",
      "      unique                                               4516\n",
      "      top                                Sorry, I'll call later\n",
      "      freq                                                   30\n",
      "spam  count                                                 747\n",
      "      unique                                                653\n",
      "      top     Please call our customer service representativ...\n",
      "      freq                                                    4\n"
     ]
    }
   ],
   "source": [
    "print(messages.groupby('label').describe())"
   ]
  },
  {
   "cell_type": "markdown",
   "metadata": {
    "collapsed": true
   },
   "source": [
    "Как показывает группировка данных по классам, датасет не сбалансированный, так как спама сильно больше, чем не спама. Если всем новым наблюдениям присваивать класс ham, то точность будет достаточно высокой, но с точки зрения задачи классификации спами это плохое решение, так как такой классификатор вообще не будет отсеивать спам. "
   ]
  },
  {
   "cell_type": "markdown",
   "metadata": {
    "collapsed": true
   },
   "source": [
    "**Балансирую данные**"
   ]
  },
  {
   "cell_type": "code",
   "execution_count": 48,
   "metadata": {
    "collapsed": false
   },
   "outputs": [],
   "source": [
    "spam = messages[messages['label'] == 'spam']"
   ]
  },
  {
   "cell_type": "code",
   "execution_count": 49,
   "metadata": {
    "collapsed": false
   },
   "outputs": [
    {
     "data": {
      "text/html": [
       "<div>\n",
       "<table border=\"1\" class=\"dataframe\">\n",
       "  <thead>\n",
       "    <tr style=\"text-align: right;\">\n",
       "      <th></th>\n",
       "      <th>label</th>\n",
       "      <th>message</th>\n",
       "    </tr>\n",
       "  </thead>\n",
       "  <tbody>\n",
       "    <tr>\n",
       "      <th>2</th>\n",
       "      <td>spam</td>\n",
       "      <td>Free entry in 2 a wkly comp to win FA Cup fina...</td>\n",
       "    </tr>\n",
       "    <tr>\n",
       "      <th>5</th>\n",
       "      <td>spam</td>\n",
       "      <td>FreeMsg Hey there darling it's been 3 week's n...</td>\n",
       "    </tr>\n",
       "    <tr>\n",
       "      <th>8</th>\n",
       "      <td>spam</td>\n",
       "      <td>WINNER!! As a valued network customer you have...</td>\n",
       "    </tr>\n",
       "    <tr>\n",
       "      <th>9</th>\n",
       "      <td>spam</td>\n",
       "      <td>Had your mobile 11 months or more? U R entitle...</td>\n",
       "    </tr>\n",
       "    <tr>\n",
       "      <th>11</th>\n",
       "      <td>spam</td>\n",
       "      <td>SIX chances to win CASH! From 100 to 20,000 po...</td>\n",
       "    </tr>\n",
       "  </tbody>\n",
       "</table>\n",
       "</div>"
      ],
      "text/plain": [
       "   label                                            message\n",
       "2   spam  Free entry in 2 a wkly comp to win FA Cup fina...\n",
       "5   spam  FreeMsg Hey there darling it's been 3 week's n...\n",
       "8   spam  WINNER!! As a valued network customer you have...\n",
       "9   spam  Had your mobile 11 months or more? U R entitle...\n",
       "11  spam  SIX chances to win CASH! From 100 to 20,000 po..."
      ]
     },
     "execution_count": 49,
     "metadata": {},
     "output_type": "execute_result"
    }
   ],
   "source": [
    "spam.head()"
   ]
  },
  {
   "cell_type": "code",
   "execution_count": 62,
   "metadata": {
    "collapsed": true
   },
   "outputs": [],
   "source": [
    "ham = messages[messages['label'] == 'ham']"
   ]
  },
  {
   "cell_type": "code",
   "execution_count": 28,
   "metadata": {
    "collapsed": false
   },
   "outputs": [
    {
     "name": "stdout",
     "output_type": "stream",
     "text": [
      "4825\n"
     ]
    }
   ],
   "source": [
    "print(len(ham))"
   ]
  },
  {
   "cell_type": "code",
   "execution_count": 61,
   "metadata": {
    "collapsed": false
   },
   "outputs": [
    {
     "name": "stdout",
     "output_type": "stream",
     "text": [
      "747\n"
     ]
    }
   ],
   "source": [
    "less_ham = ham.sample(n=len(spam))\n",
    "print(len(less_ham))"
   ]
  },
  {
   "cell_type": "code",
   "execution_count": 351,
   "metadata": {
    "collapsed": false
   },
   "outputs": [
    {
     "name": "stdout",
     "output_type": "stream",
     "text": [
      "                                                        message\n",
      "label                                                          \n",
      "ham   count                                                 747\n",
      "      unique                                                732\n",
      "      top                                Sorry, I'll call later\n",
      "      freq                                                    4\n",
      "spam  count                                                 747\n",
      "      unique                                                653\n",
      "      top     Please call our customer service representativ...\n",
      "      freq                                                    4\n"
     ]
    }
   ],
   "source": [
    "balanced = pandas.concat([less_ham, spam])\n",
    "print(balanced.groupby('label').describe())"
   ]
  },
  {
   "cell_type": "markdown",
   "metadata": {},
   "source": [
    "Теперь соотношение 1:1"
   ]
  },
  {
   "cell_type": "markdown",
   "metadata": {},
   "source": [
    "## Наивный Байес, фичи – слова"
   ]
  },
  {
   "cell_type": "markdown",
   "metadata": {},
   "source": [
    "Обучаю модель с дефолтными характеристиками: убираем знаки препинания, не лемматизируем."
   ]
  },
  {
   "cell_type": "code",
   "execution_count": 187,
   "metadata": {
    "collapsed": false
   },
   "outputs": [],
   "source": [
    "bow = CountVectorizer()\n",
    "bow.fit_transform(balanced['message'])\n",
    "bowed_messages = bow.transform(balanced['message'])"
   ]
  },
  {
   "cell_type": "code",
   "execution_count": 188,
   "metadata": {
    "collapsed": false
   },
   "outputs": [
    {
     "data": {
      "text/plain": [
       "['gettin',\n",
       " 'fyi',\n",
       " 'breathe1',\n",
       " 'text',\n",
       " 'hoody',\n",
       " 'pages',\n",
       " 'panther',\n",
       " '08712101358',\n",
       " 'chatlines',\n",
       " 'smiling']"
      ]
     },
     "execution_count": 188,
     "metadata": {},
     "output_type": "execute_result"
    }
   ],
   "source": [
    "# 10 рандомных токенов\n",
    "list(bow.vocabulary_.keys())[:10]"
   ]
  },
  {
   "cell_type": "markdown",
   "metadata": {},
   "source": [
    "Как видим, по дефолту ничего не лемматизируется."
   ]
  },
  {
   "cell_type": "code",
   "execution_count": 189,
   "metadata": {
    "collapsed": false
   },
   "outputs": [
    {
     "data": {
      "text/plain": [
       "MultinomialNB(alpha=1.0, class_prior=None, fit_prior=True)"
      ]
     },
     "execution_count": 189,
     "metadata": {},
     "output_type": "execute_result"
    }
   ],
   "source": [
    "naive_model = MultinomialNB()\n",
    "naive_model.fit(bowed_messages, balanced['label'])"
   ]
  },
  {
   "cell_type": "code",
   "execution_count": 191,
   "metadata": {
    "collapsed": false
   },
   "outputs": [
    {
     "name": "stdout",
     "output_type": "stream",
     "text": [
      "0.963 0.011\n"
     ]
    }
   ],
   "source": [
    "cv_results = cross_val_score(naive_model, bowed_messages, balanced['label'], cv=10, scoring='accuracy')\n",
    "print(round(cv_results.mean(), 3), round(cv_results.std(), 3))"
   ]
  },
  {
   "cell_type": "markdown",
   "metadata": {},
   "source": [
    "Теперь попробуем оставить знаки препинания, используя токенизатор word_tokenize. Он оставляет знаки препинания."
   ]
  },
  {
   "cell_type": "code",
   "execution_count": 209,
   "metadata": {
    "collapsed": false
   },
   "outputs": [
    {
     "name": "stdout",
     "output_type": "stream",
     "text": [
      "0.954 0.015\n"
     ]
    }
   ],
   "source": [
    "def tokenize_leave_punct(text): return word_tokenize(text.lower())\n",
    "\n",
    "bow = CountVectorizer(tokenizer=tokenize_leave_punct)\n",
    "bow.fit_transform(balanced['message'])\n",
    "bowed_messages = bow.transform(balanced['message'])\n",
    "naive_model = MultinomialNB()\n",
    "naive_model.fit(bowed_messages, balanced['label'])\n",
    "cv_results = cross_val_score(naive_model, bowed_messages, balanced['label'], cv=10, scoring='accuracy')\n",
    "print(round(cv_results.mean(), 3), round(cv_results.std(), 3))"
   ]
  },
  {
   "cell_type": "markdown",
   "metadata": {},
   "source": [
    "Со знаками препинания получилось хуже. Правда, эксперимент был не совсем чистым, потому что токенизаторы вообще разные."
   ]
  },
  {
   "cell_type": "markdown",
   "metadata": {
    "collapsed": true
   },
   "source": [
    "Теперь попробуем лемматизировать."
   ]
  },
  {
   "cell_type": "code",
   "execution_count": 194,
   "metadata": {
    "collapsed": false
   },
   "outputs": [],
   "source": [
    "from nltk.stem.wordnet import WordNetLemmatizer\n",
    "lmtzr = WordNetLemmatizer()\n",
    "\n",
    "def lemmatize(word):\n",
    "    noun = lmtzr.lemmatize(word)\n",
    "    verb = lmtzr.lemmatize(word, 'v')\n",
    "    if verb != word:\n",
    "        return verb\n",
    "    return noun"
   ]
  },
  {
   "cell_type": "markdown",
   "metadata": {},
   "source": [
    "Attention!\n",
    "Кусочек кода в клетке выше позаимствован у Тани Гавриловой после того, как мы с ней обсудили следующую проблему (обнаруженную ей). У лемматизатора ворднетлемматайзера nltk есть аргумент, отвечающий за часть речи. По дефолту он считает, что ему подали существительное, и лемматизирует его как существительное. Соответственно, результатом для слова leaves будет leaf, а для going так и останется going."
   ]
  },
  {
   "cell_type": "code",
   "execution_count": 202,
   "metadata": {
    "collapsed": false
   },
   "outputs": [
    {
     "data": {
      "text/plain": [
       "'leaf'"
      ]
     },
     "execution_count": 202,
     "metadata": {},
     "output_type": "execute_result"
    }
   ],
   "source": [
    "lmtzr.lemmatize('leaves')"
   ]
  },
  {
   "cell_type": "code",
   "execution_count": 203,
   "metadata": {
    "collapsed": false
   },
   "outputs": [
    {
     "data": {
      "text/plain": [
       "'going'"
      ]
     },
     "execution_count": 203,
     "metadata": {},
     "output_type": "execute_result"
    }
   ],
   "source": [
    "lmtzr.lemmatize('going')"
   ]
  },
  {
   "cell_type": "markdown",
   "metadata": {},
   "source": [
    "Естественно, если подать ему аргумент 'v', всё будет иначе."
   ]
  },
  {
   "cell_type": "code",
   "execution_count": 200,
   "metadata": {
    "collapsed": false
   },
   "outputs": [
    {
     "data": {
      "text/plain": [
       "'leave'"
      ]
     },
     "execution_count": 200,
     "metadata": {},
     "output_type": "execute_result"
    }
   ],
   "source": [
    "lmtzr.lemmatize('leaves', 'v')"
   ]
  },
  {
   "cell_type": "code",
   "execution_count": 201,
   "metadata": {
    "collapsed": false
   },
   "outputs": [
    {
     "data": {
      "text/plain": [
       "'go'"
      ]
     },
     "execution_count": 201,
     "metadata": {},
     "output_type": "execute_result"
    }
   ],
   "source": [
    "lmtzr.lemmatize('going', 'v')"
   ]
  },
  {
   "cell_type": "markdown",
   "metadata": {},
   "source": [
    "Сообветственно, чтобы лемматизация была адекватной, нужно сначала использовать POS тэггер, его выдачу преобразовывать и подавать на вход лемматизатору. У nltk есть pos_tag, но те тэги, который она выдаёт, отличаются от тэгов, которые принимает на вход лемматизатор, причём их много и они разные. Соответственно, можно со всем этим долго возиться и бомбить на тему того, почему нельзя было разу сделать нормальный лемматизатор. А можно воспользоваться тем костылём, что если лемматизация словоформы как глагола даёт какой-то результат, отличный от самой словоформы, то, видимо, это был глагол (или существительное во множественном числе, которое лемматизируется так же). Проблему с leaves это всё же решит плохо, но leaves больше похоже на единичный случай."
   ]
  },
  {
   "cell_type": "code",
   "execution_count": 207,
   "metadata": {
    "collapsed": false
   },
   "outputs": [],
   "source": [
    "def tokenize_lemmatize(text):\n",
    "    text = word_tokenize(text.lower())\n",
    "    return [lemmatize(word) for word in text]"
   ]
  },
  {
   "cell_type": "code",
   "execution_count": 208,
   "metadata": {
    "collapsed": false
   },
   "outputs": [
    {
     "name": "stdout",
     "output_type": "stream",
     "text": [
      "0.954 0.012\n"
     ]
    }
   ],
   "source": [
    "bow = CountVectorizer(tokenizer=tokenize_lemmatize)\n",
    "bow.fit_transform(balanced['message'])\n",
    "bowed_messages = bow.transform(balanced['message'])\n",
    "naive_model = MultinomialNB()\n",
    "naive_model.fit(bowed_messages, balanced['label'])\n",
    "cv_results = cross_val_score(naive_model, bowed_messages, balanced['label'], cv=10, scoring='accuracy')\n",
    "print(round(cv_results.mean(), 3), round(cv_results.std(), 3))"
   ]
  },
  {
   "cell_type": "markdown",
   "metadata": {},
   "source": [
    "Результаты практически не изменились."
   ]
  },
  {
   "cell_type": "code",
   "execution_count": 218,
   "metadata": {
    "collapsed": false
   },
   "outputs": [
    {
     "name": "stdout",
     "output_type": "stream",
     "text": [
      "0.955 0.014\n"
     ]
    }
   ],
   "source": [
    "def tokenize_lemmatize(text):\n",
    "    text = word_tokenize(text.lower())\n",
    "    return [lemmatize(word) for word in text if word not in '!?,.\":;']\n",
    "\n",
    "bow = CountVectorizer(tokenizer=tokenize_lemmatize)\n",
    "bow.fit_transform(balanced['message'])\n",
    "bowed_messages = bow.transform(balanced['message'])\n",
    "naive_model = MultinomialNB()\n",
    "naive_model.fit(bowed_messages, balanced['label'])\n",
    "cv_results = cross_val_score(naive_model, bowed_messages, balanced['label'], cv=10, scoring='accuracy')\n",
    "print(round(cv_results.mean(), 3), round(cv_results.std(), 3))"
   ]
  },
  {
   "cell_type": "markdown",
   "metadata": {
    "collapsed": false
   },
   "source": [
    "Без знаков препинания чуууть-чуть получше."
   ]
  },
  {
   "cell_type": "markdown",
   "metadata": {},
   "source": [
    "Теперь попробую убирать стоп-слова."
   ]
  },
  {
   "cell_type": "code",
   "execution_count": 221,
   "metadata": {
    "collapsed": false
   },
   "outputs": [
    {
     "name": "stdout",
     "output_type": "stream",
     "text": [
      "0.944 0.014\n"
     ]
    }
   ],
   "source": [
    "from nltk.corpus import stopwords\n",
    "STOPWORDS = stopwords.words('english')\n",
    "\n",
    "def tokenize_lemmatize(text):\n",
    "    text = word_tokenize(text.lower())\n",
    "    text = [lemmatize(word) for word in text if word not in '!?,.\":;']\n",
    "    return [word for word in text if word not in STOPWORDS]\n",
    "\n",
    "bow = CountVectorizer(tokenizer=tokenize_lemmatize)\n",
    "bow.fit_transform(balanced['message'])\n",
    "bowed_messages = bow.transform(balanced['message'])\n",
    "naive_model = MultinomialNB()\n",
    "naive_model.fit(bowed_messages, balanced['label'])\n",
    "cv_results = cross_val_score(naive_model, bowed_messages, balanced['label'], cv=10, scoring='accuracy')\n",
    "print(round(cv_results.mean(), 3), round(cv_results.std(), 3))"
   ]
  },
  {
   "cell_type": "markdown",
   "metadata": {},
   "source": [
    "Значительно хуже. :/\n",
    "\n",
    "\n",
    "В общем, кажется, лучше не лемматизировать и убирать знаки препинания (или просто дефолтный токенизатор CountVectorizer работает настолько лучше). А что если использовать его и убирать стоп-слова?"
   ]
  },
  {
   "cell_type": "code",
   "execution_count": 281,
   "metadata": {
    "collapsed": false
   },
   "outputs": [
    {
     "name": "stdout",
     "output_type": "stream",
     "text": [
      "0.95 0.018\n"
     ]
    }
   ],
   "source": [
    "bow = CountVectorizer(stop_words=STOPWORDS)\n",
    "bow.fit_transform(balanced['message'])\n",
    "bowed_messages = bow.transform(balanced['message'])\n",
    "naive_model = MultinomialNB()\n",
    "naive_model.fit(bowed_messages, balanced['label'])\n",
    "cv_results = cross_val_score(naive_model, bowed_messages, balanced['label'], cv=10, scoring='accuracy')\n",
    "print(round(cv_results.mean(), 3), round(cv_results.std(), 3))"
   ]
  },
  {
   "cell_type": "markdown",
   "metadata": {},
   "source": [
    "Хм, нет, убирать стоп-слова было явно плохой идеей. Хотя встроенный токенизатор и правда работает лучше."
   ]
  },
  {
   "cell_type": "markdown",
   "metadata": {},
   "source": [
    "Теперь попробую дефолтные настройки и ограничивать df."
   ]
  },
  {
   "cell_type": "markdown",
   "metadata": {},
   "source": [
    "Сверху:"
   ]
  },
  {
   "cell_type": "code",
   "execution_count": 232,
   "metadata": {
    "collapsed": false
   },
   "outputs": [
    {
     "name": "stdout",
     "output_type": "stream",
     "text": [
      "0.964 0.011\n"
     ]
    }
   ],
   "source": [
    "bow = CountVectorizer(max_df=0.3)\n",
    "bow.fit_transform(balanced['message'])\n",
    "bowed_messages = bow.transform(balanced['message'])\n",
    "naive_model = MultinomialNB()\n",
    "naive_model.fit(bowed_messages, balanced['label'])\n",
    "cv_results = cross_val_score(naive_model, bowed_messages, balanced['label'], cv=10, scoring='accuracy')\n",
    "print(round(cv_results.mean(), 3), round(cv_results.std(), 3))"
   ]
  },
  {
   "cell_type": "markdown",
   "metadata": {},
   "source": [
    "Потрясающе, стало лучше, чем дефолт! (Но не сильно).\n",
    "Я попробовала несколько разных порогов, лучше всего работает в районе 0.3."
   ]
  },
  {
   "cell_type": "markdown",
   "metadata": {},
   "source": [
    "Снизу:"
   ]
  },
  {
   "cell_type": "code",
   "execution_count": 295,
   "metadata": {
    "collapsed": false
   },
   "outputs": [
    {
     "name": "stdout",
     "output_type": "stream",
     "text": [
      "0.965 0.01\n"
     ]
    }
   ],
   "source": [
    "bow = CountVectorizer(min_df=2)\n",
    "bow.fit_transform(balanced['message'])\n",
    "bowed_messages = bow.transform(balanced['message'])\n",
    "naive_model = MultinomialNB()\n",
    "naive_model.fit(bowed_messages, balanced['label'])\n",
    "cv_results = cross_val_score(naive_model, bowed_messages, balanced['label'], cv=10, scoring='accuracy')\n",
    "print(round(cv_results.mean(), 3), round(cv_results.std(), 3))"
   ]
  },
  {
   "cell_type": "markdown",
   "metadata": {},
   "source": [
    "Лучше всего работает порог 2."
   ]
  },
  {
   "cell_type": "markdown",
   "metadata": {},
   "source": [
    "Кажется, это вообще лучший результат. А вот полный classification_report для него."
   ]
  },
  {
   "cell_type": "code",
   "execution_count": 291,
   "metadata": {
    "collapsed": false
   },
   "outputs": [
    {
     "name": "stdout",
     "output_type": "stream",
     "text": [
      "             precision    recall  f1-score   support\n",
      "\n",
      "        ham       0.95      0.98      0.97       747\n",
      "       spam       0.98      0.95      0.96       747\n",
      "\n",
      "avg / total       0.96      0.96      0.96      1494\n",
      "\n"
     ]
    }
   ],
   "source": [
    "from sklearn.model_selection import cross_val_predict\n",
    "\n",
    "predicted = cross_val_predict(naive_model, bowed_messages, balanced['label'], cv=10)\n",
    "print(classification_report(balanced['label'], predicted))"
   ]
  },
  {
   "cell_type": "markdown",
   "metadata": {},
   "source": [
    "И сверху, и снизу:"
   ]
  },
  {
   "cell_type": "code",
   "execution_count": 252,
   "metadata": {
    "collapsed": false
   },
   "outputs": [
    {
     "name": "stdout",
     "output_type": "stream",
     "text": [
      "0.963 0.01\n"
     ]
    }
   ],
   "source": [
    "bow = CountVectorizer(min_df=2, max_df=0.3)\n",
    "bow.fit_transform(balanced['message'])\n",
    "bowed_messages = bow.transform(balanced['message'])\n",
    "naive_model = MultinomialNB()\n",
    "naive_model.fit(bowed_messages, balanced['label'])\n",
    "cv_results = cross_val_score(naive_model, bowed_messages, balanced['label'], cv=10, scoring='accuracy')\n",
    "print(round(cv_results.mean(), 3), round(cv_results.std(), 3))"
   ]
  },
  {
   "cell_type": "markdown",
   "metadata": {},
   "source": [
    "А вот так хуже о_О."
   ]
  },
  {
   "cell_type": "markdown",
   "metadata": {},
   "source": [
    "Теперь попробую TfIdfVectorizer с дефолтными настройками."
   ]
  },
  {
   "cell_type": "code",
   "execution_count": 268,
   "metadata": {
    "collapsed": false
   },
   "outputs": [
    {
     "name": "stdout",
     "output_type": "stream",
     "text": [
      "0.964 0.009\n"
     ]
    }
   ],
   "source": [
    "count_vect = CountVectorizer()\n",
    "counts = count_vect.fit_transform(balanced['message'])\n",
    "tfidf_transformer = TfidfTransformer().fit(counts)\n",
    "tfidf = tfidf_transformer.transform(counts)\n",
    "naive_model = MultinomialNB()\n",
    "naive_model.fit(tfidf, balanced['label'])\n",
    "cv_results = cross_val_score(naive_model, tfidf, balanced['label'], cv=10, scoring='accuracy')\n",
    "print(round(cv_results.mean(), 3), round(cv_results.std(), 3))"
   ]
  },
  {
   "cell_type": "markdown",
   "metadata": {},
   "source": [
    "Кажется, очень даже неплохие результаты. А что если добавить чего-нибудь успешного из прошлых шагов?"
   ]
  },
  {
   "cell_type": "code",
   "execution_count": 273,
   "metadata": {
    "collapsed": false
   },
   "outputs": [
    {
     "name": "stdout",
     "output_type": "stream",
     "text": [
      "0.957 0.015\n"
     ]
    }
   ],
   "source": [
    "count_vect = CountVectorizer(min_df=2)\n",
    "counts = count_vect.fit_transform(balanced['message'])\n",
    "tfidf_transformer = TfidfTransformer().fit(counts)\n",
    "tfidf = tfidf_transformer.transform(counts)\n",
    "naive_model = MultinomialNB()\n",
    "naive_model.fit(tfidf, balanced['label'])\n",
    "cv_results = cross_val_score(naive_model, tfidf, balanced['label'], cv=10, scoring='accuracy')\n",
    "print(round(cv_results.mean(), 3), round(cv_results.std(), 3))"
   ]
  },
  {
   "cell_type": "markdown",
   "metadata": {},
   "source": [
    "Не очень-то. Ну ладно."
   ]
  },
  {
   "cell_type": "markdown",
   "metadata": {},
   "source": [
    "**В общем, лучше всего получилось, кажется, при дефолтных настройках CountVectorizer с нижним ограничением на количество вхождений 2 и с применением TfidfTransformer.**"
   ]
  },
  {
   "cell_type": "markdown",
   "metadata": {},
   "source": [
    "## Деревья решений и рандомный лес."
   ]
  },
  {
   "cell_type": "code",
   "execution_count": 307,
   "metadata": {
    "collapsed": false
   },
   "outputs": [
    {
     "name": "stdout",
     "output_type": "stream",
     "text": [
      "0.922 0.021\n"
     ]
    }
   ],
   "source": [
    "from sklearn.tree import DecisionTreeClassifier\n",
    "\n",
    "bow = CountVectorizer()\n",
    "bow.fit_transform(balanced['message'])\n",
    "bowed_messages = bow.transform(balanced['message'])\n",
    "\n",
    "tree = DecisionTreeClassifier(min_samples_split=5)\n",
    "tree.fit(bowed_messages, balanced['label'])\n",
    "cv_results = cross_val_score(tree, bowed_messages, balanced['label'], cv=10, scoring='accuracy')\n",
    "print(round(cv_results.mean(), 3), round(cv_results.std(), 3))"
   ]
  },
  {
   "cell_type": "code",
   "execution_count": 292,
   "metadata": {
    "collapsed": false
   },
   "outputs": [
    {
     "name": "stdout",
     "output_type": "stream",
     "text": [
      "             precision    recall  f1-score   support\n",
      "\n",
      "        ham       0.91      0.94      0.92       747\n",
      "       spam       0.94      0.91      0.92       747\n",
      "\n",
      "avg / total       0.92      0.92      0.92      1494\n",
      "\n"
     ]
    }
   ],
   "source": [
    "predicted = cross_val_predict(tree, bowed_messages, balanced['label'], cv=10)\n",
    "print(classification_report(balanced['label'], predicted))"
   ]
  },
  {
   "cell_type": "markdown",
   "metadata": {},
   "source": [
    "Дерево решений работает значительно хуже."
   ]
  },
  {
   "cell_type": "code",
   "execution_count": 309,
   "metadata": {
    "collapsed": false
   },
   "outputs": [
    {
     "name": "stdout",
     "output_type": "stream",
     "text": [
      "0.939 0.021\n"
     ]
    }
   ],
   "source": [
    "from sklearn.ensemble import RandomForestClassifier\n",
    "\n",
    "model = RandomForestClassifier()\n",
    "model.fit(bowed_messages, balanced['label'])\n",
    "cv_results = cross_val_score(model, bowed_messages, balanced['label'], cv=10, scoring='accuracy')\n",
    "print(round(cv_results.mean(), 3), round(cv_results.std(), 3))"
   ]
  },
  {
   "cell_type": "code",
   "execution_count": 310,
   "metadata": {
    "collapsed": false
   },
   "outputs": [
    {
     "name": "stdout",
     "output_type": "stream",
     "text": [
      "             precision    recall  f1-score   support\n",
      "\n",
      "        ham       0.89      0.98      0.94       747\n",
      "       spam       0.98      0.88      0.93       747\n",
      "\n",
      "avg / total       0.94      0.93      0.93      1494\n",
      "\n"
     ]
    }
   ],
   "source": [
    "predicted = cross_val_predict(model, bowed_messages, balanced['label'], cv=10)\n",
    "print(classification_report(balanced['label'], predicted))"
   ]
  },
  {
   "cell_type": "markdown",
   "metadata": {},
   "source": [
    "Рандомный лес лучше, чем дерево, но хуже, чем наивный Байес."
   ]
  },
  {
   "cell_type": "markdown",
   "metadata": {},
   "source": [
    "Теперь построим для всего этого learning curve."
   ]
  },
  {
   "cell_type": "code",
   "execution_count": 305,
   "metadata": {
    "collapsed": true
   },
   "outputs": [],
   "source": [
    "# скопипащено из туториала склёрна\n",
    "from sklearn.model_selection import learning_curve\n",
    "\n",
    "def plot_learning_curve(estimator, title, X, y, ylim=None, cv=None,\n",
    "                        n_jobs=1, train_sizes=np.linspace(.1, 1.0, 5)):\n",
    "    plt.figure()\n",
    "    plt.title(title)\n",
    "    if ylim is not None:\n",
    "        plt.ylim(*ylim)\n",
    "    plt.xlabel(\"Training examples\")\n",
    "    plt.ylabel(\"Score\")\n",
    "    train_sizes, train_scores, test_scores = learning_curve(\n",
    "        estimator, X, y, cv=cv, n_jobs=n_jobs, train_sizes=train_sizes)\n",
    "    train_scores_mean = np.mean(train_scores, axis=1)\n",
    "    train_scores_std = np.std(train_scores, axis=1)\n",
    "    test_scores_mean = np.mean(test_scores, axis=1)\n",
    "    test_scores_std = np.std(test_scores, axis=1)\n",
    "    plt.grid()\n",
    "\n",
    "    plt.fill_between(train_sizes, train_scores_mean - train_scores_std,\n",
    "                     train_scores_mean + train_scores_std, alpha=0.1,\n",
    "                     color=\"r\")\n",
    "    plt.fill_between(train_sizes, test_scores_mean - test_scores_std,\n",
    "                     test_scores_mean + test_scores_std, alpha=0.1, color=\"g\")\n",
    "    plt.plot(train_sizes, train_scores_mean, 'o-', color=\"r\",\n",
    "             label=\"Training score\")\n",
    "    plt.plot(train_sizes, test_scores_mean, 'o-', color=\"g\",\n",
    "             label=\"Cross-validation score\")\n",
    "\n",
    "    plt.legend(loc=\"best\")\n",
    "    return plt"
   ]
  },
  {
   "cell_type": "code",
   "execution_count": 306,
   "metadata": {
    "collapsed": false
   },
   "outputs": [
    {
     "data": {
      "image/png": "[encoded data removed]",
      "text/plain": [
       "<matplotlib.figure.Figure at 0xa1ab14ac>"
      ]
     },
     "metadata": {},
     "output_type": "display_data"
    }
   ],
   "source": [
    "# это та модель, которая даёт лучший результат (classification_report для неё там выше)\n",
    "plot_learning_curve(naive_model, \"Learning curve. Naive Bayes\", bowed_messages, \n",
    "                    balanced['label'], ylim=(0.7, 1.01), cv=30, n_jobs=4)\n",
    "plt.show()"
   ]
  },
  {
   "cell_type": "code",
   "execution_count": 308,
   "metadata": {
    "collapsed": false
   },
   "outputs": [
    {
     "data": {
      "image/png": "[encoded data removed]",
      "text/plain": [
       "<matplotlib.figure.Figure at 0xa90d86ac>"
      ]
     },
     "metadata": {},
     "output_type": "display_data"
    }
   ],
   "source": [
    "plot_learning_curve(tree, \"Learning curve. Decision Tree\", bowed_messages, \n",
    "                    balanced['label'], ylim=(0.7, 1.01), cv=30, n_jobs=4)\n",
    "plt.show()"
   ]
  },
  {
   "cell_type": "code",
   "execution_count": 311,
   "metadata": {
    "collapsed": false
   },
   "outputs": [
    {
     "data": {
      "image/png": "[encoded data removed]",
      "text/plain": [
       "<matplotlib.figure.Figure at 0xa5e079cc>"
      ]
     },
     "metadata": {},
     "output_type": "display_data"
    }
   ],
   "source": [
    "plot_learning_curve(model, \"Learning curve. Random Forest\", bowed_messages, \n",
    "                    balanced['label'], ylim=(0.7, 1.01), cv=30, n_jobs=4)\n",
    "plt.show()"
   ]
  },
  {
   "cell_type": "markdown",
   "metadata": {},
   "source": [
    "Интерпрпетация: для дерева решений и рандомного леса данных слишком мало."
   ]
  },
  {
   "cell_type": "markdown",
   "metadata": {},
   "source": [
    "## Наивный Байес с другими фичами."
   ]
  },
  {
   "cell_type": "markdown",
   "metadata": {},
   "source": [
    "Делаю фичами длину сообщения словах. Потому что ~~могу~~ наверное что-то из этого длиннее."
   ]
  },
  {
   "cell_type": "code",
   "execution_count": 354,
   "metadata": {
    "collapsed": false
   },
   "outputs": [],
   "source": [
    "balanced['word_length'] = balanced['message'].map(lambda text: len(text.split()))"
   ]
  },
  {
   "cell_type": "markdown",
   "metadata": {},
   "source": [
    "Делаю фичами количество капсовых букв в сообщении. Просмотр данных глазами показывает, что в спаме ОЧЕНЬ МНОГО КАПСА."
   ]
  },
  {
   "cell_type": "code",
   "execution_count": 353,
   "metadata": {
    "collapsed": false
   },
   "outputs": [
    {
     "data": {
      "text/html": [
       "<div>\n",
       "<table border=\"1\" class=\"dataframe\">\n",
       "  <thead>\n",
       "    <tr style=\"text-align: right;\">\n",
       "      <th></th>\n",
       "      <th>label</th>\n",
       "      <th>message</th>\n",
       "      <th>word_length</th>\n",
       "      <th>num_of_caps</th>\n",
       "    </tr>\n",
       "  </thead>\n",
       "  <tbody>\n",
       "    <tr>\n",
       "      <th>4674</th>\n",
       "      <td>ham</td>\n",
       "      <td>I forgot 2 ask ü all smth.. There's a card on ...</td>\n",
       "      <td>25</td>\n",
       "      <td>3</td>\n",
       "    </tr>\n",
       "    <tr>\n",
       "      <th>220</th>\n",
       "      <td>ham</td>\n",
       "      <td>Yeah you should. I think you can use your gt a...</td>\n",
       "      <td>35</td>\n",
       "      <td>4</td>\n",
       "    </tr>\n",
       "    <tr>\n",
       "      <th>1664</th>\n",
       "      <td>ham</td>\n",
       "      <td>S but mostly not like that.</td>\n",
       "      <td>6</td>\n",
       "      <td>1</td>\n",
       "    </tr>\n",
       "    <tr>\n",
       "      <th>332</th>\n",
       "      <td>ham</td>\n",
       "      <td>Maybe i could get book out tomo then return it...</td>\n",
       "      <td>14</td>\n",
       "      <td>2</td>\n",
       "    </tr>\n",
       "    <tr>\n",
       "      <th>4343</th>\n",
       "      <td>ham</td>\n",
       "      <td>Ha! I wouldn't say that I just didn't read any...</td>\n",
       "      <td>27</td>\n",
       "      <td>4</td>\n",
       "    </tr>\n",
       "  </tbody>\n",
       "</table>\n",
       "</div>"
      ],
      "text/plain": [
       "     label                                            message  word_length  \\\n",
       "4674   ham  I forgot 2 ask ü all smth.. There's a card on ...           25   \n",
       "220    ham  Yeah you should. I think you can use your gt a...           35   \n",
       "1664   ham                        S but mostly not like that.            6   \n",
       "332    ham  Maybe i could get book out tomo then return it...           14   \n",
       "4343   ham  Ha! I wouldn't say that I just didn't read any...           27   \n",
       "\n",
       "      num_of_caps  \n",
       "4674            3  \n",
       "220             4  \n",
       "1664            1  \n",
       "332             2  \n",
       "4343            4  "
      ]
     },
     "execution_count": 353,
     "metadata": {},
     "output_type": "execute_result"
    }
   ],
   "source": [
    "import string\n",
    "def count_caps(text):\n",
    "    return len([sym for sym in text if sym in string.ascii_uppercase])\n",
    "balanced['num_of_caps'] = balanced['message'].map(count_caps)\n",
    "balanced.head()"
   ]
  },
  {
   "cell_type": "code",
   "execution_count": 355,
   "metadata": {
    "collapsed": false
   },
   "outputs": [
    {
     "data": {
      "text/html": [
       "<div>\n",
       "<table border=\"1\" class=\"dataframe\">\n",
       "  <thead>\n",
       "    <tr style=\"text-align: right;\">\n",
       "      <th></th>\n",
       "      <th>label</th>\n",
       "      <th>message</th>\n",
       "      <th>word_length</th>\n",
       "      <th>num_of_caps</th>\n",
       "    </tr>\n",
       "  </thead>\n",
       "  <tbody>\n",
       "    <tr>\n",
       "      <th>5537</th>\n",
       "      <td>spam</td>\n",
       "      <td>Want explicit SEX in 30 secs? Ring 02073162414...</td>\n",
       "      <td>16</td>\n",
       "      <td>17</td>\n",
       "    </tr>\n",
       "    <tr>\n",
       "      <th>5540</th>\n",
       "      <td>spam</td>\n",
       "      <td>ASKED 3MOBILE IF 0870 CHATLINES INCLU IN FREE ...</td>\n",
       "      <td>33</td>\n",
       "      <td>104</td>\n",
       "    </tr>\n",
       "    <tr>\n",
       "      <th>5547</th>\n",
       "      <td>spam</td>\n",
       "      <td>Had your contract mobile 11 Mnths? Latest Moto...</td>\n",
       "      <td>28</td>\n",
       "      <td>20</td>\n",
       "    </tr>\n",
       "    <tr>\n",
       "      <th>5566</th>\n",
       "      <td>spam</td>\n",
       "      <td>REMINDER FROM O2: To get 2.50 pounds free call...</td>\n",
       "      <td>28</td>\n",
       "      <td>14</td>\n",
       "    </tr>\n",
       "    <tr>\n",
       "      <th>5567</th>\n",
       "      <td>spam</td>\n",
       "      <td>This is the 2nd time we have tried 2 contact u...</td>\n",
       "      <td>30</td>\n",
       "      <td>9</td>\n",
       "    </tr>\n",
       "  </tbody>\n",
       "</table>\n",
       "</div>"
      ],
      "text/plain": [
       "     label                                            message  word_length  \\\n",
       "5537  spam  Want explicit SEX in 30 secs? Ring 02073162414...           16   \n",
       "5540  spam  ASKED 3MOBILE IF 0870 CHATLINES INCLU IN FREE ...           33   \n",
       "5547  spam  Had your contract mobile 11 Mnths? Latest Moto...           28   \n",
       "5566  spam  REMINDER FROM O2: To get 2.50 pounds free call...           28   \n",
       "5567  spam  This is the 2nd time we have tried 2 contact u...           30   \n",
       "\n",
       "      num_of_caps  \n",
       "5537           17  \n",
       "5540          104  \n",
       "5547           20  \n",
       "5566           14  \n",
       "5567            9  "
      ]
     },
     "execution_count": 355,
     "metadata": {},
     "output_type": "execute_result"
    }
   ],
   "source": [
    "balanced.tail()"
   ]
  },
  {
   "cell_type": "code",
   "execution_count": 363,
   "metadata": {
    "collapsed": false
   },
   "outputs": [],
   "source": [
    "sms_y = balanced['label']\n",
    "sms_x = balanced.loc[:, ('word_length', 'num_of_caps')]\n",
    "train_x, test_x, train_y, test_y = train_test_split(sms_x, sms_y, test_size=0.2)"
   ]
  },
  {
   "cell_type": "code",
   "execution_count": 364,
   "metadata": {
    "collapsed": false
   },
   "outputs": [
    {
     "name": "stdout",
     "output_type": "stream",
     "text": [
      "             precision    recall  f1-score   support\n",
      "\n",
      "        ham       0.69      0.92      0.79       140\n",
      "       spam       0.90      0.64      0.75       159\n",
      "\n",
      "avg / total       0.80      0.77      0.77       299\n",
      "\n"
     ]
    }
   ],
   "source": [
    "naive_model = MultinomialNB()\n",
    "naive_model.fit(train_x, train_y)\n",
    "predict_y = naive_model.predict(test_x)\n",
    "print(classification_report(test_y, predict_y))"
   ]
  },
  {
   "cell_type": "markdown",
   "metadata": {},
   "source": [
    "С наивным Байесом получилось очень плохо."
   ]
  },
  {
   "cell_type": "code",
   "execution_count": 365,
   "metadata": {
    "collapsed": false
   },
   "outputs": [
    {
     "name": "stdout",
     "output_type": "stream",
     "text": [
      "             precision    recall  f1-score   support\n",
      "\n",
      "        ham       0.85      0.89      0.87       140\n",
      "       spam       0.90      0.86      0.88       159\n",
      "\n",
      "avg / total       0.88      0.88      0.88       299\n",
      "\n"
     ]
    }
   ],
   "source": [
    "tree = DecisionTreeClassifier()\n",
    "tree.fit(train_x, train_y)\n",
    "predict_y = tree.predict(test_x)\n",
    "print(classification_report(test_y, predict_y))"
   ]
  },
  {
   "cell_type": "markdown",
   "metadata": {},
   "source": [
    "С деревом внезапно гораздо лучше."
   ]
  },
  {
   "cell_type": "code",
   "execution_count": 366,
   "metadata": {
    "collapsed": false
   },
   "outputs": [
    {
     "name": "stdout",
     "output_type": "stream",
     "text": [
      "             precision    recall  f1-score   support\n",
      "\n",
      "        ham       0.88      0.89      0.89       140\n",
      "       spam       0.90      0.89      0.90       159\n",
      "\n",
      "avg / total       0.89      0.89      0.89       299\n",
      "\n"
     ]
    }
   ],
   "source": [
    "forest = RandomForestClassifier()\n",
    "forest.fit(train_x, train_y)\n",
    "predict_y = forest.predict(test_x)\n",
    "print(classification_report(test_y, predict_y))"
   ]
  },
  {
   "cell_type": "markdown",
   "metadata": {},
   "source": [
    "C рандомным лесом ещё чуть-чуть получше."
   ]
  },
  {
   "cell_type": "raw",
   "metadata": {},
   "source": [
    "Вывод: скорее всего, проблема с тем, что с собсвенными фичами стало хуже, заключается в том, что нужно ещё поподбирать параметры, поиграть с настройками, добавить ещё несколько фичей, и всё, на самом деле, будет гораздо лучше. Но если брать только длину сообщения в словах и количество букв капсом, показатели резко падают, потому что, видимо, данных становится слишком мало."
   ]
  },
  {
   "cell_type": "code",
   "execution_count": 371,
   "metadata": {
    "collapsed": false
   },
   "outputs": [
    {
     "data": {
      "text/html": [
       "<div>\n",
       "<table border=\"1\" class=\"dataframe\">\n",
       "  <thead>\n",
       "    <tr style=\"text-align: right;\">\n",
       "      <th></th>\n",
       "      <th>label</th>\n",
       "      <th>message</th>\n",
       "      <th>word_length</th>\n",
       "      <th>num_of_caps</th>\n",
       "      <th>num_of_punct</th>\n",
       "    </tr>\n",
       "  </thead>\n",
       "  <tbody>\n",
       "    <tr>\n",
       "      <th>5537</th>\n",
       "      <td>spam</td>\n",
       "      <td>Want explicit SEX in 30 secs? Ring 02073162414...</td>\n",
       "      <td>16</td>\n",
       "      <td>17</td>\n",
       "      <td>2</td>\n",
       "    </tr>\n",
       "    <tr>\n",
       "      <th>5540</th>\n",
       "      <td>spam</td>\n",
       "      <td>ASKED 3MOBILE IF 0870 CHATLINES INCLU IN FREE ...</td>\n",
       "      <td>33</td>\n",
       "      <td>104</td>\n",
       "      <td>0</td>\n",
       "    </tr>\n",
       "    <tr>\n",
       "      <th>5547</th>\n",
       "      <td>spam</td>\n",
       "      <td>Had your contract mobile 11 Mnths? Latest Moto...</td>\n",
       "      <td>28</td>\n",
       "      <td>20</td>\n",
       "      <td>2</td>\n",
       "    </tr>\n",
       "    <tr>\n",
       "      <th>5566</th>\n",
       "      <td>spam</td>\n",
       "      <td>REMINDER FROM O2: To get 2.50 pounds free call...</td>\n",
       "      <td>28</td>\n",
       "      <td>14</td>\n",
       "      <td>0</td>\n",
       "    </tr>\n",
       "    <tr>\n",
       "      <th>5567</th>\n",
       "      <td>spam</td>\n",
       "      <td>This is the 2nd time we have tried 2 contact u...</td>\n",
       "      <td>30</td>\n",
       "      <td>9</td>\n",
       "      <td>1</td>\n",
       "    </tr>\n",
       "  </tbody>\n",
       "</table>\n",
       "</div>"
      ],
      "text/plain": [
       "     label                                            message  word_length  \\\n",
       "5537  spam  Want explicit SEX in 30 secs? Ring 02073162414...           16   \n",
       "5540  spam  ASKED 3MOBILE IF 0870 CHATLINES INCLU IN FREE ...           33   \n",
       "5547  spam  Had your contract mobile 11 Mnths? Latest Moto...           28   \n",
       "5566  spam  REMINDER FROM O2: To get 2.50 pounds free call...           28   \n",
       "5567  spam  This is the 2nd time we have tried 2 contact u...           30   \n",
       "\n",
       "      num_of_caps  num_of_punct  \n",
       "5537           17             2  \n",
       "5540          104             0  \n",
       "5547           20             2  \n",
       "5566           14             0  \n",
       "5567            9             1  "
      ]
     },
     "execution_count": 371,
     "metadata": {},
     "output_type": "execute_result"
    }
   ],
   "source": [
    "# А если добавить ещё одну фичу, пока есть время?\n",
    "def count_punct(text):\n",
    "    return len([sym for sym in text if sym in '!?'])\n",
    "balanced['num_of_punct'] = balanced['message'].map(count_punct)\n",
    "balanced.tail()"
   ]
  },
  {
   "cell_type": "code",
   "execution_count": 372,
   "metadata": {
    "collapsed": false
   },
   "outputs": [
    {
     "name": "stdout",
     "output_type": "stream",
     "text": [
      "             precision    recall  f1-score   support\n",
      "\n",
      "        ham       0.85      0.81      0.83       157\n",
      "       spam       0.80      0.85      0.82       142\n",
      "\n",
      "avg / total       0.83      0.83      0.83       299\n",
      "\n"
     ]
    }
   ],
   "source": [
    "sms_y = balanced['label']\n",
    "sms_x = balanced.loc[:, ('word_length', 'num_of_caps', 'num_of_punct')]\n",
    "train_x, test_x, train_y, test_y = train_test_split(sms_x, sms_y, test_size=0.2)\n",
    "\n",
    "tree = DecisionTreeClassifier()\n",
    "tree.fit(train_x, train_y)\n",
    "predict_y = tree.predict(test_x)\n",
    "print(classification_report(test_y, predict_y))"
   ]
  },
  {
   "cell_type": "markdown",
   "metadata": {},
   "source": [
    "Стало похуже... ну ладно."
   ]
  }
 ],
 "metadata": {
  "anaconda-cloud": {},
  "kernelspec": {
   "display_name": "Python 3",
   "language": "python",
   "name": "python3"
  },
  "language_info": {
   "codemirror_mode": {
    "name": "ipython",
    "version": 3
   },
   "file_extension": ".py",
   "mimetype": "text/x-python",
   "name": "python",
   "nbconvert_exporter": "python",
   "pygments_lexer": "ipython3",
   "version": "3.5.2"
  }
 },
 "nbformat": 4,
 "nbformat_minor": 1
}
