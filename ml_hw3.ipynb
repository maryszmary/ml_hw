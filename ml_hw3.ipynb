{
 "cells": [
  {
   "cell_type": "markdown",
   "metadata": {},
   "source": [
    "# Логистическая регрессия: Южный Парк"
   ]
  },
  {
   "cell_type": "markdown",
   "metadata": {},
   "source": [
    "Импортирую всякие модули"
   ]
  },
  {
   "cell_type": "code",
   "execution_count": 2,
   "metadata": {
    "collapsed": true
   },
   "outputs": [],
   "source": [
    "import pandas\n",
    "import numpy as np\n",
    "import matplotlib.pyplot as plt\n",
    "\n",
    "from nltk import word_tokenize \n",
    "from sklearn.feature_extraction.text import CountVectorizer, TfidfTransformer\n",
    "from sklearn.metrics import classification_report, f1_score, accuracy_score, confusion_matrix\n",
    "from sklearn.model_selection import StratifiedKFold, cross_val_score, train_test_split\n",
    "from sklearn.linear_model import LogisticRegression"
   ]
  },
  {
   "cell_type": "markdown",
   "metadata": {
    "collapsed": true
   },
   "source": [
    "Вытаскиваю и нормирую данные."
   ]
  },
  {
   "cell_type": "code",
   "execution_count": 3,
   "metadata": {
    "collapsed": false
   },
   "outputs": [
    {
     "data": {
      "text/html": [
       "<div>\n",
       "<table border=\"1\" class=\"dataframe\">\n",
       "  <thead>\n",
       "    <tr style=\"text-align: right;\">\n",
       "      <th></th>\n",
       "      <th>Season</th>\n",
       "      <th>Episode</th>\n",
       "      <th>Character</th>\n",
       "      <th>Line</th>\n",
       "    </tr>\n",
       "  </thead>\n",
       "  <tbody>\n",
       "    <tr>\n",
       "      <th>0</th>\n",
       "      <td>10</td>\n",
       "      <td>1</td>\n",
       "      <td>Stan</td>\n",
       "      <td>You guys, you guys! Chef is going away. \\n</td>\n",
       "    </tr>\n",
       "    <tr>\n",
       "      <th>1</th>\n",
       "      <td>10</td>\n",
       "      <td>1</td>\n",
       "      <td>Kyle</td>\n",
       "      <td>Going away? For how long?\\n</td>\n",
       "    </tr>\n",
       "    <tr>\n",
       "      <th>2</th>\n",
       "      <td>10</td>\n",
       "      <td>1</td>\n",
       "      <td>Stan</td>\n",
       "      <td>Forever.\\n</td>\n",
       "    </tr>\n",
       "    <tr>\n",
       "      <th>3</th>\n",
       "      <td>10</td>\n",
       "      <td>1</td>\n",
       "      <td>Chef</td>\n",
       "      <td>I'm sorry boys.\\n</td>\n",
       "    </tr>\n",
       "    <tr>\n",
       "      <th>4</th>\n",
       "      <td>10</td>\n",
       "      <td>1</td>\n",
       "      <td>Stan</td>\n",
       "      <td>Chef said he's been bored, so he joining a gro...</td>\n",
       "    </tr>\n",
       "  </tbody>\n",
       "</table>\n",
       "</div>"
      ],
      "text/plain": [
       "  Season Episode Character                                               Line\n",
       "0     10       1      Stan         You guys, you guys! Chef is going away. \\n\n",
       "1     10       1      Kyle                        Going away? For how long?\\n\n",
       "2     10       1      Stan                                         Forever.\\n\n",
       "3     10       1      Chef                                  I'm sorry boys.\\n\n",
       "4     10       1      Stan  Chef said he's been bored, so he joining a gro..."
      ]
     },
     "execution_count": 3,
     "metadata": {},
     "output_type": "execute_result"
    }
   ],
   "source": [
    "SO_PARK = pandas.read_csv('All-seasons.csv', sep=',')\n",
    "SO_PARK.head()"
   ]
  },
  {
   "cell_type": "markdown",
   "metadata": {},
   "source": [
    "Под главными персонажами я поняла четвёрку главных."
   ]
  },
  {
   "cell_type": "code",
   "execution_count": 4,
   "metadata": {
    "collapsed": false
   },
   "outputs": [],
   "source": [
    "stan = SO_PARK[SO_PARK['Character'] == 'Stan']\n",
    "kyle = SO_PARK[SO_PARK['Character'] == 'Kyle']\n",
    "eric = SO_PARK[SO_PARK['Character'] == 'Cartman']\n",
    "kenny = SO_PARK[SO_PARK['Character'] == 'Kenny']"
   ]
  },
  {
   "cell_type": "code",
   "execution_count": 5,
   "metadata": {
    "collapsed": false
   },
   "outputs": [
    {
     "name": "stdout",
     "output_type": "stream",
     "text": [
      "stan: 7680\n",
      "kyle: 7099\n",
      "eric: 9774\n",
      "kenny: 881\n"
     ]
    }
   ],
   "source": [
    "print('stan: ' + str(len(stan)))\n",
    "print('kyle: ' + str(len(kyle)))\n",
    "print('eric: ' + str(len(eric)))\n",
    "print('kenny: ' + str(len(kenny)))"
   ]
  },
  {
   "cell_type": "markdown",
   "metadata": {
    "collapsed": true
   },
   "source": [
    "Данные несбалансированы, потому что Кенни говорит слишком мало. При этом данных очень много, потому что это все сезоны. Поэтому я, пожалуй, просто выкину часть лишних данных."
   ]
  },
  {
   "cell_type": "code",
   "execution_count": 9,
   "metadata": {
    "collapsed": false
   },
   "outputs": [
    {
     "data": {
      "text/html": [
       "<div>\n",
       "<table border=\"1\" class=\"dataframe\">\n",
       "  <thead>\n",
       "    <tr style=\"text-align: right;\">\n",
       "      <th></th>\n",
       "      <th></th>\n",
       "      <th>Episode</th>\n",
       "      <th>Line</th>\n",
       "      <th>Season</th>\n",
       "    </tr>\n",
       "    <tr>\n",
       "      <th>Character</th>\n",
       "      <th></th>\n",
       "      <th></th>\n",
       "      <th></th>\n",
       "      <th></th>\n",
       "    </tr>\n",
       "  </thead>\n",
       "  <tbody>\n",
       "    <tr>\n",
       "      <th rowspan=\"4\" valign=\"top\">Cartman</th>\n",
       "      <th>count</th>\n",
       "      <td>881</td>\n",
       "      <td>881</td>\n",
       "      <td>881</td>\n",
       "    </tr>\n",
       "    <tr>\n",
       "      <th>unique</th>\n",
       "      <td>18</td>\n",
       "      <td>875</td>\n",
       "      <td>18</td>\n",
       "    </tr>\n",
       "    <tr>\n",
       "      <th>top</th>\n",
       "      <td>4</td>\n",
       "      <td>Butters.\\n</td>\n",
       "      <td>4</td>\n",
       "    </tr>\n",
       "    <tr>\n",
       "      <th>freq</th>\n",
       "      <td>75</td>\n",
       "      <td>3</td>\n",
       "      <td>79</td>\n",
       "    </tr>\n",
       "    <tr>\n",
       "      <th rowspan=\"4\" valign=\"top\">Kenny</th>\n",
       "      <th>count</th>\n",
       "      <td>881</td>\n",
       "      <td>881</td>\n",
       "      <td>881</td>\n",
       "    </tr>\n",
       "    <tr>\n",
       "      <th>unique</th>\n",
       "      <td>18</td>\n",
       "      <td>754</td>\n",
       "      <td>18</td>\n",
       "    </tr>\n",
       "    <tr>\n",
       "      <th>top</th>\n",
       "      <td>3</td>\n",
       "      <td>(Yeah!)\\n</td>\n",
       "      <td>3</td>\n",
       "    </tr>\n",
       "    <tr>\n",
       "      <th>freq</th>\n",
       "      <td>106</td>\n",
       "      <td>17</td>\n",
       "      <td>132</td>\n",
       "    </tr>\n",
       "    <tr>\n",
       "      <th rowspan=\"4\" valign=\"top\">Kyle</th>\n",
       "      <th>count</th>\n",
       "      <td>881</td>\n",
       "      <td>881</td>\n",
       "      <td>881</td>\n",
       "    </tr>\n",
       "    <tr>\n",
       "      <th>unique</th>\n",
       "      <td>18</td>\n",
       "      <td>843</td>\n",
       "      <td>18</td>\n",
       "    </tr>\n",
       "    <tr>\n",
       "      <th>top</th>\n",
       "      <td>9</td>\n",
       "      <td>What?\\n</td>\n",
       "      <td>2</td>\n",
       "    </tr>\n",
       "    <tr>\n",
       "      <th>freq</th>\n",
       "      <td>79</td>\n",
       "      <td>13</td>\n",
       "      <td>97</td>\n",
       "    </tr>\n",
       "    <tr>\n",
       "      <th rowspan=\"4\" valign=\"top\">Stan</th>\n",
       "      <th>count</th>\n",
       "      <td>881</td>\n",
       "      <td>881</td>\n",
       "      <td>881</td>\n",
       "    </tr>\n",
       "    <tr>\n",
       "      <th>unique</th>\n",
       "      <td>18</td>\n",
       "      <td>853</td>\n",
       "      <td>18</td>\n",
       "    </tr>\n",
       "    <tr>\n",
       "      <th>top</th>\n",
       "      <td>10</td>\n",
       "      <td>What?\\n</td>\n",
       "      <td>2</td>\n",
       "    </tr>\n",
       "    <tr>\n",
       "      <th>freq</th>\n",
       "      <td>75</td>\n",
       "      <td>8</td>\n",
       "      <td>95</td>\n",
       "    </tr>\n",
       "  </tbody>\n",
       "</table>\n",
       "</div>"
      ],
      "text/plain": [
       "                 Episode        Line Season\n",
       "Character                                  \n",
       "Cartman   count      881         881    881\n",
       "          unique      18         875     18\n",
       "          top          4  Butters.\\n      4\n",
       "          freq        75           3     79\n",
       "Kenny     count      881         881    881\n",
       "          unique      18         754     18\n",
       "          top          3   (Yeah!)\\n      3\n",
       "          freq       106          17    132\n",
       "Kyle      count      881         881    881\n",
       "          unique      18         843     18\n",
       "          top          9     What?\\n      2\n",
       "          freq        79          13     97\n",
       "Stan      count      881         881    881\n",
       "          unique      18         853     18\n",
       "          top         10     What?\\n      2\n",
       "          freq        75           8     95"
      ]
     },
     "execution_count": 9,
     "metadata": {},
     "output_type": "execute_result"
    }
   ],
   "source": [
    "less_stan = stan.sample(n=len(kenny))\n",
    "less_kyle = kyle.sample(n=len(kenny))\n",
    "less_eric = eric.sample(n=len(kenny))\n",
    "balanced = pandas.concat([less_stan, less_kyle, less_eric, kenny])\n",
    "balanced.groupby('Character').describe()"
   ]
  },
  {
   "cell_type": "markdown",
   "metadata": {
    "collapsed": true
   },
   "source": [
    "Теперь датасет сбалансирован."
   ]
  },
  {
   "cell_type": "markdown",
   "metadata": {},
   "source": [
    "## Baseline"
   ]
  },
  {
   "cell_type": "code",
   "execution_count": 73,
   "metadata": {
    "collapsed": false
   },
   "outputs": [
    {
     "name": "stdout",
     "output_type": "stream",
     "text": [
      "['Kenny', 'Kyle', 'Kenny', 'Stan', 'Kenny', 'Kenny', 'Kyle', 'Cartman', 'Kenny', 'Kenny', 'Stan', 'Kenny', 'Stan', 'Cartman', 'Stan', 'Kenny', 'Kenny', 'Cartman', 'Kenny', 'Kyle', 'Stan', 'Cartman', 'Cartman', 'Kenny', 'Kyle', 'Kyle', 'Kyle', 'Kenny', 'Stan', 'Cartman', 'Cartman', 'Kenny', 'Kenny', 'Stan', 'Kyle', 'Cartman', 'Stan', 'Cartman', 'Stan', 'Kyle', 'Stan', 'Cartman', 'Stan', 'Kenny', 'Cartman', 'Kyle', 'Kenny', 'Kyle', 'Stan', 'Stan', 'Stan', 'Kenny', 'Kenny', 'Stan', 'Kyle', 'Kyle', 'Kyle', 'Kyle', 'Stan', 'Cartman', 'Kenny', 'Kyle', 'Cartman', 'Kenny', 'Cartman', 'Kenny', 'Stan', 'Kyle', 'Kenny', 'Kyle', 'Cartman', 'Cartman', 'Kenny', 'Stan', 'Kyle', 'Kenny', 'Kyle', 'Stan', 'Kenny', 'Cartman', 'Kyle', 'Kyle', 'Kenny', 'Kenny', 'Kyle', 'Kyle', 'Stan', 'Cartman', 'Kyle', 'Kenny', 'Stan', 'Kenny', 'Kyle', 'Kenny', 'Kenny', 'Cartman', 'Stan', 'Stan', 'Cartman', 'Kenny']\n"
     ]
    }
   ],
   "source": [
    "import random\n",
    "\n",
    "rand_names = ['Cartman', 'Kenny', 'Kyle', 'Stan'] * 881\n",
    "random.shuffle(rand_names)\n",
    "print(rand_names[:100])"
   ]
  },
  {
   "cell_type": "code",
   "execution_count": 74,
   "metadata": {
    "collapsed": false
   },
   "outputs": [
    {
     "name": "stdout",
     "output_type": "stream",
     "text": [
      "             precision    recall  f1-score   support\n",
      "\n",
      "    Cartman       0.27      0.27      0.27       881\n",
      "      Kenny       0.27      0.27      0.27       881\n",
      "       Kyle       0.25      0.25      0.25       881\n",
      "       Stan       0.25      0.25      0.25       881\n",
      "\n",
      "avg / total       0.26      0.26      0.26      3524\n",
      "\n"
     ]
    }
   ],
   "source": [
    "print(classification_report(balanced['Character'], rand_names))"
   ]
  },
  {
   "cell_type": "markdown",
   "metadata": {},
   "source": [
    "Если распределять героев с рандомно с одинаковой вероятностью, точность в райное 0.25, что полностью соответствует теории вероятностей."
   ]
  },
  {
   "cell_type": "markdown",
   "metadata": {},
   "source": [
    "## Training"
   ]
  },
  {
   "cell_type": "markdown",
   "metadata": {},
   "source": [
    "Дальше я попробую лемматизировать и не лемматизировать. Лемматизировать – потому что это кажется разумным решением, в конце концов, о человеке должны больше говорять лексемы, которые он употребляет, чем словоформы. Не лемматизировать, потому что в прошлом дз в задаче классификации писем внезапно лучше показали семя не лемматизированные словари."
   ]
  },
  {
   "cell_type": "code",
   "execution_count": 39,
   "metadata": {
    "collapsed": false
   },
   "outputs": [],
   "source": [
    "# не лемматизируя\n",
    "bow_non_lem = CountVectorizer()\n",
    "bow_non_lem.fit_transform(balanced['Line'])\n",
    "bowed_non_lem = bow_non_lem.transform(balanced['Line'])"
   ]
  },
  {
   "cell_type": "code",
   "execution_count": 41,
   "metadata": {
    "collapsed": false
   },
   "outputs": [],
   "source": [
    "# функция для лемматизации. коммент: я пыталась сделать это как полагается, и сначала сделать POS-tagging,\n",
    "# но лемматизатор ворднета не идеален. он, например, вообще не умеет лемматизировать местоимения...\n",
    "\n",
    "from nltk.stem.wordnet import WordNetLemmatizer\n",
    "lmtzr = WordNetLemmatizer()\n",
    "\n",
    "def lemmatize(word):\n",
    "    noun = lmtzr.lemmatize(word)\n",
    "    verb = lmtzr.lemmatize(word, 'v')\n",
    "    if verb != word:\n",
    "        return verb\n",
    "    return noun\n",
    "\n",
    "def tokenize_lemmatize(text):\n",
    "    text = word_tokenize(text.lower())\n",
    "    return [lemmatize(word) for word in text if word not in '!?,.\":;']\n",
    "\n",
    "bow_lem = CountVectorizer(tokenizer=tokenize_lemmatize)\n",
    "bow_lem.fit_transform(balanced['Line'])\n",
    "bowed_lem = bow_lem.transform(balanced['Line'])"
   ]
  },
  {
   "cell_type": "code",
   "execution_count": null,
   "metadata": {
    "collapsed": true
   },
   "outputs": [],
   "source": []
  },
  {
   "cell_type": "code",
   "execution_count": 66,
   "metadata": {
    "collapsed": false
   },
   "outputs": [
    {
     "name": "stdout",
     "output_type": "stream",
     "text": [
      "['000', '10', '11', '13', '15', '16', '20', '22', '29', '30', '40', '400', '49', '500', '90', '95', '99', 'aa', 'aaaa', 'aaaaaa', 'aaaaaaaaaa', 'aaaaaaaaaaaaaa', 'aaaaaaaaaaaaaaaa', 'aaaaaaah', 'aaaaah', 'aaaah', 'aaaahh', 'aaaahhhh', 'aaaargh', 'aaaarrghhhhhh', 'aaaarrrrhhh', 'aaagh', 'aaah', 'aaahh', 'aaand', 'aah', 'aahhh', 'aargh', 'aaww', 'abiding', 'abilities', 'able', 'aborted', 'abortion', 'about', 'abraham', 'absolutely', 'accept', 'accepting', 'access', 'accessible', 'accidentally', 'ach', 'ack', 'acknowledge', 'aclu', 'across', 'act', 'action', 'actually', 'adams', 'add', 'addict', 'addicted', 'addiction', 'adjust', 'adler', 'admission', 'admit', 'adorable', 'ads', 'adt', 'adults', 'advantage', 'adventure', 'adventurers', 'adventures', 'adverse', 'advice', 'affects', 'afford', 'afghanistan', 'afraid', 'african', 'after', 'again', 'against', 'agencies', 'agh', 'aghh', 'ago', 'agree', 'agreed', 'agreeing', 'ah', 'ahaw', 'ahead', 'ahem', 'ahh', 'ahhh', 'ahhhgh', 'ahow', 'aides', 'aids', 'ailnay', 'ain', 'air', 'airline', 'alarm', 'alarmed', 'album', 'alcoholic', 'alien', 'aliens', 'alike', 'alive', 'all', 'alley', 'allow', 'allowed', 'alloy', 'almost', 'alone', 'along', 'already', 'alright', 'alrighty', 'also', 'alter', 'although', 'always', 'am', 'amazing', 'amen', 'america', 'american', 'americans', 'among', 'amongst', 'amusement', 'an', 'anal', 'anatomy', 'ancestors', 'ancient', 'and', 'anderson', 'andes', 'andy', 'angel', 'angels', 'angry', 'animal', 'animals', 'animation', 'ankle', 'anne', 'annie', 'announcement', 'annoying', 'anonymous', 'another', 'answer', 'answering', 'any', 'anybody', 'anymore', 'anyone', 'anything', 'anyway', 'anywhere', 'apart', 'apocalypse', 'apologize', 'apology', 'app', 'apparently', 'appear', 'appears', 'appeased', 'appetit', 'appleby', 'approval', 'apps', 'aquarium', 'aqui', 'arcade', 'arcane', 'are', 'aren', 'argghh', 'argh', 'arkansas', 'arm', 'arms', 'army', 'around', 'arrived', 'art', 'artemus', 'artwhore', 'as', 'asgard', 'ashamed', 'ashes', 'ask', 'asked', 'asking', 'asleep', 'asperger', 'asphyxiation', 'ass', 'assassination', 'asshole', 'assholes', 'assisuto', 'at', 'ate', 'atheist', 'ation', 'atmosphere', 'atta', 'attack', 'attacks', 'attend', 'attention', 'attic', 'attics', 'attitude', 'attract', 'audience', 'auditions', 'augh', 'aunt', 'authoritah', 'authorities', 'authority', 'autoerotic', 'avenue', 'avoid', 'avoids', 'aw', 'awaiting', 'awarding', 'away', 'awesom', 'awesome', 'awkward', 'aww', 'awww', 'ay', 'ba', 'babies', 'baby', 'babysitter', 'back', 'backhand', 'backstabbing', 'backward', 'backyard', 'bad', 'badass', 'badge', 'bag', 'bags', 'bahamas', 'bail', 'bailing', 'bait', 'bake', 'baked', 'ball', 'ballots', 'balls', 'ban', 'band', 'bands', 'bank', 'bar', 'barbrady', 'barfed', 'bargains', 'barn', 'bars', 'baseball', 'based', 'baseketball', 'basic', 'basically', 'basketball', 'baskets', 'bastard', 'bastards', 'bathroom', 'battle', 'battlefield', 'be', 'beach', 'beady', 'beans', 'bear', 'bears', 'beat', 'beautiful', 'beaver', 'beavers', 'beaverton', 'bebe', 'because', 'become', 'becomes', 'bed', 'bedroom', 'beefcake', 'been', 'before', 'begin', 'beginning', 'behavior', 'behind', 'behold', 'being', 'belching', 'believe', 'believing', 'bellied', 'bells', 'belong', 'belonged', 'benefiting', 'benjamin', 'besides', 'best', 'bet', 'betray', 'betrayal', 'betsy', 'better', 'between', 'bff', 'bi', 'bible', 'biblical', 'bicycle', 'big', 'bigger', 'biggest', 'biggie', 'bike', 'bikini', 'bill', 'biology', 'birds', 'birth', 'birthday', 'bisexual', 'bit', 'bitch', 'bite', 'bitten', 'black', 'blaine', 'blake', 'blame', 'blanket', 'blast', 'blaster', 'bleed', 'blind', 'blister', 'block', 'blocking', 'blood', 'bloody', 'blow', 'blowjob', 'blue', 'blueprint', 'bo', 'board', 'boat', 'bob', 'bobby', 'bodies', 'body', 'bomb', 'bon', 'boner', 'boneration', 'bonita', 'boo', 'boobs', 'book', 'books', 'boooooo', 'bored', 'boring', 'born', 'bosco', 'bosnian', 'bosnod', 'both', 'bottled', 'bottom', 'bought', 'bounces', 'bout', 'bowels', 'bowl', 'box', 'boxer', 'boxes', 'boy', 'boyett', 'boyfriend', 'boyongture', 'boys', 'bracelet', 'bracelets', 'brah', 'brain', 'brake', 'branch', 'bread', 'break', 'breakin', 'breaking', 'breaks', 'breasts', 'brian', 'bright', 'brilliant', 'brine', 'bring', 'brings', 'bris', 'britney', 'broad', 'broflovski', 'broke', 'broncos', 'brother', 'brothers', 'brought', 'brown', 'bubble', 'bucks', 'buddy', 'bueno', 'buffet', 'buh', 'build', 'building', 'buildings', 'built', 'bull', 'bullcrap', 'bullied', 'bullies', 'bullshit', 'bullshitting', 'bully', 'bullying', 'bummer', 'bun', 'bunch', 'bunny', 'burger', 'burn', 'burned', 'burning', 'burrito', 'burritos', 'bus', 'bush', 'bushes', 'business', 'bust', 'busted', 'busy', 'but', 'butt', 'butteriest', 'butters', 'butterscotch', 'butthole', 'buttholes', 'button', 'buy', 'buying', 'buys', 'by', 'bye', 'cafeteria', 'cake', 'cakes', 'calf', 'californiania', 'call', 'called', 'calling', 'calm', 'came', 'camera', 'camp', 'camps', 'can', 'canada', 'canadough', 'cancer', 'candy', 'cans', 'capable', 'capital', 'captain', 'capture', 'car', 'cards', 'care', 'career', 'careful', 'cares', 'caring', 'carlos', 'carnival', 'carousel', 'carpenter', 'carpeting', 'carrot', 'cars', 'cartmaaanbrah', 'cartman', 'cartmanbrah', 'cartmanland', 'cartmans', 'carton', 'casa', 'case', 'cash', 'casino', 'cat', 'catch', 'catchin', 'cats', 'cause', 'caused', 'causes', 'caveman', 'cavemen', 'cavities', 'cds', 'ceiling', 'celebrate', 'celebrities', 'celebrity', 'celery', 'cells', 'center', 'cents', 'ceremony', 'certainly', 'chad', 'chaim', 'chaining', 'chair', 'challenge', 'chamber', 'chan', 'chance', 'chances', 'change', 'changed', 'changing', 'channel', 'channels', 'channukah', 'chaos', 'charge', 'charts', 'chase', 'chasing', 'che', 'cheap', 'cheat', 'check', 'cheer', 'cheering', 'cheery', 'chef', 'cherish', 'chi', 'chicago', 'chick', 'chicken', 'chicks', 'child', 'children', 'chili', 'chin', 'china', 'chinese', 'chinpoko', 'chinpokomon', 'chip', 'chipotlaway', 'chipotle', 'chocolate', 'choice', 'choirs', 'choksondik', 'choo', 'choose', 'chooses', 'chop', 'choreography', 'chose', 'chosen', 'christ', 'christian', 'christmas', 'christmastime', 'christopher', 'chru', 'chubby', 'chuck', 'chuh', 'church', 'cigarettes', 'circle', 'circles', 'circus', 'citizenship', 'city', 'claiming', 'claridge', 'class', 'classify', 'clay', 'clean', 'clear', 'cleared', 'clearly', 'cleo', 'click', 'clicking', 'client', 'climb', 'clinton', 'clock', 'clods', 'clone', 'close', 'closer', 'closest', 'clothes', 'cloud', 'clouds', 'clowns', 'club', 'clubhouse', 'clutches', 'clyde', 'coat', 'coats', 'cochran', 'cock', 'cocka', 'coconut', 'code', 'coffee', 'cold', 'colfax', 'college', 'color', 'colorado', 'coloring', 'coma', 'combine', 'come', 'comedy', 'comes', 'comin', 'coming', 'comment', 'commentary', 'commenting', 'commerce', 'commercial', 'commercials', 'commit', 'common', 'community', 'company', 'compensate', 'competition', 'complain', 'complaining', 'complete', 'completely', 'completing', 'complicated', 'compound', 'compromise', 'computer', 'computers', 'comrade', 'con', 'concentrating', 'concentration', 'concert', 'conditioner', 'conditions', 'condominium', 'condoms', 'confederaceh', 'confederate', 'conferences', 'confess', 'confront', 'confusing', 'congratulations', 'conner', 'console', 'conspiracy', 'consumed', 'containment', 'contest', 'contract', 'control', 'controlled', 'controller', 'convince', 'coo', 'cook', 'cookies', 'cooking', 'cool', 'coolest', 'coordination', 'cooties', 'copies', 'cops', 'copy', 'corn', 'corporates', 'corporations', 'costume', 'cotton', 'cou', 'cough', 'could', 'couldn', 'counselor', 'counting', 'country', 'county', 'couple', 'courage', 'course', 'cousin', 'cover', 'covered', 'cow', 'cowboys', 'cpu', 'crab', 'crabtree', 'crack', 'crackers', 'craig', 'crane', 'crap', 'craphole', 'crappin', 'crapping', 'crappy', 'crawl', 'crayons', 'crazy', 'cream', 'creamy', 'cremated', 'crew', 'crime', 'crimes', 'cripple', 'crippled', 'crispy', 'critters', 'crocodiles', 'cross', 'crossed', 'crotch', 'crowd', 'crowded', 'crutches', 'cry', 'cult', 'cultural', 'cultures', 'cupcakes', 'cure', 'curious', 'current', 'currently', 'customer', 'cut', 'cute', 'cutest', 'daaaa', 'daaarrrggghh', 'dad', 'daddy', 'daijobu', 'daily', 'dam', 'damint', 'dammit', 'damn', 'damned', 'damnit', 'dan', 'dance', 'dancers', 'dang', 'dangerous', 'dare', 'dark', 'daughter', 'david', 'dawg', 'day', 'daylight', 'dayo', 'days', 'dead', 'deaf', 'deal', 'dealing', 'dear', 'dearest', 'death', 'debate', 'debater', 'decay', 'decide', 'decided', 'decision', 'deck', 'declare', 'deep', 'defeated', 'defend', 'deficit', 'definitely', 'deformed', 'delighted', 'demands', 'demise', 'democracy', 'democratic', 'demons', 'den', 'denkins', 'denver', 'deny', 'department', 'depend', 'depressed', 'der', 'derp', 'derrr', 'des', 'deserve', 'designed', 'desks', 'dessert', 'destroy', 'destroyed', 'destroying', 'destruction', 'detective', 'detectives', 'detention', 'detoxifies', 'detriment', 'device', 'devil', 'diabetes', 'diamond', 'diarrhea', 'dibs', 'dick', 'dickshit', 'did', 'didja', 'didn', 'die', 'died', 'diet', 'different', 'difficult', 'digitally', 'dilapidated', 'dildo', 'dined', 'dinenr', 'ding', 'dinner', 'direct', 'directions', 'directors', 'dirtiest', 'dirty', 'disability', 'disagree', 'disappear', 'discharge', 'discover', 'disease', 'disgusting', 'disney', 'disorder', 'distinction', 'distract', 'distractions', 'ditch', 'diversion', 'diversity', 'divide', 'do', 'doc', 'doctor', 'dodgeball', 'does', 'doesn', 'dog', 'doh', 'doin', 'doing', 'dollar', 'dollars', 'dolls', 'dolphins', 'don', 'done', 'donkey', 'donut', 'doooowwwwnnnn', 'door', 'doors', 'doorstep', 'dork', 'dorks', 'double', 'doubt', 'doubts', 'douche', 'douchebag', 'doucher', 'douchey', 'doughboy', 'down', 'downstairs', 'drank', 'dream', 'dreamcast', 'dreamers', 'dreamt', 'dreidel', 'dress', 'dressed', 'drewall', 'drift', 'drink', 'drinking', 'drinks', 'drive', 'driver', 'driving', 'drop', 'drove', 'drug', 'drugs', 'drum', 'drunk', 'drunken', 'dry', 'du', 'dual', 'dude', 'dudes', 'duhude', 'duhuhude', 'dumb', 'dumbass', 'dumber', 'dump', 'dunno', 'during', 'duty', 'dvd', 'dvds', 'dy', 'dying', 'ea', 'each', 'eagerly', 'eah', 'earlier', 'early', 'earrings', 'ears', 'earth', 'easiest', 'easily', 'east', 'easter', 'easy', 'eat', 'eaten', 'eatin', 'eating', 'eavesdropper', 'ed', 'education', 'ee', 'eechh', 'eeeehh', 'eeeh', 'eeww', 'eewww', 'eeyy', 'effect', 'effects', 'egal', 'egg', 'eggs', 'egypt', 'egyptian', 'eh', 'ehe', 'eheh', 'ehhh', 'eight', 'eighteen', 'eighth', 'eighty', 'either', 'elaborate', 'election', 'electoral', 'electric', 'elementary', 'elephant', 'elephants', 'eleven', 'elf', 'ellen', 'else', 'elton', 'elway', 'em', 'embarrass', 'embarrassing', 'emerald', 'emmanuel', 'emotional', 'en', 'enchantment', 'enchirito', 'end', 'ending', 'endure', 'engine', 'engines', 'enjoy', 'enough', 'enter', 'enterprise', 'entire', 'entrance', 'entry', 'episode', 'equality', 'ere', 'eric', 'ers', 'es', 'esistono', 'eskimos', 'especially', 'essay', 'europe', 'euuugh', 'evah', 'eve', 'even', 'evenly', 'event', 'eventually', 'ever', 'every', 'everybody', 'everyone', 'everything', 'everywhere', 'evil', 'evolved', 'ew', 'exactly', 'except', 'excited', 'excuse', 'exercised', 'expect', 'explain', 'explanation', 'explode', 'exploiting', 'exploring', 'express', 'ey', 'eye', 'eyed', 'eyes', 'faaahn', 'faaault', 'fabulous', 'face', 'facebook', 'faces', 'facing', 'fact', 'fad', 'fade', 'fads', 'faggot', 'fags', 'faint', 'fair', 'fairly', 'fairy', 'faith', 'fajitas', 'fake', 'fakin', 'fall', 'families', 'family', 'famous', 'fan', 'fans', 'far', 'farkle', 'farm', 'farmers', 'fart', 'farts', 'fascism', 'fashion', 'fast', 'faster', 'fat', 'fatass', 'fatboy', 'father', 'fathers', 'fatten', 'fatter', 'fatty', 'fault', 'favor', 'favorite', 'fbi', 'fear', 'fed', 'fee', 'feed', 'feegan', 'feel', 'feeling', 'feels', 'feet', 'fell', 'fella', 'fellas', 'feller', 'fence', 'fervent', 'festival', 'fetal', 'fetuses', 'fever', 'few', 'ffriend', 'fib', 'fiber', 'field', 'fields', 'fifth', 'fight', 'fighting', 'figure', 'figured', 'filipino', 'fill', 'filled', 'filling', 'filmmakers', 'films', 'filthy', 'final', 'finally', 'finals', 'find', 'finding', 'fine', 'finger', 'fingerpaint', 'finish', 'finished', 'fire', 'firecrackers', 'firemen', 'fireplace', 'first', 'fish', 'fishsticks', 'fit', 'five', 'fixed', 'flak', 'flash', 'flashback', 'flat', 'flavor', 'flay', 'flesh', 'flicker', 'flight', 'floating', 'flocks', 'flood', 'floor', 'florida', 'fluffy', 'fluid', 'flush', 'flute', 'flutes', 'fly', 'folded', 'follow', 'followed', 'followers', 'follows', 'fonz', 'food', 'fooled', 'foolin', 'fooling', 'fools', 'football', 'for', 'forced', 'foreseen', 'forest', 'forever', 'forfeits', 'forget', 'forgive', 'forgot', 'form', 'forth', 'forty', 'forward', 'found', 'foundation', 'founding', 'fountain', 'fountains', 'four', 'fourth', 'fragile', 'franklin', 'freaked', 'freakin', 'freaking', 'freckles', 'free', 'freebie', 'freemium', 'freeze', 'french', 'frenchy', 'frescas', 'friday', 'fried', 'friend', 'friends', 'fro', 'frog', 'from', 'front', 'frosty', 'frozen', 'fruity', 'fuck', 'fucked', 'fuckers', 'fuckin', 'fucking', 'fuh', 'full', 'fumigate', 'fumigated', 'fun', 'funny', 'funnybot', 'funtime', 'furious', 'further', 'future', 'fër', 'gaaah', 'gaaahaha', 'gabba', 'gah', 'gallant', 'gallons', 'game', 'games', 'gamesphere', 'gaming', 'ganbaru', 'gap', 'garrison', 'gas', 'gather', 'gatorade', 'gave', 'gay', 'gays', 'gaywad', 'gear', 'gee', 'geez', 'gen', 'generation', 'generator', 'genetic', 'genius', 'geniuses', 'gentlemen', 'geologist', 'george', 'germany', 'get', 'gets', 'gettin', 'getting', 'ghetto', 'ghost', 'ghosts', 'giant', 'gibson', 'gift', 'gig', 'giggling', 'ginger', 'gingers', 'girl', 'girlfriend', 'girls', 'git', 'give', 'givers', 'gives', 'giving', 'glad', 'glasses', 'glitter', 'global', 'glory', 'glue', 'glued', 'gnomes', 'go', 'goal', 'gobbles', 'god', 'goddammit', 'goddamn', 'goddamned', 'goddamnit', 'gods', 'goes', 'goin', 'going', 'gold', 'gone', 'gonna', 'good', 'goodbbyyyyee', 'goodbye', 'goodness', 'goods', 'goodwill', 'gooey', 'google', 'gorak', 'gordon', 'gosh', 'got', 'gotta', 'gotten', 'government', 'grace', 'grade', 'grader', 'graders', 'grampa', 'grandfather', 'grandma', 'grandmother', 'grandpa', 'granted', 'grass', 'gravy', 'gray', 'great', 'greatest', 'greedy', 'green', 'gregendath', 'grew', 'grey', 'greyhawk', 'griffin', 'gross', 'grouchy', 'ground', 'grounded', 'group', 'grow', 'grrr', 'grrrrr', 'gt', 'gu', 'guards', 'gues', 'guess', 'guidance', 'guides', 'guilt', 'guilty', 'gumdrop', 'gun', 'guns', 'guuuuyyyyys', 'guuyys', 'guy', 'guys', 'ha', 'haaa', 'haaaaaaaagh', 'haaaah', 'haaarrrrrh', 'haahaahahaha', 'hacksaw', 'had', 'hadn', 'hah', 'haha', 'hahaha', 'hahahaha', 'hahahahahaha', 'hahahahaheh', 'hai', 'haiku', 'hair', 'half', 'hall', 'halloween', 'hallway', 'hamburgers', 'hammer', 'hammerclaw', 'hand', 'handibook', 'handicap', 'handkerchief', 'handle', 'handling', 'hands', 'hang', 'hanging', 'hangover', 'hankey', 'hansen', 'hapa', 'happen', 'happened', 'happening', 'happens', 'happiness', 'happy', 'harassing', 'hard', 'harley', 'harnesses', 'harry', 'has', 'hash', 'hasn', 'hat', 'hate', 'hats', 'haunt', 'have', 'haven', 'having', 'hawaii', 'hay', 'hayek', 'hbc', 'he', 'head', 'headed', 'heads', 'headset', 'heah', 'hear', 'heard', 'hearing', 'heart', 'heartless', 'hearts', 'heaven', 'hebrew', 'heck', 'hee', 'heeeeeyah', 'heeeeyyyy', 'heeelllppp', 'heeh', 'heeheehee', 'heellp', 'heey', 'heeyy', 'heh', 'hehahaha', 'hehe', 'heheehee', 'heheh', 'heheheh', 'hehehehe', 'heheheheheh', 'hehyayaya', 'heist', 'held', 'helen', 'helicopter', 'hell', 'hella', 'hello', 'helmets', 'help', 'helpin', 'helping', 'hemorrhoid', 'hepatitis', 'her', 'here', 'heroin', 'herpes', 'heuh', 'hew', 'hewitt', 'hey', 'heyhey', 'hi', 'hidden', 'hide', 'hiding', 'high', 'higher', 'highest', 'hiheh', 'hilling', 'him', 'himself', 'hindu', 'hippie', 'hippies', 'his', 'history', 'hit', 'hitler', 'hits', 'hm', 'hmmm', 'hmyah', 'hmyeah', 'ho', 'hoarding', 'hoax', 'hobby', 'hoh', 'hoist', 'hold', 'holding', 'hole', 'holiday', 'holidays', 'holly', 'hollywood', 'holy', 'home', 'homeland', 'homeless', 'homework', 'homosexual', 'honest', 'honey', 'honor', 'hoo', 'hook', 'hookers', 'hooray', 'hoosajiggawha', 'hooters', 'hope', 'hopefully', 'hopeless', 'hoping', 'horse', 'hospital', 'hot', 'hour', 'hours', 'house', 'houses', 'how', 'howard', 'hrrugh', 'hude', 'huduh', 'hueah', 'huff', 'huge', 'huggin', 'hugging', 'huh', 'huho', 'hum', 'human', 'humanity', 'humans', 'humbly', 'hummer', 'humor', 'hundred', 'hundreds', 'hunger', 'hungry', 'hunh', 'hunting', 'hup', 'hurry', 'hurt', 'hurts', 'husband', 'hutt', 'hwaa', 'hyah', 'hybrids', 'hysterical', 'ice', 'idea', 'ideas', 'identical', 'idiot', 'idn', 'if', 'ignition', 'ignore', 'ignoring', 'ih', 'ii', 'iiike', 'iiit', 'ike', 'ilefay', 'ill', 'illness', 'ima', 'image', 'imagina', 'imaginary', 'imagine', 'immature', 'immigrants', 'impact', 'important', 'impossible', 'impressive', 'in', 'inappropriate', 'inch', 'inches', 'incision', 'inconsiderate', 'incorporated', 'incredible', 'indian', 'indians', 'infected', 'innocence', 'insane', 'insensitive', 'inside', 'inspiration', 'installed', 'instead', 'instruments', 'intend', 'intercom', 'interest', 'interested', 'interesting', 'interior', 'into', 'intolerant', 'investigative', 'invitation', 'inward', 'io', 'ipad', 'iphone', 'irritable', 'is', 'island', 'isle', 'isn', 'israel', 'issue', 'ist', 'it', 'its', 'itunes', 'jabba', 'jack', 'jacket', 'jacking', 'jail', 'jakov', 'jambu', 'japs', 'jason', 'jeez', 'jefferson', 'jehovah', 'jelly', 'jennifer', 'jenny', 'jerk', 'jersey', 'jesse', 'jesus', 'jew', 'jewbilee', 'jewgar', 'jewish', 'jewlingrad', 'jewpacabra', 'jews', 'jimbo', 'jimmy', 'job', 'john', 'johnson', 'join', 'joke', 'jokes', 'joking', 'jonas', 'journey', 'joy', 'joyous', 'judas', 'juh', 'juice', 'juicy', 'jump', 'jumping', 'junior', 'junjun', 'just', 'justice', 'juvenile', 'kaerimasu', 'kansas', 'karen', 'kava', 'kay', 'kayak', 'keep', 'keeping', 'keeps', 'keh', 'keller', 'kelly', 'kenneth', 'kenni', 'kenny', 'kept', 'kevin', 'kew', 'kewl', 'key', 'keyboards', 'kfc', 'kick', 'kickass', 'kicked', 'kicking', 'kickoffs', 'kicks', 'kickstarter', 'kid', 'kidding', 'kids', 'kiiick', 'kill', 'killed', 'killer', 'killing', 'kimasu', 'kimmel', 'kind', 'kinda', 'kinder', 'kinds', 'king', 'kingdom', 'kiss', 'kissing', 'kitchen', 'kitty', 'knew', 'knight', 'knock', 'know', 'knowing', 'known', 'knows', 'kosher', 'kurtis', 'kyle', 'kyyyle', 'la', 'lab', 'labels', 'ladder', 'ladies', 'lady', 'ladybug', 'laid', 'lake', 'lakewood', 'lame', 'land', 'large', 'last', 'late', 'lately', 'later', 'latest', 'laugh', 'laughin', 'laundromat', 'laundry', 'lawsuit', 'lawyer', 'lay', 'layer', 'lazy', 'leader', 'leak', 'learn', 'learned', 'learning', 'least', 'leave', 'leaving', 'leborkian', 'lectures', 'left', 'legal', 'legitimate', 'leh', 'lemon', 'leno', 'leprechaun', 'leprechauns', 'lesbian', 'less', 'lesson', 'let', 'letting', 'level', 'levels', 'leverage', 'lewis', 'li', 'liars', 'lice', 'licking', 'lid', 'lie', 'lied', 'lies', 'life', 'light', 'lights', 'like', 'likes', 'lima', 'lincoln', 'line', 'lines', 'lion', 'lions', 'liquid', 'list', 'listen', 'listenin', 'listening', 'little', 'live', 'lives', 'living', 'll', 'lo', 'load', 'loaf', 'lobbies', 'lobby', 'lobster', 'locked', 'logical', 'long', 'longer', 'look', 'looked', 'lookin', 'looking', 'looks', 'loong', 'looong', 'looove', 'lopez', 'lord', 'lorde', 'lordship', 'lose', 'loser', 'loses', 'loss', 'lost', 'lot', 'lots', 'loud', 'love', 'loved', 'loves', 'low', 'lowered', 'lt', 'lucas', 'lucille', 'luck', 'luckily', 'lunch', 'lur', 'lure', 'luxurious', 'lying', 'lyrics', 'ma', 'machine', 'macht', 'macintosh', 'mackey', 'macroed', 'made', 'madonna', 'magazine', 'mage', 'magic', 'magnet', 'mah', 'mahalo', 'mahrter', 'mail', 'main', 'mainland', 'make', 'makeover', 'makers', 'makes', 'makesmesick', 'makin', 'making', 'malibu', 'malkinson', 'mall', 'malls', 'mama', 'man', 'manager', 'manbearpig', 'mankind', 'many', 'marathon', 'marble', 'mari', 'mariche', 'marisa', 'marred', 'married', 'marsh', 'marshmallow', 'mart', 'marts', 'marty', 'marvin', 'mask', 'massage', 'masters', 'matches', 'matter', 'matters', 'max', 'may', 'maybe', 'mayor', 'mbeuh', 'mcboogerballs', 'mccormick', 'mcdickinass', 'mclachlan', 'mcmahon', 'mcnuggets', 'me', 'meal', 'mean', 'meanest', 'means', 'meant', 'measured', 'meat', 'mechanic', 'media', 'medical', 'medicine', 'mediocrity', 'meee', 'meet', 'meeting', 'mega', 'meh', 'mel', 'melancholy', 'member', 'memorial', 'memories', 'memphis', 'men', 'mencia', 'menopause', 'mentally', 'mentioned', 'menu', 'mephesto', 'merger', 'merry', 'merv', 'mess', 'message', 'messed', 'messenger', 'messin', 'met', 'metal', 'meteor', 'meth', 'methane', 'meuh', 'mexico', 'mhm', 'micro', 'micropay', 'middle', 'might', 'mike', 'mileage', 'milk', 'millennium', 'million', 'mind', 'mine', 'minecraft', 'minimalized', 'minna', 'minorities', 'minority', 'mints', 'minute', 'minutes', 'miracle', 'miracles', 'mirror', 'miserable', 'miss', 'missed', 'missing', 'mistake', 'mister', 'misunderstanding', 'mix', 'mixture', 'mm', 'mmm', 'mmmmmm', 'mmmom', 'mock', 'mohammad', 'moines', 'mojo', 'molested', 'molestered', 'mom', 'moment', 'mommy', 'mon', 'monday', 'money', 'monger', 'monneey', 'monster', 'monsters', 'monstrosity', 'month', 'months', 'mookie', 'moon', 'more', 'morgue', 'morn', 'morning', 'morrow', 'moscow', 'moses', 'most', 'mostly', 'mother', 'motherfucking', 'motivate', 'mount', 'mountain', 'mountains', 'mouth', 'moves', 'movie', 'movies', 'moving', 'mph', 'mr', 'mrrh', 'mrs', 'ms', 'much', 'mudder', 'mudpies', 'muhammad', 'murderers', 'murderin', 'murders', 'murphy', 'muscle', 'muscular', 'music', 'musica', 'muslim', 'muslims', 'must', 'mutant', 'my', 'myrrh', 'myself', 'mysterious', 'naaaa', 'nah', 'nahit', 'nail', 'nambla', 'name', 'named', 'names', 'nascar', 'nassau', 'nation', 'national', 'native', 'natives', 'natural', 'naturally', 'navi', 'nearly', 'neat', 'neato', 'necessary', 'necklaces', 'ned', 'need', 'needed', 'needs', 'negation', 'negative', 'negativity', 'negroplasty', 'neither', 'nelson', 'nerve', 'nervous', 'never', 'new', 'news', 'next', 'nfl', 'ni', 'nice', 'nicely', 'nicest', 'nichole', 'nicks', 'night', 'nine', 'ninety', 'ninja', 'ninjas', 'nintendo', 'nipples', 'nno', 'no', 'noa', 'nobody', 'noh', 'noho', 'nohoho', 'noise', 'non', 'none', 'nono', 'nonono', 'nononono', 'nononooo', 'noo', 'noohoho', 'nooo', 'nooohohohohohoho', 'noooo', 'noooooo', 'noooowwww', 'nope', 'normal', 'normally', 'north', 'nose', 'not', 'note', 'notepad', 'nothin', 'nothing', 'notice', 'noticed', 'now', 'nowadays', 'nowhere', 'nuh', 'number', 'numbers', 'nurection', 'nurse', 'nut', 'nuts', 'nya', 'nyanyanyanya', 'obama', 'objective', 'obligation', 'obscene', 'obsessed', 'obstacles', 'obviously', 'oculus', 'odd', 'odds', 'odin', 'of', 'off', 'offended', 'offensive', 'offering', 'offers', 'office', 'officer', 'official', 'offs', 'ogh', 'oh', 'ohh', 'ohhh', 'ohhhh', 'ohhhhh', 'ohhhhhhhh', 'ohhhn', 'okaaayyyyyyy', 'okama', 'okay', 'okayokay', 'okayokayokay', 'old', 'older', 'omigod', 'on', 'once', 'one', 'ones', 'online', 'only', 'onto', 'ooagh', 'oof', 'ooggghhh', 'ooh', 'oohh', 'ookie', 'ooo', 'oooh', 'ooooh', 'oooohh', 'oooooo', 'ooooooooooooooh', 'ooooowwwwwwwhh', 'ooowww', 'oops', 'ooww', 'oowww', 'open', 'opens', 'opera', 'operate', 'operation', 'oppressors', 'or', 'order', 'ordered', 'original', 'ot', 'othaa', 'other', 'otters', 'ouchie', 'our', 'ours', 'ourselves', 'out', 'outer', 'outfits', 'outnumber', 'outside', 'outsider', 'outta', 'over', 'overhead', 'ow', 'owe', 'own', 'owners', 'owww', 'package', 'packed', 'paeh', 'page', 'paid', 'pain', 'painful', 'paint', 'pakew', 'pal', 'paladin', 'paladins', 'pamphlet', 'pan', 'pancake', 'panda', 'pansy', 'pants', 'paper', 'paradox', 'paragon', 'parallel', 'parent', 'parents', 'park', 'parking', 'part', 'partirт', 'partner', 'partners', 'party', 'pass', 'passed', 'passing', 'passion', 'passover', 'past', 'paste', 'patented', 'patient', 'patriotic', 'pavement', 'pay', 'paying', 'payments', 'pays', 'peace', 'peaceful', 'pecker', 'pedal', 'pee', 'peed', 'peehole', 'peeing', 'peeling', 'peepee', 'pees', 'penis', 'penisbutt', 'penises', 'people', 'peopull', 'per', 'percent', 'perfect', 'perfectly', 'perform', 'performing', 'perhaps', 'period', 'persecuted', 'person', 'personally', 'peru', 'peruvian', 'pet', 'peter', 'peters', 'pets', 'pew', 'pewpeww', 'pewww', 'pharaoh', 'phase', 'phew', 'phillip', 'phone', 'photo', 'photon', 'photos', 'pick', 'picked', 'pics', 'picture', 'pictures', 'pie', 'piece', 'pig', 'pigs', 'pile', 'piles', 'pillow', 'pin', 'pineapple', 'pink', 'pip', 'pipe', 'pirate', 'piss', 'pissed', 'pitch', 'pizza', 'piщ', 'place', 'places', 'plan', 'plane', 'planet', 'planetarium', 'planning', 'plans', 'plasma', 'plastic', 'platinum', 'play', 'playboy', 'played', 'player', 'playful', 'playground', 'playing', 'please', 'pledge', 'pledged', 'pledging', 'plehease', 'plehehehehehehehese', 'plenty', 'pleya', 'plus', 'plywood', 'pocket', 'pockets', 'point', 'pointed', 'pointless', 'points', 'poison', 'poke', 'pole', 'police', 'pollack', 'polymarethane', 'polymer', 'pond', 'pony', 'poo', 'pool', 'poop', 'poor', 'poorer', 'pop', 'pope', 'popped', 'poppy', 'popular', 'posing', 'possession', 'possible', 'possibly', 'pot', 'potheads', 'potholes', 'potter', 'pound', 'pounds', 'poverty', 'pow', 'powdered', 'power', 'powerpoint', 'powers', 'practically', 'practice', 'practicing', 'praise', 'prance', 'prank', 'pray', 'precisely', 'prerecorded', 'present', 'presents', 'president', 'presidential', 'presidents', 'pretend', 'pretending', 'pretty', 'prevailed', 'preview', 'previously', 'prick', 'pride', 'priest', 'primary', 'primo', 'principal', 'print', 'prioritize', 'probably', 'probe', 'problem', 'problems', 'process', 'processors', 'producer', 'professor', 'profile', 'program', 'progress', 'promenade', 'promise', 'promised', 'promote', 'proper', 'propertih', 'prosperitah', 'protect', 'protectin', 'protection', 'protective', 'protest', 'proud', 'prove', 'provider', 'ps4', 'ps4s', 'psychic', 'psychos', 'ptui', 'puberty', 'pubes', 'public', 'puked', 'pukes', 'pull', 'punched', 'punching', 'punish', 'punished', 'punk', 'pure', 'purincessu', 'purity', 'purpose', 'pushing', 'pussy', 'put', 'putting', 'quack', 'quality', 'quarter', 'queef', 'queer', 'quest', 'question', 'questions', 'quick', 'quickly', 'quiet', 'quit', 'quite', 'rabbit', 'race', 'races', 'rache', 'racist', 'racquetball', 'raggedy', 'raging', 'raise', 'raisins', 'rally', 'ralph', 'rams', 'ramsey', 'ranch', 'randy', 'range', 'ranger', 'raped', 'rarely', 'rascal', 'rat', 'rather', 'ratings', 'rats', 'raymond', 're', 'reaaly', 'reached', 'read', 'reading', 'ready', 'real', 'reality', 'realize', 'realized', 'realizing', 'really', 'reals', 'rearrange', 'reason', 'rebecca', 'rebuilding', 'receive', 'reckless', 'record', 'recorder', 'recording', 'records', 'red', 'redskins', 'reel', 'reeve', 'reference', 'reflexes', 'refuse', 'rehab', 'rehashing', 'reinstated', 'relationship', 'relationships', 'relax', 'released', 'relief', 'relieved', 'religious', 'rely', 'remains', 'remeasure', 'remember', 'remote', 'remove', 'replace', 'report', 'reported', 'reports', 'reporuto', 'rerun', 'rescue', 'rescuing', 'research', 'reservation', 'residence', 'resisting', 'respect', 'responsibility', 'responsible', 'rest', 'resurrect', 'resurrection', 'resurrurected', 'retard', 'retarded', 'return', 'returns', 'reunion', 'revamp', 'revenge', 'reviewing', 'reviews', 'revolutionary', 'reward', 'rewards', 'ribbon', 'rid', 'ride', 'rider', 'rides', 'ridiculous', 'rifle', 'rift', 'right', 'ring', 'rings', 'ringy', 'rip', 'ripoff', 'ripped', 'risk', 'risked', 'ritalin', 'river', 'rivivrт', 'robert', 'robot', 'rock', 'rode', 'rodeo', 'roger', 'role', 'roles', 'rolling', 'rolls', 'romper', 'roof', 'roofs', 'room', 'roosters', 'rope', 'round', 'row', 'royal', 'rroowwrr', 'rrrh', 'rrrrooowwwrrr', 'rub', 'ruin', 'ruining', 'ruins', 'rules', 'run', 'running', 'rush', 'russian', 'rustling', 'sabotage', 'sack', 'sad', 'safe', 'sag', 'said', 'sailing', 'saint', 'sake', 'sale', 'sales', 'salma', 'same', 'san', 'sand', 'sandwich', 'sandwiches', 'sane', 'sang', 'santa', 'sarah', 'sat', 'saturday', 'save', 'saved', 'saving', 'savior', 'saw', 'say', 'saying', 'sayonara', 'says', 'scalp', 'scam', 'scared', 'scary', 'scene', 'schmucks', 'school', 'schools', 'science', 'scientific', 'scott', 'scouts', 'screw', 'screwed', 'screwing', 'screws', 'scrotie', 'scurrying', 'scuse', 'scuzzlebutt', 'sea', 'sealed', 'search', 'season', 'seat', 'sec', 'second', 'seconds', 'secret', 'secretary', 'secured', 'security', 'see', 'seein', 'seeing', 'seek', 'seem', 'seeme', 'seemed', 'seems', 'seen', 'sees', 'sega', 'self', 'selfish', 'sell', 'selling', 'send', 'sending', 'senile', 'senior', 'sense', 'sensual', 'sent', 'sequence', 'sergeant', 'series', 'serious', 'seriouslih', 'seriously', 'serve', 'served', 'server', 'serves', 'service', 'services', 'serving', 'set', 'seven', 'seventy', 'several', 'sex', 'sh', 'shadow', 'shall', 'shan', 'share', 'sharing', 'sharp', 'shave', 'shaved', 'she', 'sheesh', 'sheets', 'shelly', 'shelter', 'shepherds', 'shiiit', 'ship', 'shirt', 'shit', 'shitty', 'shocking', 'shoes', 'shoot', 'shooting', 'shop', 'shoppers', 'shopping', 'shortcake', 'shorting', 'shot', 'should', 'shouldn', 'show', 'showed', 'shower', 'showing', 'shown', 'shows', 'shrimp', 'shuriken', 'shut', 'shuttle', 'shuttlecraft', 'sick', 'sickest', 'side', 'sie', 'sign', 'signal', 'signature', 'signed', 'significance', 'signs', 'silly', 'silver', 'simple', 'since', 'sing', 'singing', 'sinners', 'sins', 'sir', 'sirens', 'sister', 'sit', 'sitting', 'situation', 'six', 'sixth', 'sixty', 'size', 'sizes', 'skank', 'skateboard', 'sketch', 'ski', 'skin', 'skinny', 'skyler', 'slam', 'slash', 'slaughtered', 'sleep', 'sleeping', 'slide', 'slip', 'slow', 'slowing', 'slowly', 'slug', 'slut', 'smackdown', 'small', 'smart', 'smartass', 'smartasses', 'smash', 'smell', 'smelled', 'smells', 'smiles', 'smiley', 'smirk', 'smith', 'smoke', 'smuggle', 'snaaake', 'snacky', 'snag', 'snake', 'snakes', 'snay', 'sneak', 'snickers', 'sniffin', 'snow', 'so', 'society', 'socks', 'soil', 'sold', 'soldier', 'solution', 'solve', 'solved', 'somalia', 'some', 'somebody', 'somehow', 'someone', 'somethin', 'something', 'sometime', 'sometimes', 'somewhere', 'son', 'song', 'sonofabitch', 'soo', 'soon', 'sooo', 'sophisticated', 'sore', 'sorry', 'soul', 'sound', 'sounded', 'sounds', 'south', 'sow', 'space', 'spaced', 'spaghetti', 'spanking', 'sparkly', 'sparky', 'speak', 'speaker', 'speaking', 'spears', 'special', 'species', 'speech', 'spells', 'spent', 'spielberg', 'spikes', 'spilled', 'spin', 'spirituality', 'splattered', 'splinters', 'split', 'spoke', 'sports', 'spray', 'spread', 'spreading', 'spring', 'springs', 'spying', 'square', 'squirrel', 'squirts', 'sso', 'sssex', 'stacey', 'stadium', 'stage', 'stains', 'stalling', 'stallone', 'stam', 'stamps', 'stan', 'stand', 'star', 'stark', 'start', 'started', 'starting', 'starts', 'startup', 'state', 'states', 'stations', 'status', 'stay', 'stayed', 'staying', 'steaks', 'steal', 'stem', 'step', 'stepped', 'stern', 'steve', 'steven', 'stick', 'sticks', 'sticky', 'still', 'stinking', 'stinks', 'stitches', 'stole', 'stolen', 'stolfsky', 'stomach', 'stomper', 'stoned', 'stoners', 'stoop', 'stoopp', 'stop', 'stopped', 'store', 'storm', 'story', 'straight', 'strange', 'strawberry', 'streams', 'street', 'stress', 'stressful', 'stressing', 'stricken', 'strike', 'string', 'strips', 'strong', 'stuck', 'student', 'students', 'studiers', 'studio', 'study', 'studying', 'stuff', 'stuffed', 'stupid', 'stuttered', 'style', 'su', 'sub', 'subscribers', 'subway', 'such', 'suck', 'sucked', 'sucking', 'sucks', 'sudden', 'suffice', 'suggest', 'sugoi', 'suh', 'suicidal', 'suicide', 'suits', 'sunday', 'super', 'superglue', 'superman', 'support', 'suppose', 'supposed', 'suppsoed', 'sure', 'surprise', 'surround', 'survive', 'susan', 'suspicious', 'swallow', 'swastika', 'swear', 'swearing', 'sweeeeeeeeeet', 'sweet', 'swell', 'swim', 'swing', 'swipe', 'syllable', 'sylvester', 'symbolic', 'sympathize', 'syndrome', 'syrup', 'system', 'table', 'tacos', 'tadaima', 'tag', 'tailored', 'tainted', 'take', 'taken', 'takes', 'taking', 'tale', 'talent', 'talented', 'talk', 'talked', 'talkin', 'talking', 'tall', 'tammy', 'tampon', 'tampons', 'tango', 'tape', 'taped', 'tapes', 'taping', 'tard', 'targeted', 'taste', 'tastes', 'tattle', 'taught', 'tauntaun', 'taur', 'taxes', 'tcha', 'te', 'tea', 'teach', 'teacher', 'teachers', 'team', 'teaming', 'technically', 'technique', 'technology', 'teddy', 'teeth', 'teeves', 'television', 'tell', 'telling', 'temperature', 'ten', 'tenet', 'tenorman', 'terms', 'terrance', 'terrible', 'terrific', 'terrifying', 'terrorism', 'terrorist', 'test', 'testaburger', 'testicle', 'texan', 'texas', 'tgi', 'th', 'tha', 'thah', 'than', 'thang', 'thank', 'thanks', 'thanksgiving', 'that', 'the', 'their', 'them', 'theme', 'then', 'there', 'these', 'thetan', 'they', 'thieves', 'thing', 'things', 'think', 'thinkin', 'thinking', 'thinks', 'third', 'thirteen', 'thirty', 'this', 'thompson', 'those', 'though', 'thought', 'thousand', 'threat', 'three', 'threw', 'through', 'throw', 'throwin', 'thursday', 'ticket', 'tickets', 'tics', 'tidings', 'tied', 'tights', 'till', 'time', 'timeouts', 'times', 'timmy', 'tiny', 'tissue', 'tits', 'titties', 'to', 'today', 'together', 'toilet', 'token', 'told', 'tomato', 'tomei', 'tomodachi', 'tomorrow', 'tona', 'tone', 'tongue', 'tonight', 'tons', 'too', 'took', 'tools', 'toooo', 'tooth', 'top', 'topeka', 'torch', 'tormented', 'toronto', 'toshiba', 'total', 'totally', 'touch', 'touched', 'tough', 'tougher', 'toughest', 'tour', 'tourette', 'tourettes', 'towards', 'towel', 'towelie', 'town', 'toy', 'toying', 'toys', 'trabajar', 'trade', 'tradition', 'trailers', 'train', 'training', 'traitor', 'tralalalala', 'transplant', 'trapped', 'trashcan', 'traumatized', 'travel', 'treatment', 'treats', 'tree', 'trend', 'trenders', 'trending', 'trent', 'triceratops', 'trick', 'tried', 'tries', 'tripped', 'tropical', 'trouble', 'troublemaker', 'truck', 'true', 'truly', 'trust', 'truth', 'try', 'tryin', 'trying', 'tuh', 'tuned', 'turd', 'ture', 'turkey', 'turkeys', 'turn', 'turned', 'turning', 'turns', 'tv', 'tweek', 'twenty', 'twin', 'two', 'ueddingu', 'uf', 'uff', 'ufff', 'ugh', 'ughh', 'ugliest', 'ugly', 'uh', 'uheheheh', 'uheheheheh', 'uhh', 'uhhh', 'uhm', 'uhuh', 'uhwuwhat', 'um', 'ummm', 'un', 'uncle', 'under', 'underage', 'underestimate', 'underpants', 'understand', 'underwear', 'unethical', 'unfair', 'ungh', 'unholy', 'unimportant', 'unintelligible', 'united', 'universe', 'university', 'unless', 'unload', 'unlocked', 'unnatural', 'unngh', 'uns', 'unsanitary', 'until', 'untimely', 'unto', 'untrue', 'up', 'updating', 'upon', 'ups', 'upset', 'upside', 'urection', 'urge', 'urgent', 'urgh', 'urn', 'ururalak', 'us', 'use', 'used', 'useful', 'uses', 'using', 'usually', 'uuh', 'uum', 'uuugh', 'vacuum', 'vagayjay', 'vagina', 'vaginas', 'value', 'values', 'vanilla', 'varieties', 'vaya', 've', 'veal', 'vegetable', 'version', 'very', 'vet', 'victory', 'video', 'videotape', 'videotapes', 'view', 'views', 'vince', 'virgin', 'virtual', 'visit', 'visitors', 'vladimir', 'vodka', 'voice', 'voices', 'vomit', 'vote', 'voted', 'votes', 'voting', 'vr', 'vulcan', 'wa', 'waa', 'waaah', 'waarrggh', 'wagh', 'wait', 'waiting', 'waitwaitwait', 'waitwaitwaitwait', 'wal', 'walk', 'walked', 'wall', 'wan', 'wanker', 'wanna', 'want', 'wanted', 'wants', 'war', 'warcraft', 'warm', 'warming', 'warn', 'warner', 'warp', 'wars', 'was', 'washed', 'washes', 'washington', 'wasn', 'wasting', 'watch', 'watched', 'watchin', 'watching', 'water', 'waunt', 'way', 'ways', 'wazzup', 'we', 'weaaaah', 'weak', 'weapons', 'wear', 'wearing', 'weather', 'weave', 'webpage', 'wednesday', 'wee', 'week', 'weekend', 'weeks', 'weenter', 'weh', 'weigh', 'weight', 'weird', 'welcome', 'well', 'wendy', 'went', 'were', 'weren', 'western', 'wet', 'wewewewewewe', 'wh', 'wha', 'whale', 'whales', 'whassup', 'what', 'whatabutt', 'whatcha', 'whatever', 'whatta', 'whe', 'wheel', 'wheelchair', 'wheels', 'wheeze', 'when', 'whenever', 'where', 'whether', 'which', 'while', 'whiny', 'white', 'whites', 'whittle', 'who', 'whoa', 'whoawhoa', 'whoawhoawhoa', 'whoever', 'whole', 'whooole', 'whoops', 'whore', 'whose', 'whup', 'why', 'wicker', 'wide', 'wiener', 'wieners', 'wifi', 'wii', 'will', 'willing', 'willzy', 'win', 'winds', 'wine', 'wined', 'wing', 'winning', 'winter', 'wipe', 'wiped', 'wipin', 'wir', 'wish', 'wit', 'with', 'withdrawal', 'without', 'witness', 'wizard', 'wok', 'woman', 'women', 'won', 'wonder', 'wondered', 'wondering', 'wondrous', 'woo', 'wood', 'woohoo', 'woohoohoo', 'woohooo', 'woohoooo', 'wooo', 'woooohoohoo', 'woooohoooo', 'woooooh', 'wooooooo', 'wooooooooo', 'word', 'words', 'work', 'worked', 'workin', 'working', 'works', 'world', 'worldwide', 'worm', 'wormhole', 'worried', 'worry', 'worse', 'worshiping', 'worth', 'worthless', 'would', 'wouldn', 'wow', 'wrapped', 'wrath', 'wrestle', 'wrestlin', 'wrestling', 'write', 'wrong', 'wrote', 'wth', 'wugh', 'wuh', 'wull', 'wuss', 'wussy', 'wway', 'wwe', 'wählen', 'xbox', 'ya', 'yaaayaya', 'yahoo', 'yahtzee', 'yay', 'ye', 'yeah', 'yeahah', 'yeahhh', 'yeahyeah', 'year', 'years', 'yee', 'yeeaahh', 'yeeeeehah', 'yeessss', 'yeh', 'yehes', 'yek', 'yep', 'yer', 'yes', 'yesterday', 'yet', 'yeti', 'yikes', 'yo', 'you', 'young', 'younger', 'your', 'yours', 'yourself', 'youth', 'youtube', 'youuu', 'yow', 'yuh', 'yummy', 'yup', 'zeit', 'zero', 'zillion', 'ziplining', 'zombies']\n"
     ]
    }
   ],
   "source": [
    "d = bow_non_lem.vocabulary_"
   ]
  },
  {
   "cell_type": "markdown",
   "metadata": {
    "collapsed": true
   },
   "source": []
  },
  {
   "cell_type": "code",
   "execution_count": null,
   "metadata": {
    "collapsed": true
   },
   "outputs": [],
   "source": [
    "X_train, X_test, y_train, y_test = train_test_split(data[features], \n",
    "                                                    data['admit'], \n",
    "                                                    test_size=0.2)\n",
    "print(X_train.shape, X_test.shape, y_train.shape, y_test.shape)\n",
    "y_train.hist()"
   ]
  },
  {
   "cell_type": "code",
   "execution_count": null,
   "metadata": {
    "collapsed": true
   },
   "outputs": [],
   "source": []
  },
  {
   "cell_type": "code",
   "execution_count": null,
   "metadata": {
    "collapsed": true
   },
   "outputs": [],
   "source": []
  }
 ],
 "metadata": {
  "anaconda-cloud": {},
  "kernelspec": {
   "display_name": "Python 3",
   "language": "python",
   "name": "python3"
  },
  "language_info": {
   "codemirror_mode": {
    "name": "ipython",
    "version": 3
   },
   "file_extension": ".py",
   "mimetype": "text/x-python",
   "name": "python",
   "nbconvert_exporter": "python",
   "pygments_lexer": "ipython3",
   "version": "3.5.2"
  }
 },
 "nbformat": 4,
 "nbformat_minor": 1
}
