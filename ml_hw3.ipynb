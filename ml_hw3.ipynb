{
 "cells": [
  {
   "cell_type": "markdown",
   "metadata": {},
   "source": [
    "# Логистическая регрессия: Южный Парк"
   ]
  },
  {
   "cell_type": "markdown",
   "metadata": {},
   "source": [
    "Импортирую всякие модули"
   ]
  },
  {
   "cell_type": "code",
   "execution_count": 2,
   "metadata": {
    "collapsed": true
   },
   "outputs": [],
   "source": [
    "import pandas\n",
    "import numpy as np\n",
    "import matplotlib.pyplot as plt\n",
    "\n",
    "from nltk import word_tokenize \n",
    "from sklearn.feature_extraction.text import CountVectorizer, TfidfTransformer\n",
    "from sklearn.metrics import classification_report, f1_score, accuracy_score, confusion_matrix\n",
    "from sklearn.model_selection import StratifiedKFold, cross_val_score, train_test_split\n",
    "from sklearn.linear_model import LogisticRegression"
   ]
  },
  {
   "cell_type": "markdown",
   "metadata": {
    "collapsed": true
   },
   "source": [
    "Вытаскиваю и нормирую данные."
   ]
  },
  {
   "cell_type": "code",
   "execution_count": 3,
   "metadata": {
    "collapsed": false
   },
   "outputs": [
    {
     "data": {
      "text/html": [
       "<div>\n",
       "<table border=\"1\" class=\"dataframe\">\n",
       "  <thead>\n",
       "    <tr style=\"text-align: right;\">\n",
       "      <th></th>\n",
       "      <th>Season</th>\n",
       "      <th>Episode</th>\n",
       "      <th>Character</th>\n",
       "      <th>Line</th>\n",
       "    </tr>\n",
       "  </thead>\n",
       "  <tbody>\n",
       "    <tr>\n",
       "      <th>0</th>\n",
       "      <td>10</td>\n",
       "      <td>1</td>\n",
       "      <td>Stan</td>\n",
       "      <td>You guys, you guys! Chef is going away. \\n</td>\n",
       "    </tr>\n",
       "    <tr>\n",
       "      <th>1</th>\n",
       "      <td>10</td>\n",
       "      <td>1</td>\n",
       "      <td>Kyle</td>\n",
       "      <td>Going away? For how long?\\n</td>\n",
       "    </tr>\n",
       "    <tr>\n",
       "      <th>2</th>\n",
       "      <td>10</td>\n",
       "      <td>1</td>\n",
       "      <td>Stan</td>\n",
       "      <td>Forever.\\n</td>\n",
       "    </tr>\n",
       "    <tr>\n",
       "      <th>3</th>\n",
       "      <td>10</td>\n",
       "      <td>1</td>\n",
       "      <td>Chef</td>\n",
       "      <td>I'm sorry boys.\\n</td>\n",
       "    </tr>\n",
       "    <tr>\n",
       "      <th>4</th>\n",
       "      <td>10</td>\n",
       "      <td>1</td>\n",
       "      <td>Stan</td>\n",
       "      <td>Chef said he's been bored, so he joining a gro...</td>\n",
       "    </tr>\n",
       "  </tbody>\n",
       "</table>\n",
       "</div>"
      ],
      "text/plain": [
       "  Season Episode Character                                               Line\n",
       "0     10       1      Stan         You guys, you guys! Chef is going away. \\n\n",
       "1     10       1      Kyle                        Going away? For how long?\\n\n",
       "2     10       1      Stan                                         Forever.\\n\n",
       "3     10       1      Chef                                  I'm sorry boys.\\n\n",
       "4     10       1      Stan  Chef said he's been bored, so he joining a gro..."
      ]
     },
     "execution_count": 3,
     "metadata": {},
     "output_type": "execute_result"
    }
   ],
   "source": [
    "SO_PARK = pandas.read_csv('All-seasons.csv', sep=',')\n",
    "SO_PARK.head()"
   ]
  },
  {
   "cell_type": "markdown",
   "metadata": {},
   "source": [
    "Под главными персонажами я поняла четвёрку главных."
   ]
  },
  {
   "cell_type": "code",
   "execution_count": 4,
   "metadata": {
    "collapsed": false
   },
   "outputs": [],
   "source": [
    "stan = SO_PARK[SO_PARK['Character'] == 'Stan']\n",
    "kyle = SO_PARK[SO_PARK['Character'] == 'Kyle']\n",
    "eric = SO_PARK[SO_PARK['Character'] == 'Cartman']\n",
    "kenny = SO_PARK[SO_PARK['Character'] == 'Kenny']"
   ]
  },
  {
   "cell_type": "code",
   "execution_count": 5,
   "metadata": {
    "collapsed": false
   },
   "outputs": [
    {
     "name": "stdout",
     "output_type": "stream",
     "text": [
      "stan: 7680\n",
      "kyle: 7099\n",
      "eric: 9774\n",
      "kenny: 881\n"
     ]
    }
   ],
   "source": [
    "print('stan: ' + str(len(stan)))\n",
    "print('kyle: ' + str(len(kyle)))\n",
    "print('eric: ' + str(len(eric)))\n",
    "print('kenny: ' + str(len(kenny)))"
   ]
  },
  {
   "cell_type": "markdown",
   "metadata": {
    "collapsed": true
   },
   "source": [
    "Данные несбалансированы, потому что Кенни говорит слишком мало. При этом данных очень много, потому что это все сезоны. Поэтому я, пожалуй, просто выкину часть лишних данных."
   ]
  },
  {
   "cell_type": "code",
   "execution_count": 9,
   "metadata": {
    "collapsed": false
   },
   "outputs": [
    {
     "data": {
      "text/html": [
       "<div>\n",
       "<table border=\"1\" class=\"dataframe\">\n",
       "  <thead>\n",
       "    <tr style=\"text-align: right;\">\n",
       "      <th></th>\n",
       "      <th></th>\n",
       "      <th>Episode</th>\n",
       "      <th>Line</th>\n",
       "      <th>Season</th>\n",
       "    </tr>\n",
       "    <tr>\n",
       "      <th>Character</th>\n",
       "      <th></th>\n",
       "      <th></th>\n",
       "      <th></th>\n",
       "      <th></th>\n",
       "    </tr>\n",
       "  </thead>\n",
       "  <tbody>\n",
       "    <tr>\n",
       "      <th rowspan=\"4\" valign=\"top\">Cartman</th>\n",
       "      <th>count</th>\n",
       "      <td>881</td>\n",
       "      <td>881</td>\n",
       "      <td>881</td>\n",
       "    </tr>\n",
       "    <tr>\n",
       "      <th>unique</th>\n",
       "      <td>18</td>\n",
       "      <td>875</td>\n",
       "      <td>18</td>\n",
       "    </tr>\n",
       "    <tr>\n",
       "      <th>top</th>\n",
       "      <td>4</td>\n",
       "      <td>Butters.\\n</td>\n",
       "      <td>4</td>\n",
       "    </tr>\n",
       "    <tr>\n",
       "      <th>freq</th>\n",
       "      <td>75</td>\n",
       "      <td>3</td>\n",
       "      <td>79</td>\n",
       "    </tr>\n",
       "    <tr>\n",
       "      <th rowspan=\"4\" valign=\"top\">Kenny</th>\n",
       "      <th>count</th>\n",
       "      <td>881</td>\n",
       "      <td>881</td>\n",
       "      <td>881</td>\n",
       "    </tr>\n",
       "    <tr>\n",
       "      <th>unique</th>\n",
       "      <td>18</td>\n",
       "      <td>754</td>\n",
       "      <td>18</td>\n",
       "    </tr>\n",
       "    <tr>\n",
       "      <th>top</th>\n",
       "      <td>3</td>\n",
       "      <td>(Yeah!)\\n</td>\n",
       "      <td>3</td>\n",
       "    </tr>\n",
       "    <tr>\n",
       "      <th>freq</th>\n",
       "      <td>106</td>\n",
       "      <td>17</td>\n",
       "      <td>132</td>\n",
       "    </tr>\n",
       "    <tr>\n",
       "      <th rowspan=\"4\" valign=\"top\">Kyle</th>\n",
       "      <th>count</th>\n",
       "      <td>881</td>\n",
       "      <td>881</td>\n",
       "      <td>881</td>\n",
       "    </tr>\n",
       "    <tr>\n",
       "      <th>unique</th>\n",
       "      <td>18</td>\n",
       "      <td>843</td>\n",
       "      <td>18</td>\n",
       "    </tr>\n",
       "    <tr>\n",
       "      <th>top</th>\n",
       "      <td>9</td>\n",
       "      <td>What?\\n</td>\n",
       "      <td>2</td>\n",
       "    </tr>\n",
       "    <tr>\n",
       "      <th>freq</th>\n",
       "      <td>79</td>\n",
       "      <td>13</td>\n",
       "      <td>97</td>\n",
       "    </tr>\n",
       "    <tr>\n",
       "      <th rowspan=\"4\" valign=\"top\">Stan</th>\n",
       "      <th>count</th>\n",
       "      <td>881</td>\n",
       "      <td>881</td>\n",
       "      <td>881</td>\n",
       "    </tr>\n",
       "    <tr>\n",
       "      <th>unique</th>\n",
       "      <td>18</td>\n",
       "      <td>853</td>\n",
       "      <td>18</td>\n",
       "    </tr>\n",
       "    <tr>\n",
       "      <th>top</th>\n",
       "      <td>10</td>\n",
       "      <td>What?\\n</td>\n",
       "      <td>2</td>\n",
       "    </tr>\n",
       "    <tr>\n",
       "      <th>freq</th>\n",
       "      <td>75</td>\n",
       "      <td>8</td>\n",
       "      <td>95</td>\n",
       "    </tr>\n",
       "  </tbody>\n",
       "</table>\n",
       "</div>"
      ],
      "text/plain": [
       "                 Episode        Line Season\n",
       "Character                                  \n",
       "Cartman   count      881         881    881\n",
       "          unique      18         875     18\n",
       "          top          4  Butters.\\n      4\n",
       "          freq        75           3     79\n",
       "Kenny     count      881         881    881\n",
       "          unique      18         754     18\n",
       "          top          3   (Yeah!)\\n      3\n",
       "          freq       106          17    132\n",
       "Kyle      count      881         881    881\n",
       "          unique      18         843     18\n",
       "          top          9     What?\\n      2\n",
       "          freq        79          13     97\n",
       "Stan      count      881         881    881\n",
       "          unique      18         853     18\n",
       "          top         10     What?\\n      2\n",
       "          freq        75           8     95"
      ]
     },
     "execution_count": 9,
     "metadata": {},
     "output_type": "execute_result"
    }
   ],
   "source": [
    "less_stan = stan.sample(n=len(kenny))\n",
    "less_kyle = kyle.sample(n=len(kenny))\n",
    "less_eric = eric.sample(n=len(kenny))\n",
    "balanced = pandas.concat([less_stan, less_kyle, less_eric, kenny])\n",
    "balanced.groupby('Character').describe()"
   ]
  },
  {
   "cell_type": "markdown",
   "metadata": {
    "collapsed": true
   },
   "source": [
    "Теперь датасет сбалансирован."
   ]
  },
  {
   "cell_type": "markdown",
   "metadata": {},
   "source": [
    "Дальше я попробую лемматизировать и не лемматизировать. Лемматизировать – потому что это кажется разумным решением, в конце концов, о человеке должны больше говорять лексемы, которые он употребляет, чем словоформы. Не лемматизировать, потому что в прошлом дз в задаче классификации писем внезапно лучше показали семя не лемматизированные словари."
   ]
  },
  {
   "cell_type": "code",
   "execution_count": 39,
   "metadata": {
    "collapsed": false
   },
   "outputs": [],
   "source": [
    "# не лемматизируя\n",
    "bow_non_lem = CountVectorizer()\n",
    "bow_non_lem.fit_transform(balanced['Line'])\n",
    "bowed_non_lem = bow_non_lem.transform(balanced['Line'])"
   ]
  },
  {
   "cell_type": "code",
   "execution_count": 40,
   "metadata": {
    "collapsed": false
   },
   "outputs": [],
   "source": [
    "# функция для лемматизации. коммент: я пыталась сделать это как полагается, и сначала сделать POS-tagging,\n",
    "# но лемматизатор ворднета не идеален. он, например, вообще не умеет лемматизировать местоимения...\n",
    "\n",
    "from nltk.stem.wordnet import WordNetLemmatizer\n",
    "lmtzr = WordNetLemmatizer()\n",
    "\n",
    "def lemmatize(word):\n",
    "    noun = lmtzr.lemmatize(word)\n",
    "    verb = lmtzr.lemmatize(word, 'v')\n",
    "    if verb != word:\n",
    "        return verb\n",
    "    return noun\n",
    "\n",
    "def tokenize_lemmatize(text):\n",
    "    text = word_tokenize(text.lower())\n",
    "    return [lemmatize(word) for word in text if word not in '!?,.\":;']\n",
    "\n",
    "bow_lem = CountVectorizer(tok)\n",
    "bow_lem.fit_transform(balanced['Line'])\n",
    "bowed_lem = bow_lem.transform(balanced['Line'])"
   ]
  },
  {
   "cell_type": "code",
   "execution_count": 37,
   "metadata": {
    "collapsed": false
   },
   "outputs": [
    {
     "name": "stdout",
     "output_type": "stream",
     "text": [
      "{'weave': 3611, 'manager': 2022, 'fbi': 1174, 'scared': 2856, 'adverse': 77, 'imaginary': 1700, 'isn': 1745, 'essay': 1092, 'goods': 1407, 'perfect': 2458, 'biblical': 342, 'aclu': 55, 'ms': 2183, 'bushes': 475, 'swearing': 3224, 'spirituality': 3095, 'deal': 837, 'wrestling': 3740, 'ripped': 2784, 'jeez': 1761, 'earth': 1013, 'say': 2850, 'gross': 1440, 'these': 3322, 'field': 1198, 'gibson': 1366, 'sow': 3075, 'dollar': 940, 'murders': 2190, 'story': 3164, 'revenge': 2764, 'tcha': 3273, 'yuh': 3791, 'flashback': 1234, 'jonas': 1787, 'revamp': 2763, 'funny': 1318, 'rehab': 2723, 'rides': 2774, 'thinking': 3330, 'still': 3147, 'ladybug': 1868, 'visit': 3549, 'strong': 3177, 'tough': 3393, 'gnomes': 1387, 'planetarium': 2512, 'them': 3318, 'offs': 2321, 'giggling': 1369, 'hude': 1647, 'cousin': 759, 'clouds': 656, 'action': 58, 'tools': 3380, 'belonged': 328, 'smuggle': 3031, 'eighty': 1047, 'workin': 3720, 'sensual': 2906, 'don': 944, 'lazy': 1888, 'butters': 483, 'washes': 3591, 'such': 3194, 'swim': 3228, 'happens': 1505, 'could': 750, 'tour': 3396, 'plehehehehehehehese': 2530, 'baby': 253, 'main': 2007, 'macroed': 1996, 'sooo': 3066, 'snow': 3041, 'sso': 3110, 'dan': 821, 'common': 690, 'lobby': 1949, 'feegan': 1179, 'african': 83, 'ohhhhh': 2327, 'monsters': 2153, 'office': 2318, 'ehe': 1041, 'doors': 950, 'makes': 2012, 'chef': 588, 'dammit': 817, 'fish': 1227, 'afford': 80, 'watchin': 3597, 'election': 1050, 'deep': 850, 'micro': 2103, 'strips': 3176, 'drewall': 972, 'aw': 241, 'friends': 1300, 'taken': 3245, 'buffet': 449, 'here': 1574, 'decision': 847, 'rope': 2805, 'fuck': 1308, 'esistono': 1089, 'spent': 3090, 'stark': 3123, 'hang': 1496, 'police': 2544, 'morning': 2162, 'suspicious': 3220, 'too': 3378, 'garrison': 1337, 'wifi': 3673, 'reached': 2695, 'circle': 628, 'primo': 2600, 'thanksgiving': 3314, 'cards': 517, 'dealing': 838, 'dying': 1004, 'shooting': 2949, 'revolutionary': 2767, 'morrow': 2163, 'chick': 592, 'minna': 2116, 'amazing': 132, 'destruction': 880, 'share': 2930, 'complaining': 696, 'battlefield': 295, 'worked': 3719, 'cheering': 586, 'two': 3456, 'we': 3604, 'based': 285, 'person': 2465, 'brown': 444, 'china': 599, 'wazzup': 3603, 'bargains': 281, 'think': 3328, 'message': 2091, 'beans': 299, 'pets': 2472, 'technically': 3281, 'thanks': 3313, 'patient': 2433, 'endure': 1073, 'vacuum': 3525, 'saw': 2849, 'button': 487, 'screws': 2869, 'church': 626, 'chasing': 580, 'talk': 3251, 'abraham': 45, 'terrance': 3295, 'able': 41, 'taur': 3271, 'care': 518, 'bread': 423, 'honey': 1625, 'heartless': 1537, 'space': 3076, 'heeelllppp': 1545, 'hopeless': 1635, 'jews': 1777, 'mom': 2144, 'eeyy': 1032, 'records': 2715, 'board': 379, 'slip': 3011, 'suicide': 3205, 'warn': 3585, 'building': 452, 'decided': 846, 'ticket': 3348, 'drank': 964, 'silver': 2980, 'rescue': 2745, 'signal': 2974, 'macht': 1993, 'asshole': 213, 'beavers': 305, 'tougher': 3394, 'million': 2111, 'preview': 2594, 'aides': 102, 'responsibility': 2752, 'kept': 1817, 'desks': 875, 'sergeant': 2909, 'confederaceh': 714, 'ads': 70, 'weird': 3622, 'global': 1383, 'pig': 2491, 'find': 1215, 'bunny': 466, 'beaverton': 306, 'grampa': 1422, 'poorer': 2554, 'river': 2788, 'range': 2683, 'event': 1099, 'moscow': 2164, 'uhwuwhat': 3472, 'ending': 1072, 'pollack': 2545, 'videotape': 3542, 'city': 632, 'festival': 1190, 'wined': 3681, 'gods': 1396, 'apps': 183, 'heh': 1551, 'sad': 2824, 'pleya': 2532, 'juvenile': 1801, 'rustling': 2821, 'forget': 1270, 'peru': 2467, 'happiness': 1506, 'tacos': 3239, 'mess': 2090, 'seein': 2887, 'spread': 3102, 'delighted': 856, 'mean': 2058, 'once': 2339, 'weeks': 3617, 'youuu': 3789, 'mind': 2112, 'peaceful': 2441, 'government': 1417, 'somehow': 3054, 'wide': 3670, 'known': 1856, 'lunch': 1985, 'forth': 1274, 'rerun': 2744, 'months': 2156, 'wall': 3574, 'thought': 3339, 'daughter': 828, 'sending': 2902, 'sonofabitch': 3063, 'drive': 977, 'tidings': 3351, 'career': 519, 'lady': 1867, 'feller': 1187, 'honest': 1624, 'sticky': 3146, 'wizard': 3695, 'book': 392, 'stop': 3160, 'tormented': 3386, 'capture': 515, 'des': 872, 'atheist': 218, 'absolutely': 46, 'sack': 2823, 'online': 2342, 'sandwiches': 2838, 'boobs': 391, 'survive': 3218, 'mudder': 2185, 'harnesses': 1511, 'animation': 154, 'process': 2608, 'exploring': 1120, 'belching': 322, 'ungh': 3485, 'ho': 1605, 'tongue': 3375, 'tuh': 3442, 'sees': 2895, 'secretary': 2883, 'elf': 1057, 'truck': 3434, 'mcdickinass': 2052, 'hankey': 1499, 'kind': 1841, 'drop': 980, 'any': 164, 'figured': 1204, 'tits': 3361, 'right': 2778, 'worry': 3728, 'passion': 2428, 'vince': 3546, 'keller': 1812, 'north': 2280, 'huff': 1650, 'tag': 3241, 'report': 2740, 'outnumber': 2383, 'miracles': 2123, 'looong': 1961, 'ain': 105, 'hurt': 1671, 'in': 1708, 'channels': 574, 'dumber': 996, 'lie': 1921, 'its': 1750, 'running': 2818, 'status': 3132, 'kfc': 1823, 'defeated': 851, 'risked': 2786, 'cavities': 549, 'shoot': 2948, 'cook': 733, 'ogh': 2322, 'signed': 2976, 'gumdrop': 1457, 'three': 3342, 'fire': 1222, 'since': 2982, 'turkeys': 3447, 'stupid': 3187, 'burning': 470, 'films': 1210, 'safe': 2825, 'bike': 348, 'holidays': 1615, 'kimasu': 1839, 'sunday': 3207, 'starting': 3126, 'dawg': 830, 'spaghetti': 3078, 'sore': 3068, 'morgue': 2160, 'house': 1642, 'awesome': 246, 'distinction': 923, 'enchirito': 1070, 'diabetes': 888, 'public': 2637, 'argh': 191, 'smell': 3023, 'latest': 1879, 'passover': 2429, 'mentioned': 2084, 'muslims': 2197, 'working': 3721, 'titties': 3362, 'easily': 1015, 'flood': 1243, 'hippies': 1595, 'fade': 1135, 'asleep': 208, 'blood': 372, 'bail': 266, 'both': 401, 'circles': 629, 'east': 1016, 'seems': 2893, 'packed': 2395, 'mountains': 2173, 'put': 2652, 'useful': 3518, 'woohoo': 3706, 'ankle': 155, 'travel': 3418, 'found': 1277, 'rescuing': 2746, 'before': 315, 'something': 3057, 'diversity': 928, 'kickstarter': 1830, 'notice': 2287, 'ugliest': 3463, 'frenchy': 1295, 'deformed': 855, 'ueddingu': 3457, 'race': 2668, 'glue': 1385, 'turns': 3451, 'sleep': 3008, 'paying': 2437, 'seem': 2890, 'boys': 416, 'train': 3410, 'channukah': 575, 'commenting': 685, 'butterscotch': 484, 'negation': 2230, 'holiday': 1614, 'jabba': 1752, 'sneak': 3038, 'socks': 3044, 'tell': 3288, 'shuttle': 2967, 'relieved': 2731, 'pain': 2399, 'stadium': 3113, 'prosperitah': 2621, 'journey': 1788, 'reported': 2741, 'canadough': 508, 'underage': 3478, 'wull': 3747, 'live': 1941, 'ughh': 3462, 'original': 2371, 'pew': 2473, 'barfed': 280, 'replace': 2739, 'beaver': 304, 'propertih': 2620, 'uum': 3523, 'ding': 907, 'trick': 3427, 'fakin': 1146, 'technology': 3283, 'quick': 2662, 'lesson': 1909, 'meuh': 2100, 'freemium': 1292, 'deny': 865, 'stressing': 3172, 'park': 2418, 'te': 3274, 'faaault': 1127, 'were': 3627, 'jump': 1795, 'married': 2032, 'crutches': 795, 'wir': 3688, 'shower': 2960, 'badass': 261, 'bank': 277, 'showing': 2961, 'crowded': 794, 'tampons': 3258, 'helicopter': 1563, 'manbearpig': 2023, 'branch': 422, 'going': 1399, 'dolphins': 943, 'den': 862, 'detriment': 885, 'waarrggh': 3565, 'unnatural': 3495, 'exercised': 1114, 'kurtis': 1859, 'hiheh': 1589, 'south': 3074, 'distractions': 925, 'five': 1230, 'media': 2065, 'legitimate': 1901, 'dear': 839, 'paragon': 2414, 'fetal': 1191, 'super': 3208, 'must': 2198, 'ation': 219, 'hehe': 1553, 'games': 1332, 'view': 3544, 'together': 3365, 'fee': 1177, 'thetan': 3323, 'headset': 1531, 'buildings': 453, 'resisting': 2750, 'bible': 341, 'coming': 682, 'pizza': 2505, 'cooties': 739, 'news': 2240, 'slaughtered': 3007, 'tenet': 3292, 'week': 3615, 'cause': 544, 'whose': 3666, 'gorak': 1411, 'vr': 3560, 'blanket': 364, 'benjamin': 330, 'johnson': 1782, 'hadn': 1472, 'bags': 264, 'milk': 2109, 'compound': 701, 'aliens': 113, 'prioritize': 2603, 'forest': 1267, 'howard': 1645, 'lt': 1980, 'company': 692, 'monger': 2150, 'li': 1916, 'goodness': 1406, 'hewitt': 1579, 'contract': 727, 'shelter': 2939, 'juicy': 1794, 'halloween': 1484, 'excited': 1112, 'heah': 1532, 'filipino': 1205, 'winter': 3684, 'easter': 1017, 'gettin': 1360, 'oof': 2346, 'bear': 300, 'wha': 3633, 'rehashing': 2724, 'color': 673, 'name': 2209, 'ohhhh': 2326, 'heeeeeyah': 1543, 'views': 3545, 'than': 3310, 'fourth': 1283, 'ohhhn': 2329, 'principal': 2601, 'feeling': 1181, 'painful': 2400, 'californiania': 497, 'crackers': 768, 'hybrids': 1677, 'sign': 2973, 'boat': 380, 'liars': 1917, 'lose': 1967, 'bucks': 446, 'rode': 2793, 'sh': 2926, 'definitely': 854, 'hollywood': 1617, 'god': 1391, 'bowels': 407, 'may': 2046, 'ay': 250, 'obstacles': 2306, 'untimely': 3500, 'quarter': 2656, 'sitting': 2991, 'dessert': 876, 'possibly': 2563, 'raggedy': 2673, 'bought': 404, 'staying': 3135, 'hour': 1640, 'death': 841, 'kid': 1831, 'catchin': 542, 'hopefully': 1634, 'deserve': 873, 'admit': 68, 'cheer': 585, 'kaerimasu': 1802, 'lines': 1932, 'miserable': 2125, 'voices': 3554, 'diarrhea': 890, 'girlfriend': 1373, 'ruining': 2814, 'skyler': 3004, 'furious': 1321, 'promise': 2616, 'send': 2901, 'sudden': 3199, 'us': 3515, 'mr': 2180, 'wee': 3614, 'guuyys': 1461, 'worried': 3727, 'stopped': 3161, 'moving': 2178, 'willzy': 3677, 'blow': 374, 'filling': 1208, 'oooh': 2352, 'attics': 227, 'containment': 725, 'kissing': 1848, 'apology': 174, 'lion': 1933, 'photos': 2483, 'conditioner': 710, 'know': 1854, 'wal': 3571, 'condoms': 713, 'abilities': 40, 'lions': 1934, 'anatomy': 142, 'bailing': 267, 'climb': 646, 'place': 2507, 'movie': 2176, 'ohh': 2324, 'ghosts': 1364, 'ears': 1012, 'brings': 434, 'bake': 269, 'over': 2387, 'customer': 805, 'rat': 2688, 'miracle': 2122, 'handling': 1494, 'especially': 1091, 'bracelets': 418, 'plehease': 2529, 'realizing': 2703, 'and': 145, 'complete': 697, 'turd': 3444, 'mccormick': 2051, 'targeted': 3265, 'cry': 796, 'nose': 2281, 'paper': 2412, 'year': 3764, 'guidance': 1453, 'presidents': 2589, 'she': 2935, 'students': 3180, 'sirens': 2988, 'fascism': 1159, 'teachers': 3278, 'shorting': 2954, 'jesus': 1770, 'forfeits': 1269, 'lobbies': 1948, 'abiding': 39, 'noh': 2260, 'solve': 3049, 'doubt': 955, 'vaginas': 3528, 'true': 3435, 'sparkly': 3080, 'kinds': 1844, 'grade': 1419, 'tied': 3352, 'bullshit': 459, 'gotten': 1416, 'unngh': 3496, 'down': 962, 'pool': 2551, 'goodbbyyyyee': 1404, 'hm': 1601, 'bff': 339, 'used': 3517, 'inches': 1711, 'caused': 545, 'hacksaw': 1470, 'headed': 1529, 'fried': 1298, 'rebecca': 2708, 'pocket': 2535, 'tauntaun': 3270, 'idea': 1680, 'whiny': 3653, 'worse': 3729, 'cake': 494, 'clutches': 660, 'sometime': 3058, 'monstrosity': 2154, 'ditch': 926, 'gen': 1348, 'appleby': 181, 'research': 2747, 'eating': 1022, 'chuck': 624, 'also': 127, 'mount': 2171, 'temperature': 3290, 'annoying': 159, 'released': 2729, 'unlocked': 3494, 'clothes': 654, 'putting': 2653, 'chin': 598, 'unholy': 3486, 'totally': 3390, 'dy': 1003, 'back': 255, 'onto': 2344, 'door': 949, 'leh': 1902, 'ehhh': 1043, 'demons': 861, 'jefferson': 1762, 'tona': 3373, 'moves': 2175, 'excuse': 1113, 'hueah': 1649, 'disappear': 916, 'dvd': 1001, 'brain': 420, 'kicking': 1827, 'trashcan': 3416, 'chad': 561, 'takes': 3246, '99': 16, 'non': 2264, 'nut': 2297, 'ridiculous': 2775, 'my': 2200, 'captain': 514, 'buh': 450, 'ignore': 1687, 'hbc': 1526, 'reflexes': 2721, 'acknowledge': 54, 'poor': 2553, 'blaster': 366, 'scuse': 2872, 'cleared': 640, 'bloody': 373, 'which': 3651, 'evah': 1095, 'ii': 1690, 'mahalo': 2004, 'priest': 2598, 'sex': 2925, 'circus': 630, 'magic': 2001, 'poison': 2541, 'germany': 1357, 'line': 1931, 'simple': 2981, 'ookie': 2350, 'pole': 2543, 'his': 1596, 'center': 557, 'ball': 271, 'sniffin': 3040, 'la': 1862, 'conditions': 711, 'guides': 1454, 'purincessu': 2647, 'eagerly': 1007, 'he': 1527, 'juh': 1792, 'cash': 538, 'ha': 1464, 'suck': 3195, 'sizes': 2997, 'monday': 2148, 'democracy': 859, 'under': 3477, 'had': 1471, 'bitch': 357, 'server': 2916, 'green': 1434, 'slam': 3005, 'jersey': 1768, 'wondered': 3701, 'doucher': 959, 'bull': 455, 'buys': 490, 'wood': 3705, 'tradition': 3408, 'full': 1314, 'hoo': 1627, 'lemon': 1903, 'species': 3087, 'camp': 504, 'mediocrity': 2068, 'jewlingrad': 1775, 'wait': 3567, 'heeyy': 1550, 'plywood': 2534, 'hasn': 1515, 'farkle': 1154, 'books': 393, 'old': 2335, 'sheesh': 2936, 'huduh': 1648, 'dined': 905, 'instead': 1725, 'lopez': 1963, 'harley': 1510, 'happening': 1504, 'pukes': 2639, 'gooey': 1409, 'annie': 157, 'dancers': 823, 'singing': 2984, 'somewhere': 3060, 'laugh': 1880, 'penis': 2451, 'hello': 1566, 'lorde': 1965, 'paid': 2398, 'smelled': 3024, 'angry': 151, 'relationship': 2726, 'wouldn': 3734, 'seen': 2894, 'elephant': 1054, 'terms': 3294, 'mister': 2130, 'nfl': 2242, 'fishsticks': 1228, 'spin': 3094, 'puberty': 2635, 'ruins': 2815, 'places': 2508, 'changing': 572, 'by': 491, 'warp': 3587, 'speaker': 3083, 'easiest': 1014, 'kinda': 1842, 'relationships': 2727, 'ot': 2372, 'wear': 3608, 'fountain': 1280, 'buy': 488, 'rats': 2691, 'der': 869, 'hippie': 1594, 'confederate': 715, 'ghost': 1363, 'rabbit': 2667, 'hot': 1639, 'ooggghhh': 2347, 'pictures': 2488, 'plastic': 2516, 'immigrants': 1703, 'looked': 1956, 'detectives': 882, 'toronto': 3387, 'asgard': 202, 'refuse': 2722, 'else': 1059, 'exactly': 1110, 'hooray': 1630, 'official': 2320, 'sand': 2836, 'ahaw': 95, 'come': 678, 'meh': 2073, 'returns': 2761, 'matters': 2044, 'trenders': 3423, 'murderers': 2188, 'drove': 981, 'roosters': 2804, 'give': 1376, 'the': 3316, 'obligation': 2303, 'squirrel': 3108, 'testaburger': 3302, 'eve': 1096, 'always': 130, 'holding': 1612, 'reviews': 2766, 'dodgeball': 933, 'rings': 2780, 'double': 954, 'ladder': 1865, 'virtual': 3548, 'flavor': 1236, 've': 3534, 'affects': 79, 'watching': 3598, 'merger': 2087, 'whoever': 3661, 'treats': 3420, 'alien': 112, 'piece': 2490, 'things': 3327, 'tooth': 3382, 'realize': 2701, 'evil': 1107, 'tryin': 3440, 'room': 2803, 'search': 2876, 'ranger': 2684, 'shoes': 2947, 'ashamed': 203, 'butt': 481, 'randy': 2682, 'damn': 818, 'comrade': 705, 'pockets': 2536, 'thank': 3312, 'whatabutt': 3638, 'access': 49, 'human': 1657, 'basketball': 289, 'seven': 2922, 'makesmesick': 2013, 'tape': 3260, 'ee': 1026, 'mine': 2113, 'iiike': 1691, 'made': 1997, 'nice': 2244, 'fight': 1201, '15': 4, 'genetic': 1351, 'incorporated': 1714, 'rest': 2754, 'parent': 2416, 'wine': 3680, 'huho': 1655, 'merv': 2089, 'ballots': 272, 'role': 2796, 'home': 1619, 'making': 2015, 'potheads': 2565, 'eric': 1086, 'me': 2056, 'ramsey': 2680, 'swear': 3223, 'though': 3338, 'exploiting': 1119, 'jumping': 1796, 'derp': 870, 'only': 2343, 'grace': 1418, 'underestimate': 3479, 'musica': 2195, 'posing': 2560, 'eavesdropper': 1023, 'foreseen': 1266, 'outsider': 2385, 'caveman': 547, 'bears': 301, 'her': 1573, 'powerpoint': 2574, 'yow': 3790, 'ma': 1991, 'barbrady': 279, 'trouble': 3432, 'started': 3125, 'device': 886, 'wasn': 3593, 'shoppers': 2951, 'ones': 2341, 'filled': 1207, 'fucked': 1309, 'greedy': 1433, 'broflovski': 438, 'malibu': 2016, 'ow': 2389, 'peeling': 2448, 'bleed': 367, 'fucking': 1312, 'du': 988, 'choksondik': 609, 'clods': 649, 'zombies': 3798, 'important': 1705, 'remains': 2734, 'heroin': 1575, 'aaaaah': 24, 'set': 2921, 'wa': 3562, 'native': 2216, 'pitch': 2504, 'atmosphere': 220, 'bun': 464, 'on': 2338, 'sandwich': 2837, 'mah': 2003, 'cultural': 798, 'soul': 3070, 'primary': 2599, 'return': 2760, 'bi': 340, 'ziplining': 3797, 'holly': 1616, 'elephants': 1055, 'haaaah': 1467, 'cloud': 655, 'pray': 2582, 'strange': 3166, 'mph': 2179, 'hall': 1483, 'closer': 652, 'rolling': 2798, 'leader': 1889, 'worm': 3725, 'hunh': 1667, 'pigs': 2492, 'crapping': 774, 'solution': 3048, 'sssex': 3111, 'protect': 2622, 'teach': 3276, 'seat': 2878, 'waiting': 3568, 'die': 897, 'cute': 807, 'bosnod': 400, 'dam': 815, 'fuckin': 1311, 'douche': 957, 'superglue': 3209, 'ice': 1679, 'haaaaaaaagh': 1466, 'overhead': 2388, 'am': 131, 'damint': 816, 'causes': 546, 'play': 2518, 'ahhh': 99, 'lectures': 1898, 'completing': 699, 'egal': 1035, 'jesse': 1769, 'uhhh': 3469, 'craig': 769, 'attract': 229, 'whatcha': 3639, 'spells': 3089, 'nowhere': 2291, 'game': 1331, 'special': 3086, 'arms': 194, 'phase': 2477, 'fine': 1217, 'capital': 513, 'slide': 3010, 'dance': 822, 'happy': 1507, 'feet': 1183, 'aaahh': 33, 'bottled': 402, 'feels': 1182, 'ilefay': 1694, 'alive': 115, 'sequence': 2908, 'star': 3122, 'kidding': 1832, 'herpes': 1576, 'toshiba': 3388, 'finger': 1218, 'technique': 3282, 'ordered': 2370, 'facing': 1132, 'eaten': 1020, 'missed': 2127, 'few': 1194, 'benefiting': 329, 'resurrection': 2756, 'idiot': 1683, 'sir': 2987, 'christmas': 619, 'suh': 3203, 'fireplace': 1225, 'instruments': 1726, 'terrible': 3296, 'happened': 1503, 'bikini': 349, 'washed': 3590, 'hurts': 1672, '10': 1, 'families': 1148, 'period': 2463, 'ralph': 2678, 'better': 337, 'kyyyle': 1861, 'parallel': 2415, 'choirs': 608, 'gather': 1339, 'ned': 2226, 'done': 945, 'corn': 743, 'ruin': 2813, 'compromise': 702, 'chru': 622, 'minority': 2118, 'uheheheheh': 3467, 'victory': 3540, 'poke': 2542, 'challenge': 565, 'performing': 2461, 'nearly': 2221, 'then': 3320, 'club': 658, 'scam': 2855, 'seeing': 2888, 'prance': 2580, 'order': 2369, 'thompson': 3336, 'loud': 1974, 'underwear': 3482, 'friend': 1299, 'pledged': 2527, 'hole': 1613, 'burritos': 472, 'blame': 363, 'served': 2915, 'scuzzlebutt': 2873, 'cutest': 808, 'smartasses': 3021, 'across': 56, 'generation': 1349, 'resurrect': 2755, 'heart': 1536, 'reservation': 2748, 'breaks': 427, 'luxurious': 1988, 'ancestors': 143, 'group': 1444, 'helpin': 1569, 'ouchie': 2376, 'schmucks': 2859, 'ahh': 98, 'videotapes': 3543, 'smart': 3019, 'incredible': 1715, 'attic': 226, 'gingers': 1371, 'dangerous': 825, 'ill': 1695, 'brian': 429, 'kill': 1835, 'crab': 765, 'ooww': 2360, 'uhh': 3468, 'weaaaah': 3605, 'religious': 2732, 'glasses': 1381, 'faggot': 1137, 'tapes': 3262, 'fatboy': 1165, 'sure': 3215, 'hallway': 1485, 'defend': 852, 'assholes': 214, 'piss': 2502, 'patented': 2432, 'authority': 236, 'thursday': 3347, 'tard': 3264, 'ignition': 1686, 'bottom': 403, 'tree': 3421, 'carousel': 525, 'lab': 1863, 'boxes': 411, 'welcome': 3623, 'magazine': 1999, 'add': 61, 'rarely': 2686, 'blind': 368, 'ew': 1109, 'boy': 412, 'ooagh': 2345, 'wondering': 3702, 'street': 3169, 'stuck': 3178, 'eat': 1019, 'studiers': 3181, 'donkey': 946, 'even': 1097, 'cut': 806, 'resurrurected': 2757, 'eventually': 1100, 'hoarding': 1606, 'kicks': 1829, 'jack': 1753, 'airline': 107, 'store': 3162, 'aaah': 32, 'chicken': 593, 'behavior': 318, 'autoerotic': 237, 'negativity': 2232, 'wanker': 3576, 'enchantment': 1069, 'alright': 125, 'crane': 770, 'allow': 118, 'nothing': 2286, 'es': 1088, 'appear': 177, 'squirts': 3109, 'noooo': 2274, 'bosnian': 399, 'kiiick': 1834, 'cleo': 642, 'divide': 929, 'brah': 419, 'training': 3411, 'corporates': 744, 'tics': 3350, 'sharing': 2931, 'givers': 1377, 'streams': 3168, 'finding': 1216, 'pie': 2489, 'so': 3042, 'andes': 147, 'mahrter': 2005, 'hours': 1641, 'bit': 356, 'shit': 2944, 'taught': 3269, 'incision': 1712, 'paladin': 2404, 'panda': 2409, 'jimbo': 1778, 'thang': 3311, 'attack': 222, 'suicidal': 3204, 'hepatitis': 1572, 'bully': 461, 'want': 3578, 'forty': 1275, 'hangover': 1498, 'whoawhoawhoa': 3660, 'keeps': 1810, 'flesh': 1238, 'completely': 698, 'normally': 2279, 'bosco': 398, 'cow': 762, 'car': 516, 'geez': 1347, 'through': 3344, 'tonight': 3376, 'whenever': 3648, 'being': 321, 'up': 3503, 'snaaake': 3032, 'taking': 3247, 'history': 1597, 'complain': 695, 'noticed': 2288, 'fear': 1175, 'high': 1586, 'somalia': 3051, 'google': 1410, 'coats': 663, 'beginning': 317, 'joy': 1789, 'geniuses': 1353, 'father': 1166, 'nervous': 2237, 'unload': 3493, 'wipe': 3685, 'transplant': 3414, 'paradox': 2413, 'numbers': 2294, 'fatass': 1164, 'gig': 1368, 'express': 1121, 'youtube': 3788, 'lesbian': 1907, 'call': 498, 'subscribers': 3192, 'cooking': 735, 'follows': 1256, 'hits': 1600, 'concert': 709, 'burned': 469, 'offering': 2316, 'are': 188, 'muscular': 2193, 'ask': 205, 'more': 2159, 'impossible': 1706, 'nelson': 2235, 'aqui': 185, 'crotch': 792, 'secured': 2884, 'adjust': 65, 'guilty': 1456, 'is': 1742, 'farmers': 1156, 'fly': 1251, 'child': 595, 'shirt': 2943, 'backstabbing': 257, 'splattered': 3096, 'daily': 814, 'token': 3367, 'planning': 2513, 'mbeuh': 2049, 'teeves': 3286, 'noohoho': 2271, 'obviously': 2307, 'bon': 386, 'finish': 1220, 'helping': 1570, 'yikes': 3779, 'cafeteria': 493, 'rache': 2670, 'unfair': 3484, 'wugh': 3745, 'pavement': 2435, 'oh': 2323, 'coo': 732, 'gosh': 1413, 'stan': 3120, 'unto': 3501, 'turning': 3450, '000': 0, 'vomit': 3555, 'alloy': 120, 'awww': 249, 'inspiration': 1723, '95': 15, 'stoopp': 3159, 'pays': 2439, 'lowered': 1979, 'pointed': 2538, 'toy': 3403, 'flat': 1235, 'letting': 1911, 'junior': 1797, 'praise': 2579, 'fro': 1301, 'trending': 3424, 'taped': 3261, 'fatten': 1168, 'uhuh': 3471, 'nowadays': 2290, 'whore': 3665, 'not': 2282, 'pop': 2555, 'eyes': 1125, 'superman': 3210, 'jakov': 1757, 'an': 140, 'john': 1781, 'flutes': 1250, 'careful': 520, 'until': 3499, 'britney': 436, 'hospital': 1638, 'serves': 2917, 'greatest': 1432, 'nuh': 2292, 'behind': 319, 'pledging': 2528, 'weapons': 3607, '90': 14, 'gun': 1458, 'electric': 1052, 'nurection': 2295, 'their': 3317, 'bells': 326, 'animals': 153, 'doorstep': 951, 'friday': 1297, 'free': 1290, 'cats': 543, 'cure': 801, 'deficit': 853, 'ring': 2779, 'muscle': 2192, 'sucked': 3196, 'work': 3718, 'scary': 2857, 'thing': 3326, 'towel': 3400, 'timmy': 3358, 'mon': 2147, 'kelly': 1813, 'commentary': 684, 'hehyayaya': 1559, 'cocka': 666, 'needed': 2228, 'aaagh': 31, 'part': 2420, 'face': 1129, 'fairly': 1141, 'seeme': 2891, 'wh': 3632, 'kava': 1805, 'stepped': 3140, 'later': 1878, 'bad': 260, 'several': 2924, 'shave': 2933, 'detoxifies': 884, 'vladimir': 3551, 'hungry': 1666, 'drugs': 983, 'punching': 2642, 'during': 999, 'meet': 2070, 'youth': 3787, 'fabulous': 1128, 'perhaps': 2462, 'buddy': 447, 'bullshitting': 460, 'raging': 2674, 'israel': 1746, 'smoke': 3030, 'using': 3520, 'consumed': 724, 'othaa': 2373, 'time': 3355, 'crap': 771, 'babies': 252, 'pledge': 2526, 'dark': 827, 'wonder': 3700, 'questions': 2661, 'snickers': 3039, 'io': 1738, 'situation': 2992, 'heheh': 1555, 'shot': 2955, 'mainland': 2008, 'love': 1975, 'eleven': 1056, 'cookies': 734, 'negative': 2231, 'boner': 387, 'lincoln': 1930, 'they': 3324, 'lyrics': 1990, 'meee': 2069, 'sealed': 2875, 'gift': 1367, 'bars': 283, 'shuriken': 2965, 'proud': 2627, 'power': 2573, 'faint': 1139, 'okayokay': 2333, 'quest': 2659, 'grandma': 1424, 'agree': 91, 'eggs': 1037, 'college': 672, 'hobby': 1608, 'faster': 1162, 'off': 2313, 'arrived': 197, 'cochran': 664, 'operate': 2365, 'crack': 767, 'clyde': 661, 'ban': 274, 'explain': 1116, 'bill': 350, 'second': 2880, 'lame': 1872, 'ooooh': 2353, 'eye': 1123, 'inside': 1722, 'legal': 1900, 'cult': 797, 'couple': 756, 'grandpa': 1426, 'leborkian': 1897, 'heeh': 1546, 'intercom': 1728, 'dreamers': 967, 'matches': 2042, 'land': 1873, 'keyboards': 1822, 'granted': 1427, 'genius': 1352, 'daaaa': 809, 'didn': 896, 'peruvian': 2468, 'steven': 3143, 'throw': 3345, 'loss': 1970, 'swallow': 3221, 'ummm': 3474, 'tea': 3275, 'gregendath': 1435, 'idn': 1684, 'tenorman': 3293, 'malkinson': 2017, 'spreading': 3103, 'eeeehh': 1028, 'whup': 3667, 'trade': 3407, 'egypt': 1038, 'quality': 2655, 'followed': 1254, 'shows': 2963, 'teddy': 3284, 'apart': 171, 'wheelchair': 3644, 'toying': 3404, 'alike': 114, 'inward': 1737, 'operation': 2366, 'controller': 730, 'un': 3475, 'playful': 2522, 'redskins': 2717, 'neato': 2223, 'stallone': 3117, 'bicycle': 343, 'scalp': 2854, 'deck': 848, 'topeka': 3384, 'check': 584, 'wählen': 3752, 'saved': 2846, 'people': 2454, 'university': 3491, 'responsible': 2753, 'sylvester': 3232, 'jennifer': 1765, 'damned': 819, 'when': 3647, 'puked': 2638, 'without': 3693, 'toilet': 3366, 'skank': 2998, 'avoid': 239, 'head': 1528, 'wheel': 3643, 'animal': 152, 'square': 3107, 'enterprise': 1079, 'works': 3722, 'middle': 2105, 'row': 2807, 'asperger': 209, 'all': 116, 'colfax': 671, 'himself': 1592, 'loved': 1976, 'homeless': 1621, 'comment': 683, 'sleeping': 3009, '20': 6, 'where': 3649, 'photon': 2482, 'guy': 1462, 'owners': 2392, 'yo': 3780, 'medical': 2066, 'respect': 2751, 'chaining': 563, 'gallons': 1330, 'spying': 3106, 'awesom': 245, 'mike': 2107, 'fad': 1134, 'gaming': 1334, 'let': 1910, 'covered': 761, 'ahead': 96, 'sec': 2879, 'nation': 2214, 'read': 2696, 'strike': 3174, 'suppsoed': 3214, 'mix': 2132, 'anonymous': 160, 'certainly': 560, 'ooh': 2348, 'school': 2860, 'season': 2877, 'against': 86, 'interesting': 1731, 'fluid': 1247, 'fact': 1133, 'first': 1226, 'stricken': 3173, 'reports': 2742, 'bellied': 325, 'spray': 3101, 'wipin': 3687, 'freaking': 1288, 'clicking': 644, 'begin': 316, 'vaya': 3533, 'freeze': 1293, 'provider': 2629, 'evolved': 1108, 'backhand': 256, 'uuh': 3522, 'four': 1282, 'perform': 2460, 'bed': 311, 'liquid': 1935, 'curious': 802, 'cops': 741, 'fountains': 1281, 'uhm': 3470, 'click': 643, 'bands': 276, 'lying': 1989, 'lost': 1971, 'rid': 2771, 'console': 722, 'cartman': 531, 'disorder': 922, 'ooo': 2351, 'shuttlecraft': 2968, 'dreamt': 968, 'max': 2045, 'half': 1482, 'somethin': 3056, 'easy': 1018, 'traitor': 3412, 'thousand': 3340, 'woooohoooo': 3712, 'lima': 1929, 'way': 3601, 'upset': 3507, 'large': 1874, 'coat': 662, 'ashes': 204, 'reunion': 2762, 'pride': 2597, 'leprechauns': 1906, 'charge': 577, 'selling': 2900, 'list': 1936, 'wars': 3588, 'memories': 2078, 'lobster': 1950, 'witness': 3694, 'christopher': 621, 'low': 1978, 'nicely': 2245, 'kickoffs': 1828, 'smirk': 3028, 'wet': 3630, 'chinese': 600, 'meanest': 2059, 'cross': 790, 'bonita': 389, 'badge': 262, 'most': 2166, 'county': 755, 'sing': 2983, 'roof': 2801, 'forgot': 1272, 'ground': 1442, 'foolin': 1260, 'goes': 1397, 'seriously': 2913, 'relief': 2730, 'terrific': 3297, 'rider': 2773, 'sometimes': 3059, 'homeland': 1620, 'hah': 1473, 'package': 2394, 'born': 397, 'reporuto': 2743, 'weenter': 3618, 'oohh': 2349, 'many': 2025, 'kenny': 1816, 'aborted': 42, 'pics': 2486, 'purity': 2648, 'accepting': 48, 'phone': 2480, 'nah': 2205, 'fever': 1193, 'again': 85, 'birds': 352, 'natural': 2218, 'oooohh': 2354, 'miss': 2126, 'facebook': 1130, 'psychos': 2633, 'washington': 3592, 'laundry': 1883, 'buying': 489, 'bobby': 382, 'gays': 1343, 'fervent': 1189, 'persecuted': 2464, 'handibook': 1490, 'snag': 3034, 'pet': 2469, 'massage': 2040, 'torch': 3385, 'humbly': 1660, 'aaaaaaaaaaaaaa': 21, 'levels': 1913, 'guns': 1459, 'quiet': 2664, 'fell': 1184, 'heyhey': 1581, 'western': 3629, '500': 13, 'logical': 1952, 'barn': 282, 'peeing': 2447, 'different': 900, 'punched': 2641, 'crocodiles': 789, 'yeti': 3778, 'named': 2210, 'reckless': 2711, 'tweek': 3453, 'secret': 2882, 'elway': 1061, 'rifle': 2776, 'terrorism': 3299, 'commercial': 687, 'threat': 3341, 'unimportant': 3487, 'flocks': 1242, 'founding': 1279, 'rivivrт': 2789, 'impact': 1704, 'tailored': 3242, 'penisbutt': 2452, 'leak': 1890, 'front': 1304, 'screw': 2866, 'thah': 3309, 'spoke': 3099, 'saving': 2847, 'wuss': 3748, 'bait': 268, 'gotta': 1415, 'hahahahahaha': 1477, 'haunt': 1519, 'fathers': 1167, 'celebrity': 554, 'diversion': 927, 'freakin': 1287, 'frozen': 1306, 'names': 2211, 'basic': 287, 'paint': 2401, 'mrrh': 2181, 'ours': 2378, 'okay': 2332, 'yek': 3772, 'dumb': 994, 'jewbilee': 1772, 'pot': 2564, 'hand': 1489, 'hugging': 1653, 'isle': 1744, 'blowjob': 375, 'aquarium': 184, 'usually': 3521, 'swell': 3227, 'clearly': 641, 'coloring': 675, 'called': 499, 'balls': 273, 'older': 2336, 'cultures': 799, 'birthday': 354, 'kevin': 1818, 'six': 2993, 'states': 3130, 'quite': 2666, 'okayokayokay': 2334, 'blueprint': 377, 'sympathize': 3234, 'marathon': 2026, 'burrito': 471, 'timeouts': 3356, 'sold': 3046, 'wooooooo': 3714, 'aaaaaaaaaa': 20, 'debate': 842, 'fumigated': 1316, 'took': 3379, 'humanity': 1658, 'sickest': 2970, 'fluffy': 1246, 'homosexual': 1623, 'stuff': 3185, 'yeahyeah': 3763, 'whale': 3634, 'tights': 3353, 'euuugh': 1094, 'supposed': 3213, 'ancient': 144, 'pharaoh': 2476, 'pubes': 2636, 'reviewing': 2765, 'urn': 3513, 'robert': 2790, 'grounded': 1443, 'whole': 3662, 'poppy': 2558, 'size': 2996, 'dreidel': 969, 'nurse': 2296, 'tainted': 3243, 'pond': 2548, 'protective': 2625, 'stolen': 3152, 'heck': 1541, 'owe': 2390, 'driving': 979, 'obsessed': 2305, 'till': 3354, 'andy': 148, 'crappy': 775, 'shall': 2928, 'sie': 2972, 'rodeo': 2794, 'wth': 3744, 'kayak': 1807, 'pewww': 2475, 'adventure': 74, 'stressful': 3171, 'butthole': 485, 'anymore': 166, 'load': 1946, 'build': 451, 'nine': 2250, 'dunno': 998, 'eah': 1008, 'mencia': 2081, 'blast': 365, 'turn': 3448, 'advantage': 73, 'george': 1356, 'mayor': 2048, 'minimalized': 2115, 'elton': 1060, 'vegetable': 3536, 'serve': 2914, 'kingdom': 1846, 'meal': 2057, 'adt': 71, 'messed': 2092, 'moses': 2165, 'heheheheheh': 1558, 'minecraft': 2114, 'closest': 653, 'interest': 1729, 'confess': 717, 'dayo': 833, 'ellen': 1058, 'royal': 2808, 'fuckers': 1310, 'president': 2587, '400': 11, 'naturally': 2219, 'shop': 2950, 'yet': 3777, 'retard': 2758, 'waaah': 3564, 'lookin': 1957, 'ripoff': 2783, 'ffriend': 1195, 'anywhere': 170, 'crippled': 786, 'nno': 2256, 'trailers': 3409, 'go': 1388, 'brother': 441, 'towelie': 3401, 'costume': 746, 'schools': 2861, 'teeth': 3285, 'fatter': 1169, 'of': 2312, 'trust': 3437, 'emmanuel': 1066, 'anderson': 146, 'whooole': 3663, 'sega': 2896, 'already': 124, 'celebrate': 552, 'trying': 3441, 'lucas': 1981, 'girl': 1372, 'avoids': 240, 'means': 2060, 'offended': 2314, 'earrings': 1011, 'apparently': 176, 'christ': 617, 'forced': 1265, 'troublemaker': 3433, 'su': 3190, 'commerce': 686, 'each': 1006, 'hoosajiggawha': 1631, 'sane': 2839, 'some': 3052, 'pretend': 2590, 'whassup': 3636, 'serious': 2911, 'end': 1071, 'engines': 1075, 'society': 3043, 'sales': 2832, 'stuttered': 3188, 'vulcan': 3561, 'mommy': 2146, 'wii': 3674, 'system': 3237, 'aaaah': 25, 'battle': 294, 'betray': 334, 'towards': 3399, 'kinder': 1843, 'drug': 982, 'dirty': 913, 'famous': 1150, 'family': 1149, 'sound': 3071, 'note': 2283, 'came': 502, 'americans': 136, 'addict': 62, 'follow': 1253, 'fake': 1145, 'weak': 3606, 'shitty': 2945, 'heaven': 1539, 'queef': 2657, 'see': 2886, 'your': 3784, 'class': 635, 'yeahhh': 3762, 'ghetto': 1362, 'homework': 1622, 'choice': 607, 'clay': 637, 'throwin': 3346, 'bounces': 405, 'doing': 939, 'ipad': 1739, 'into': 1733, 'indians': 1717, 'voted': 3557, 'freebie': 1291, 'haiku': 1480, 'every': 1102, 'farm': 1155, 'huggin': 1652, 'enjoy': 1076, 'far': 1153, 'king': 1845, 'reality': 2700, 'mackey': 1995, 'cock': 665, 'peehole': 2446, 'tries': 3429, 'destroyed': 878, 'chance': 568, 'dearest': 840, 'scrotie': 2870, 'yeahah': 3761, 'gets': 1359, 'motivate': 2170, 'smiles': 3026, 'tgi': 3306, 'cartmaaanbrah': 530, 'savior': 2848, 'locked': 1951, 'french': 1294, 'rascal': 2687, 'hard': 1509, 'whittle': 3656, 'client': 645, 'marisa': 2030, 'juice': 1793, 'attend': 224, 'glued': 1386, 'fër': 1324, 'son': 3061, 'itunes': 1751, 'chili': 597, 'interested': 1730, 'country': 754, 'decide': 845, 'designed': 874, 'hapa': 1501, 'micropay': 2104, 'open': 2362, 'strawberry': 3167, 'concentrating': 707, 'leprechaun': 1905, 'judas': 1791, 'punish': 2643, 'security': 2885, 'nichole': 2247, 'pineapple': 2497, 'treatment': 3419, 'polymarethane': 2546, 'mcmahon': 2054, 'stamps': 3119, 'memphis': 2079, 'condominium': 712, 'mutant': 2199, 'geologist': 1355, 'agreed': 92, 'along': 123, 'whatever': 3640, 'bueno': 448, 'snakes': 3036, 'jacking': 1755, 'mage': 2000, 'assisuto': 215, 'wrestle': 3738, 'stoop': 3158, 'enter': 1078, 'held': 1561, 'floating': 1241, 'fads': 1136, 'rock': 2792, 'plenty': 2531, 'smartass': 3020, 'dilapidated': 903, 'mall': 2018, 'peters': 2471, 'mojo': 2141, 'point': 2537, 'chase': 579, 'splinters': 3097, 'threw': 3343, 'mail': 2006, 'except': 1111, 'surround': 3217, 'hemorrhoid': 1571, 'wagh': 3566, 'citizenship': 631, 'crawl': 776, 'brought': 443, 'stuffed': 3186, 'roger': 2795, 'pure': 2646, 'distract': 924, 'disagree': 915, 'hew': 1578, 'this': 3335, 'reel': 2718, 'apocalypse': 172, 'attacks': 223, 'computer': 703, 'cremated': 781, 'aaaaaa': 19, 'crazy': 778, 'everywhere': 1106, 'nooo': 2272, 'immature': 1702, 'picked': 2485, 'laid': 1869, 'devil': 887, 'while': 3652, 'speak': 3082, 'freckles': 1289, 'sea': 2874, 'dinenr': 906, 'okama': 2331, 'crime': 783, 'mcboogerballs': 2050, 'mm': 2134, 'patriotic': 2434, 'ladies': 1866, 'learning': 1893, 'hold': 1611, 'either': 1048, 'fella': 1185, 'hear': 1533, 'guess': 1452, 'thirteen': 3333, 'loves': 1977, 'goodwill': 1408, 'earlier': 1009, 'butteriest': 482, 'whether': 3650, 'bisexual': 355, 'pile': 2493, 'hearts': 1538, 'wwe': 3751, 'parents': 2417, 'leno': 1904, 'shocking': 2946, 'soil': 3045, 'looking': 1958, 'fart': 1157, 'trabajar': 3406, 'marble': 2027, 'fast': 1161, 'yourself': 3786, 'busted': 478, 'senior': 2904, 'listen': 1937, 'bet': 333, 'water': 3599, 'hammer': 1487, 'metal': 2096, 'ohhh': 2325, 'heads': 1530, 'carnival': 524, 'minute': 2120, 'awaiting': 242, 'warcraft': 3582, 'bullying': 462, 'peace': 2440, 'rather': 2689, 'ideas': 1681, 'polymer': 2547, 'buttholes': 486, 'soldier': 3047, 'it': 1749, 'couldn': 751, 'heeheehee': 1547, 'like': 1927, 'conspiracy': 723, 'longer': 1954, 'video': 3541, 'total': 3389, 'jew': 1771, 'third': 3332, 'body': 384, 'hate': 1517, 'wednesday': 3613, 'hansen': 1500, 'parking': 2419, 'those': 3337, 'bebe': 307, 'pirate': 2501, 'fellas': 1186, 'ah': 94, 'platinum': 2517, 'how': 1644, 'monster': 2152, 'hammerclaw': 1488, 'prick': 2596, 'madonna': 1998, 'aaaaaaah': 23, 'mankind': 2024, 'boooooo': 394, 'pants': 2411, 'episode': 1083, 'turned': 3449, 'ringy': 2781, 'varieties': 3532, 'heard': 1534, 'texan': 3304, 'stomach': 3154, 'frescas': 1296, 'chicks': 594, 'yep': 3773, 'mmm': 2135, 'mistake': 2129, 'carlos': 523, 'faith': 1143, 'declare': 849, 'aa': 17, 'adams': 60, 'ass': 211, 'wormhole': 3726, 'hookers': 1629, 'football': 1263, 'brothers': 442, 'ere': 1085, 'labels': 1864, 'man': 2021, 'bar': 278, 'study': 3183, 'driver': 978, 'fair': 1140, 'retarded': 2759, 'joyous': 1790, 'basically': 288, 'chipotle': 605, 'keeping': 1809, 'another': 161, 'doin': 938, 'least': 1894, 'investigative': 1735, 'oooooo': 2355, 'guuuuyyyyys': 1460, 'chosen': 616, 'inappropriate': 1709, 'grrr': 1446, 'there': 3321, 'iphone': 1740, 'hysterical': 1678, 'heellp': 1548, 'sports': 3100, 'band': 275, 'giant': 1365, 'webpage': 3612, 'birth': 353, 'support': 3211, 'realized': 2702, 'grader': 1420, 'ate': 217, 'ago': 90, 'nyanyanyanya': 2300, 'firecrackers': 1223, 'favor': 1172, 'bowl': 408, 'marty': 2037, 'casino': 539, 'hayek': 1525, 'mixture': 2133, 'speech': 3088, 'cars': 529, 'opera': 2364, 'unethical': 3483, 'level': 1912, 'nononooo': 2269, 'greyhawk': 1438, 'hummer': 1661, 'apologize': 173, 'theme': 3319, 'ship': 2942, 'snacky': 3033, 'stoned': 3156, 'very': 3538, 'outside': 2384, 'wan': 3575, 'present': 2585, 'haha': 1474, 'stick': 3144, 'uses': 3519, 'comes': 680, 'run': 2817, 'baseball': 284, 'lots': 1973, 'luck': 1983, 'drunken': 986, 'evenly': 1098, 'truly': 3436, 'morn': 2161, 'fill': 1206, 'nonono': 2267, 'words': 3717, 'chaos': 576, 'mexico': 2101, 'ya': 3754, 'backyard': 259, 'never': 2238, 'haahaahahaha': 1469, 'act': 57, 'profile': 2612, 'thieves': 3325, 'gatorade': 1340, 'cold': 670, 'studying': 3184, 'robot': 2791, 'cakes': 495, 'christian': 618, 'brine': 432, 'heuh': 1577, 'outfits': 2382, 'skin': 3002, 'key': 1821, 'blake': 362, 'pipe': 2500, 'candy': 510, 'gaywad': 1344, 'huh': 1654, 'tomodachi': 3371, 'pussy': 2651, 'diamond': 889, 'underpants': 3480, 'what': 3637, 'embarrassing': 1064, 'nya': 2299, 'make': 2009, 'dirtiest': 912, 'pewpeww': 2474, 'cripple': 785, 'signs': 2978, 'kitty': 1850, 'pin': 2496, 'ten': 3291, 'zillion': 3796, 'beady': 298, 'prerecorded': 2584, 'plane': 2510, 'shopping': 2952, 'measured': 2062, 'baskets': 290, 'compensate': 693, 'aahhh': 36, 'auditions': 231, 'less': 1908, 'kitchen': 1849, 'ba': 251, 'prank': 2581, 'stole': 3151, 'nono': 2266, 'question': 2660, 'look': 1955, 'forward': 1276, 'ooowww': 2358, 'firemen': 1224, 'breakin': 425, 'elaborate': 1049, 'away': 244, 'selfish': 2898, 'goodbye': 1405, 'powers': 2575, 'warner': 3586, 'sent': 2907, 'aaaa': 18, 'ih': 1689, 'gas': 1338, 'american': 135, 'senile': 2903, 'truth': 3438, 'ever': 1101, 'crimes': 784, 'motherfucking': 2169, 'ginger': 1370, 'crowd': 793, 'franklin': 1285, 'app': 175, 'dildo': 904, 'menu': 2085, 'mysterious': 2203, 'wrapped': 3736, 'smith': 3029, 'tomato': 3369, 'glory': 1384, 'starts': 3127, 'funnybot': 1319, 'withdrawal': 3692, 'seconds': 2881, 'natives': 2217, 'thirty': 3334, 'wing': 3682, 'sister': 2989, 'moment': 2145, 'storm': 3163, 'jail': 1756, 'races': 2669, 'has': 1513, 'assassination': 212, 'rebuilding': 2709, 'shelly': 2938, 'crayons': 777, 'helen': 1562, 'light': 1925, 'diet': 899, 'haaa': 1465, 'jewgar': 1773, 'kids': 1833, 'waitwaitwait': 3569, 'fairy': 1142, 'as': 201, 'straight': 3165, 'arcane': 187, 'mclachlan': 2053, 'drinking': 975, 'heist': 1560, 'necklaces': 2225, 'lake': 1870, 'toys': 3405, 'girls': 1374, 'fighting': 1202, 'chinpokomon': 602, 'won': 3699, 'zero': 3795, 'officer': 2319, 'sick': 2969, 'knight': 1852, 'chip': 603, 'adorable': 69, 're': 2693, 'fooled': 1259, 'knowing': 1855, 'thinks': 3331, 'yummy': 3792, 'impressive': 1707, 'appetit': 180, 'reading': 2697, 'you': 3781, 'studio': 3182, 'chop': 613, 'sub': 3191, 'tourette': 3397, 'need': 2227, 'blister': 369, 'slowing': 3013, 'no': 2257, 'urge': 3510, 'roles': 2797, 'wiener': 3671, 'clock': 648, 'yeah': 3760, 'odds': 2310, 'kew': 1819, 'hebrew': 1540, 'wondrous': 3703, 'everything': 1105, 'gravy': 1429, 'downstairs': 963, 'direct': 909, 'indian': 1716, 'suppose': 3212, 'table': 3238, 'dvds': 1002, 'chocolate': 606, 'machine': 1992, 'owww': 2393, 'laughin': 1881, 'flicker': 1239, 'kiss': 1847, 'yahtzee': 3757, 'approval': 182, 'anne': 156, 'stress': 3170, 'egg': 1036, 'flak': 1232, 'show': 2958, 'past': 2430, 'lives': 1942, 'paladins': 2405, 'gaaah': 1325, 'ganbaru': 1335, 'll': 1944, 'filthy': 1211, 'great': 1431, 'between': 338, 'world': 3723, 'oppressors': 2367, 'behold': 320, 'toooo': 3381, 'fragile': 1284, 'bitten': 359, 'worthless': 3732, 'david': 829, 'anything': 168, 'lur': 1986, 'paeh': 2396, 'pony': 2549, 'woooooh': 3713, 'because': 308, 'getting': 1361, 'aaand': 34, 'huge': 1651, 'step': 3139, 'aaaaaaaaaaaaaaaa': 22, 'joke': 1784, 'belong': 327, 'forgive': 1271, 'artemus': 199, 'practice': 2577, 'please': 2525, 'intolerant': 1734, 'lucille': 1982, 'reinstated': 2725, 'with': 3691, 'creamy': 780, 'innocence': 1719, 'now': 2289, 'jewpacabra': 1776, 'sag': 2826, 'noho': 2261, 'pick': 2484, 'misunderstanding': 2131, 'reeve': 2719, 'favorite': 1173, 'talked': 3252, 'get': 1358, 'ratings': 2690, 'image': 1698, 'win': 3678, 'reals': 2705, 'offers': 2317, 'stand': 3121, 'anyone': 167, 'sugoi': 3202, 'uuugh': 3524, 'weigh': 3620, 'grow': 1445, 'hyah': 1676, 'disability': 914, 'fools': 1262, 'hats': 1518, 'walked': 3573, 'finally': 1213, 'ea': 1005, 'oops': 2359, 'prevailed': 2593, 'movies': 2177, 'jerk': 1767, 'uheheheh': 3466, 'ninjas': 2253, 'ack': 53, 'angel': 149, 'will': 3675, 'suggest': 3201, 'war': 3581, 'sophisticated': 3067, 'chan': 567, 'chooses': 612, 'surprise': 3216, 'authorities': 235, 'zeit': 3794, 'neither': 2234, 'tammy': 3256, 'embarrass': 1063, 'explanation': 1117, 'final': 1212, 'appeased': 179, 'notepad': 2284, 'hidden': 1583, 'course': 758, 'entire': 1080, 'cough': 749, 'choo': 610, 'passed': 2426, 'emotional': 1067, 'giving': 1379, 'intend': 1727, 'does': 934, 'reaaly': 2694, 'anal': 141, 'kansas': 1803, 'young': 3782, 'practically': 2576, 'hands': 1495, 'hiding': 1585, 'cancer': 509, 'sabotage': 2822, 'mookie': 2157, 'peed': 2445, 'hella': 1565, 'can': 506, 'masters': 2041, 'boyett': 413, 'goddamnit': 1395, 'aren': 189, 'controlled': 729, 'keep': 1808, 'doooowwwwnnnn': 948, 'finals': 1214, 'snake': 3035, 'invitation': 1736, 'ninety': 2251, 'kickass': 1825, 'hee': 1542, 'biggest': 346, 'meat': 2063, 'fingerpaint': 1219, 'jacket': 1754, 'money': 2149, 'daijobu': 813, 'ptui': 2634, 'horse': 1637, 'naaaa': 2204, 'mmmmmm': 2136, 'conner': 721, 'value': 3529, 'confront': 718, 'expect': 1115, 'addiction': 64, 'calling': 500, 'warm': 3583, 'neat': 2222, 'tattle': 3268, 'queer': 2658, 'presidential': 2588, 'good': 1403, 'congratulations': 720, 'corporations': 745, 'goddamned': 1394, 'awkward': 247, 'partirт': 2421, 'sale': 2831, 'makers': 2011, 'muhammad': 2187, 'mama': 2020, 'crispy': 787, 'skateboard': 2999, 'veal': 3535, 'makeover': 2010, 'ready': 2698, 'generator': 1350, 'cheery': 587, 'drink': 974, 'lice': 1918, 'taxes': 3272, 'murderin': 2189, 'combine': 677, 'playground': 2523, 'lay': 1886, 'jimmy': 1779, 'hey': 1580, 'kenni': 1815, 'coconut': 667, 'answering': 163, 'yes': 3775, 'democratic': 860, 'cavemen': 548, 'comin': 681, 'douchey': 960, 'changed': 571, 'vote': 3556, 'chuh': 625, 'pretending': 2591, 'douchebag': 958, 'sheets': 2937, 'close': 651, 'capable': 512, 'scurrying': 2871, 'hoist': 1610, 'cat': 540, 'leaving': 1896, 'bob': 381, 'grey': 1437, 'effects': 1034, 'lot': 1972, 'rush': 2819, 'adventures': 76, 'student': 3179, 'pamphlet': 2406, 'ufff': 3460, 'red': 2716, 'sense': 2905, 'fuh': 1313, 'met': 2095, 'own': 2391, 'audience': 230, 'alone': 122, 'hash': 1514, 'unless': 3492, 'susan': 3219, 'asphyxiation': 210, 'wanted': 3579, 'hahahaha': 1476, 'chamber': 566, 'claridge': 634, 'around': 196, 'ugh': 3461, 'stitches': 3150, 'whites': 3655, 'processors': 2609, 'fib': 1196, 'freaked': 1286, 'melancholy': 2075, 'cds': 550, 'wuh': 3746, 'hanging': 1497, 'noooooo': 2275, 'talent': 3249, 'woohoooo': 3709, 'commercials': 688, 'eyed': 1124, 'faaahn': 1126, 'commit': 689, 'amen': 133, 'drift': 973, 'dibs': 891, 'pay': 2436, 'psychic': 2632, 'matter': 2043, 'clean': 638, 'future': 1323, 'lawsuit': 1884, 'decay': 844, 'suits': 3206, 'flash': 1233, 'muslim': 2196, 'weekend': 3616, 'uf': 3458, 'brilliant': 431, 'artwhore': 200, 'shepherds': 2940, 'late': 1876, 'computers': 704, 'rrrrooowwwrrr': 2811, 'fault': 1171, 'doesn': 935, 'save': 2845, 'reward': 2768, 'gap': 1336, 'willing': 3676, 'went': 3626, 'saint': 2829, 'nicest': 2246, 'aaaahhhh': 27, 'wooo': 3710, 'hmyah': 1603, 'chicago': 591, 'laundromat': 1882, 'feel': 1180, 'tastes': 3267, 'style': 3189, 'break': 424, 'eechh': 1027, 'living': 1943, 'bathroom': 293, 'gold': 1400, 'arcade': 186, 'rrrh': 2810, 'turkey': 3446, 'obama': 2301, 'argghh': 190, 'imagina': 1699, 'quack': 2654, 'change': 570, 'clear': 639, 'con': 706, 'rroowwrr': 2809, 'honor': 1626, 'stations': 3131, 'nicks': 2248, 'wooooooooo': 3715, 'conferences': 716, 'self': 2897, 'advice': 78, 'loses': 1969, 'tralalalala': 3413, 'christmastime': 620, 'derrr': 871, 'deaf': 836, 'united': 3489, 'cowboys': 763, 'eeeh': 1029, 'hundreds': 1664, 'wheeze': 3646, 'job': 1780, 'betrayal': 335, 'rules': 2816, 'player': 2521, 'yeeaahh': 3767, 'unintelligible': 3488, 'craphole': 772, 'ahhhgh': 100, 'pedal': 2443, 'scene': 2858, 'tampon': 3257, 'why': 3668, 'asking': 207, 'vagina': 3527, 'cheap': 582, 'sweet': 3226, 'whoops': 3664, 'jason': 1760, 'told': 3368, 'played': 2520, 'frosty': 1305, 'jewish': 1774, 'insensitive': 1721, 'seek': 2889, 'noo': 2270, 'woohoohoo': 3707, 'feed': 1178, 'watch': 3595, 'effect': 1033, 'hawaii': 1523, 'have': 1520, 'alarmed': 109, 'help': 1568, 'bullies': 458, 'slowly': 3014, 'nooohohohohohoho': 2273, 'smells': 3025, 'plan': 2509, 'insane': 1720, 'duhuhude': 993, 'classify': 636, 'whe': 3642, 'write': 3741, '13': 3, 'demands': 857, 'xbox': 3753, 'traumatized': 3417, 'yours': 3785, 'nuts': 2298, 'residence': 2749, 'hahaha': 1475, 'touch': 3391, 'significance': 2977, 'boxer': 410, 'nohoho': 2262, 'mari': 2028, '29': 8, 'vet': 3539, 'built': 454, 'wrote': 3743, 'wicker': 3669, 'sweeeeeeeeeet': 3225, 'alter': 128, 'stam': 3118, 'nipples': 2255, 'but': 480, 'hum': 1656, 'bush': 474, 'children': 596, 'sucks': 3198, 'trapped': 3415, 'layer': 1887, 'slut': 3016, 'gee': 1346, 'fajitas': 1144, 'although': 129, 'kay': 1806, 'guilt': 1455, 'somebody': 3053, 'ni': 2243, 'weight': 3621, 'gt': 1448, 'ski': 3001, 'nahit': 2206, 'depressed': 868, 'died': 898, 'control': 728, 'dude': 990, 'night': 2249, 'irritable': 1741, 'raymond': 2692, 'convince': 731, 'trent': 3425, 'pillow': 2495, 'wasting': 3594, 'colorado': 674, 'gallant': 1329, 'grouchy': 1441, 'disney': 921, 'tone': 3374, 'bust': 477, 'top': 3383, 'meteor': 2097, 'otters': 2375, 'eskimos': 1090, 'personally': 2466, 'issue': 1747, 'drum': 984, 'cream': 779, 'goddammit': 1392, 'weren': 3628, 'among': 137, 'cou': 748, 'authoritah': 234, 'shut': 2966, 'after': 84, 'breasts': 428, 'spielberg': 3091, 'goin': 1398, 'popped': 2557, 'griffin': 1439, 'peopull': 2455, 'husband': 1673, 'offensive': 2315, 'been': 314, 'choreography': 614, 'abortion': 43, 'mart': 2035, 'stay': 3133, 'tickets': 3349, 'adults': 72, '40': 10, 'plus': 2533, 'guys': 1463, 'photo': 2481, 'coma': 676, 'points': 2540, 'screwing': 2868, 'fooling': 1261, 'wish': 3689, 'remember': 2736, 'hell': 1564, 'smackdown': 3017, 'molestered': 2143, 'bigger': 345, 'sorry': 3069, 'shan': 2929, 'army': 195, 'charts': 578, 'scouts': 2865, 'pal': 2403, 'tiny': 3359, 'further': 1322, 'joking': 1786, 'party': 2424, 'nobody': 2259, 'jambu': 1758, 'carrot': 528, 'rolls': 2799, 'weh': 3619, 'uh': 3465, 'monneey': 2151, 'steve': 3142, 'navi': 2220, 'needs': 2229, 'cares': 521, 'dolls': 942, 'tomorrow': 3372, 'taste': 3266, 'broke': 439, 'helmets': 1567, 'sixth': 2994, 'chipotlaway': 604, 'service': 2918, 'handkerchief': 1492, 'watched': 3596, 'last': 1875, 'dare': 826, 'tourettes': 3398, 'meth': 2098, 'nothin': 2285, 'lid': 1920, 'myrrh': 2201, 'teaming': 3280, 'counting': 753, 'digitally': 902, 'telling': 3289, 'solved': 3050, 'partner': 2422, 'sayonara': 2852, 'licking': 1919, 'pink': 2498, 'previously': 2595, 'seventy': 2923, 'adler': 66, 'entry': 1082, 'blaine': 361, 'waunt': 3600, 'ways': 3602, 'karen': 1804, 'pretty': 2592, 'perfectly': 2459, 'month': 2155, 'fans': 1152, 'piles': 2494, 'left': 1899, 'san': 2835, 'nerve': 2236, 'ist': 1748, 'urgh': 3512, 'sticks': 3145, 'nintendo': 2254, 'our': 2377, 'next': 2241, 'graders': 1421, 'tall': 3255, 'promote': 2618, 'current': 803, 'eh': 1040, 'demise': 858, 'obscene': 2304, 'tripped': 3430, 'flight': 1240, 'flush': 1248, 'carpeting': 527, 'rip': 2782, 'knew': 1851, 'thinkin': 3329, '49': 12, '16': 5, 'sixty': 2995, 'lo': 1945, 'choose': 611, 'noa': 2258, 'heeeeyyyy': 1544, 'having': 1522, 'detention': 883, 'bring': 433, 'possession': 2561, 'agencies': 87, 'remove': 2738, 'got': 1414, 'punk': 2645, 'smiley': 3027, 'spring': 3104, 'fun': 1317, 'try': 3439, 'denver': 864, 'lure': 1987, 'difficult': 901, 'awarding': 243, 'walk': 3572, 'burger': 467, 'scott': 2864, 'startup': 3128, 'damnit': 820, 'white': 3654, 'goal': 1389, 'spikes': 3092, 'wok': 3696, 'eighteen': 1045, 'would': 3733, 'methane': 2099, 'copies': 740, 'ture': 3445, 'okaaayyyyyyy': 2330, 'busy': 479, 'practicing': 2578, 'box': 409, 'tomei': 3370, 'stage': 3114, 'stem': 3138, 'wway': 3750, 'woohooo': 3708, 'gordon': 1412, 'marshmallow': 2034, 'contest': 726, 'dressed': 971, 'noise': 2263, 'lies': 1923, 'harassing': 1508, 'hit': 1598, 'raisins': 2676, 'confusing': 719, 'winning': 3683, 'pancake': 2408, 'ahem': 97, 'grrrrr': 1447, 'prove': 2628, 'science': 2862, 'arkansas': 192, 'mock': 2138, 'hrrugh': 1646, 'toughest': 3395, 'moines': 2140, 'gabba': 1327, 'block': 370, 'cartmanland': 533, 'alarm': 108, 'hay': 1524, 'new': 2239, 'well': 3624, 'mechanic': 2064, 'negroplasty': 2233, 'woooohoohoo': 3711, 'men': 2080, 'killing': 1838, 'upside': 3508, 'wrestlin': 3739, 'looove': 1962, 'dumbass': 995, 'america': 134, 'bored': 395, 'augh': 232, 'one': 2340, 'big': 344, 'says': 2853, 'dog': 936, 'jelly': 1764, 'best': 332, 'little': 1940, 'killed': 1836, 'just': 1799, 'currently': 804, 'believing': 324, 'version': 3537, 'farts': 1158, 'form': 1273, 'record': 2712, 'alrighty': 126, 'smash': 3022, 'reference': 2720, 'shaved': 2934, 'fit': 1229, 'rams': 2679, 'mirror': 2124, 'electoral': 1051, 'myself': 2202, 'beefcake': 313, 'soon': 3065, 'silly': 2979, 'who': 3657, 'wrath': 3737, 'che': 581, 'pees': 2450, 'quit': 2665, 'recorder': 2713, 'wendy': 3625, 'eighth': 1046, 'member': 2076, 'television': 3287, 'destroying': 879, 'salma': 2833, 'beautiful': 303, 'comedy': 679, 'mints': 2119, 'blocking': 371, 'blue': 376, 'twenty': 3454, 'that': 3315, 'teacher': 3277, 'shrimp': 2964, 'goddamn': 1393, 'jenny': 1766, 'ahow': 101, 'stoners': 3157, 'sketch': 3000, 'wow': 3735, 'burn': 468, 'universe': 3490, 'shiiit': 2941, 'slow': 3012, 'uncle': 3476, 'mostly': 2167, 'fields': 1199, 'donut': 947, 'gamesphere': 1333, 'dickshit': 893, 'meant': 2061, 'odin': 2311, 'be': 296, 'virgin': 3547, 'eheh': 1042, 'day': 831, 'didja': 895, 'black': 360, 'crabtree': 766, 'fall': 1147, 'test': 3301, 'syllable': 3231, 'protectin': 2623, 'protection': 2624, 'gone': 1401, 'faces': 1131, 'stinking': 3148, 'gah': 1328, 'dress': 970, 'take': 3244, 'lately': 1877, 'gu': 1449, 'hehahaha': 1552, 'bahamas': 265, 'lawyer': 1885, 'visitors': 3550, 'yeeeeehah': 3768, 'island': 1743, 'mentally': 2083, 'relax': 2728, 'swipe': 3230, 'carpenter': 526, 'identical': 1682, 'life': 1924, 'days': 834, 'shadow': 2927, 'asked': 206, 'purpose': 2649, 'actually': 59, 'bout': 406, 'doh': 937, 'pakew': 2402, 'critters': 788, 'hup': 1669, 'marts': 2036, 'baseketball': 286, 'en': 1068, 'mephesto': 2086, 'yay': 3758, 'mariche': 2029, 'promised': 2617, 'ururalak': 3514, 'glitter': 1382, 'besides': 331, 'complicated': 700, 'payments': 2438, 'stains': 3115, 'worldwide': 3724, 'use': 3516, 'none': 2265, 'jokes': 1785, 'pissed': 2503, 'picture': 2487, 'finished': 1221, 'hearing': 1535, 'pound': 2568, 'woman': 3697, 'celebrities': 553, 'dual': 989, 'justice': 1800, 'hilling': 1590, 'sell': 2899, 'triceratops': 3426, 'lewis': 1915, 'haven': 1521, 'pull': 2640, 'hehehehe': 1557, 'years': 3765, 'daaarrrggghh': 810, 'education': 1025, 'kenneth': 1814, 'odd': 2309, 'duhude': 992, 'raise': 2675, 'to': 3363, 'chaim': 562, 'nascar': 2212, 'mohammad': 2139, 'stalling': 3116, 'chinpoko': 601, 'small': 3018, 'fan': 1151, 'wearing': 3609, 'hwaa': 1675, 'hundred': 1663, 'gray': 1430, 'fumigate': 1315, 'yer': 3774, 'canada': 507, 'poo': 2550, 'menopause': 2082, 'inch': 1710, 'problem': 2606, 'gaaahaha': 1326, 'dang': 824, 'ailnay': 104, 'gentlemen': 1354, 'problems': 2607, 'dollars': 941, 'testicle': 3303, 'dudes': 991, 'aaww': 38, 'kimmel': 1840, 'kick': 1824, 'ooooooooooooooh': 2356, 'mountain': 2172, 'avenue': 238, 'anybody': 165, 'dump': 997, 'cartmans': 534, 'art': 198, 'daylight': 832, 'explode': 1118, 'equality': 1084, 'dry': 987, 'receive': 2710, 'hitler': 1599, 'paste': 2431, 'lord': 1964, 'aunt': 233, 'murphy': 2191, 'stern': 3141, 'ey': 1122, 'enough': 1077, 'elementary': 1053, 'haaarrrrrh': 1468, 'showed': 2959, 'git': 1375, 'speaking': 3084, 'aaaahh': 26, 'seriouslih': 2912, 'out': 2380, 'waitwaitwaitwait': 3570, 'bubble': 445, 'side': 2971, 'leverage': 1914, 'europe': 1093, 'pointless': 2539, 'stinks': 3149, 'did': 894, 'tv': 3452, 'mudpies': 2186, 'nambla': 2208, 'everybody': 1103, 'waa': 3563, 'punished': 2644, 'fetuses': 1192, 'luckily': 1984, 'swastika': 3222, 'hindu': 1593, 'folded': 1252, 'um': 3473, 'grew': 1436, 'discover': 918, 'saturday': 2844, 'nassau': 2213, 'mega': 2072, 'debater': 843, 'tropical': 3431, 'nail': 2207, 'poop': 2552, 'cells': 556, 'leave': 1895, 'aaaarrrrhhh': 30, 'signature': 2975, 'fonz': 1257, 'tuned': 3443, 'hoh': 1609, 'round': 2806, 'sparky': 3081, 'suffice': 3200, 'guards': 1450, 'pansy': 2410, 'calm': 501, 'album': 110, 'rally': 2677, 'gues': 1451, 'yup': 3793, 'knock': 1853, 'bris': 435, 'boyfriend': 414, 'happen': 1502, 'betsy': 336, 'much': 2184, 'gear': 1345, 'catch': 541, 'carton': 535, 'vagayjay': 3526, 'screwed': 2867, 'pow': 2571, 'aaaargh': 28, 'tango': 3259, 'florida': 1245, 'pass': 2425, 'crew': 782, 'terrorist': 3300, 'worth': 3731, 'food': 1258, 'answer': 162, 'promenade': 2615, 'join': 1783, 'aww': 248, 'long': 1953, 'dinner': 908, 'protest': 2626, 'syndrome': 3235, 'babysitter': 254, 'becomes': 310, 'shouldn': 2957, 'santa': 2841, 'saying': 2851, 'glad': 1380, 'crossed': 791, 'everyone': 1104, 'frog': 1302, 'real': 2699, 'eatin': 1021, 'worshiping': 3730, 'split': 3098, 'program': 2613, 'mrs': 2182, 'wiped': 3686, 'proper': 2619, 'macintosh': 1994, 'stolfsky': 3153, 'camera': 503, 'poverty': 2570, 'ers': 1087, 'bunch': 465, 'uff': 3459, 'clinton': 647, 'yehes': 3771, 'grandfather': 1423, 'terrifying': 3298, 'stacey': 3112, 'ohhhhhhhh': 2328, 'rely': 2733, 'arm': 193, 'do': 930, 'listening': 1939, 'angels': 150, 'precisely': 2583, 'emerald': 1065, 'mhm': 2102, 'someone': 3055, 'yesterday': 3776, 'fruity': 1307, 'tissue': 3360, 'romper': 2800, 'sarah': 2842, 'producer': 2610, 'loong': 1960, 'gave': 1341, 'probe': 2605, 'accept': 47, 'reason': 2707, 'twin': 3455, 'keh': 1811, 'baked': 270, 'yaaayaya': 3755, 'tadaima': 3240, 'dork': 952, 'print': 2602, 'gobbles': 1390, '22': 7, 'disease': 919, 'marsh': 2033, 'younger': 3783, 'urection': 3509, 'slug': 3015, 'coffee': 669, 'highest': 1588, 'racquetball': 2672, 'iiit': 1692, 'sounded': 3072, 'town': 3402, 'possible': 2562, 'amongst': 138, 'hutt': 1674, 'ach': 52, 'chubby': 623, 'hoax': 1607, 'th': 3307, 'illness': 1696, 'figure': 1203, 'vanilla': 3531, 'peter': 2470, 'presents': 2586, 'kicked': 1826, 'ranch': 2681, 'chose': 615, 'pushing': 2650, 'penises': 2453, 'egyptian': 1039, 'messenger': 2093, 'rewards': 2769, 'cartmanbrah': 532, 'bite': 358, 'seemed': 2892, 'hunting': 1668, 'imagine': 1701, 'eight': 1044, 'case': 537, 'spaced': 3077, 'community': 691, 'malls': 2019, 'playing': 2524, 'powdered': 2572, 'talkin': 3253, 'flay': 1237, 'coolest': 737, 'hope': 1633, 'ps4s': 2631, 'sake': 2830, 'higher': 1587, 'dad': 811, 'objective': 2302, 'hat': 1516, 'fags': 1138, 'caring': 522, 'ooooowwwwwwwhh': 2357, 'installed': 1724, 'whoa': 3658, 'winds': 3679, 'steaks': 3136, 'early': 1010, 'hi': 1582, 'bus': 473, 'listenin': 1938, 'appears': 178, 'rift': 2777, 'lordship': 1966, 'sounds': 3073, 'women': 3698, 'chances': 569, 'wants': 3580, 'attention': 225, 'fiber': 1197, 'makin': 2014, 'concentration': 708, 'business': 476, 'cotton': 747, 'same': 2834, 'opens': 2363, 'grass': 1428, 'sharp': 2932, 'alcoholic': 111, 'warming': 3584, 'kosher': 1858, 'ima': 1697, 'word': 3716, 'mouth': 2174, 'probably': 2604, 'partners': 2423, 'risk': 2785, 'gives': 1378, 'sit': 2990, 'said': 2827, 'nononono': 2268, 'wheels': 3645, '30': 9, 'skinny': 3003, 'allowed': 119, 'recording': 2714, 'eewww': 1031, 'remeasure': 2735, 'mcnuggets': 2055, 'fatty': 1170, 'series': 2910, 'untrue': 3502, 'pecker': 2442, 'bomb': 385, 'sang': 2840, 'cherish': 589, 'calf': 496, 'sins': 2986, 'learn': 1891, 'normal': 2278, 'code': 668, 'potholes': 2566, 'rub': 2812, 'state': 3129, 'wit': 3690, 'mel': 2074, 'kyle': 1860, 'page': 2397, 'hahahahaheh': 1478, 'wewewewewewe': 3631, 'aids': 103, 'detective': 881, 'afghanistan': 81, 'cupcakes': 800, 'clone': 650, 'bedroom': 312, 'team': 3279, 'heheehee': 1554, 'celery': 555, 'bastards': 292, 'pee': 2444, 'addicted': 63, 'spilled': 3093, 'biology': 351, 'cents': 558, 'casa': 536, 'doctor': 932, 'steal': 3137, 'mmmom': 2137, 'at': 216, 'ps4': 2630, 'vodka': 3552, 'bright': 430, 'foundation': 1278, 'daddy': 812, 'attitude': 228, 'pip': 2499, 'fat': 1163, 'understand': 3481, 'upon': 3505, 'grandmother': 1425, 'marvin': 2038, 'was': 3589, 'ritalin': 2787, 'bracelet': 417, 'sucking': 3197, 'stayed': 3134, 'cool': 736, 'believe': 323, 'adventurers': 75, 'sat': 2843, 'houses': 1643, 'bye': 492, 'backward': 258, 'hoping': 1636, 'minutes': 2121, 'fence': 1188, 'fed': 1176, 'fixed': 1231, 'yeessss': 3769, 'cigarettes': 627, 'memorial': 2077, 'dick': 892, 'ugly': 3464, 'phew': 2478, 'duty': 1000, 'mileage': 2108, 'air': 106, 'ike': 1693, 'from': 1303, 'racist': 2671, 'admission': 67, 'urgent': 3511, 'whatta': 3641, 'agh': 88, 'hai': 1479, 'chair': 564, 'or': 2368, 'soo': 3064, 'roofs': 2802, 'number': 2293, 'counselor': 752, 'anyway': 169, 'ignoring': 1688, 'competition': 694, 'magnet': 2002, 'about': 44, 'bodies': 383, 'directions': 910, 'flute': 1249, 'bummer': 463, 'disgusting': 920, 'millennium': 2110, 'for': 1264, 'shortcake': 2953, 'tried': 3428, 'alley': 117, 'string': 3175, 'snay': 3037, 'spears': 3085, 'depend': 867, 'directors': 911, 'unsanitary': 3498, 'hunger': 1665, 'engine': 1074, 'peepee': 2449, 'pounds': 2569, 'merry': 2088, 'lakewood': 1871, 'maybe': 2047, 'brake': 421, 'if': 1685, 'hook': 1628, 'crappin': 773, 'heheheh': 1556, 'per': 2456, 'copy': 742, 'mother': 2168, 'handicap': 1491, 'meeting': 2071, 'discharge': 917, 'aghh': 89, 'messin': 2094, 'drinks': 976, 'doughboy': 961, 'yeh': 3770, 'moon': 2158, 'lights': 1926, 'ourselves': 2379, 'gay': 1342, 'sailing': 2828, 'ride': 2772, 'votes': 3558, 'weather': 3610, 'drunk': 985, 'marred': 2031, 'remote': 2737, 'entrance': 1081, 'syrup': 3236, 'killer': 1837, 'beach': 297, 'bo': 378, 'clubhouse': 659, 'forever': 1268, 'followers': 1255, 'boring': 396, 'molested': 2142, 'tha': 3308, 'coordination': 738, 'him': 1591, 'outta': 2386, 'springs': 3105, 'talented': 3250, 'voice': 3553, 'playboy': 2519, 'nope': 2277, 'song': 3062, 'today': 3364, 'ye': 3759, 'quickly': 2663, 'spanking': 3079, 'ceremony': 559, 'ups': 3506, 'voting': 3559, 'wrong': 3742, 'swing': 3229, 'noooowwww': 2276, 'dead': 835, 'heey': 1549, 'necessary': 2224, 'tale': 3248, 'mask': 2039, 'bullied': 457, 'dreamcast': 966, 'omigod': 2337, 'wieners': 3672, 'boyongture': 415, 'fifth': 1200, 'ed': 1024, 'missing': 2128, 'pope': 2556, 'oculus': 2308, 'whoawhoa': 3659, 'announcement': 158, 'lied': 1922, 'knows': 1857, 'stomper': 3155, 'filmmakers': 1209, 'department': 866, 'holy': 1618, 'cover': 760, 'subway': 3193, 'afraid': 82, 'raped': 2685, 'cans': 511, 'slash': 3006, 'looks': 1959, 'infected': 1718, 'oowww': 2361, 'doubts': 956, 'doc': 931, 'aargh': 37, 'gonna': 1402, 'texas': 3305, 'hmmm': 1602, 'potter': 2567, 'trend': 3422, 'agreeing': 93, 'floor': 1244, 'start': 3124, 'chi': 590, 'jehovah': 1763, 'aah': 35, 'loaf': 1947, 'bullcrap': 456, 'funtime': 1320, 'talking': 3254, 'accidentally': 51, 'medicine': 2067, 'junjun': 1798, 'hamburgers': 1486, 'popular': 2559, '11': 2, 'clowns': 657, 'dorks': 953, 'cheat': 583, 'uns': 3497, 'cpu': 764, 'dream': 965, 'bag': 263, 'courage': 757, 'percent': 2457, 'aaaarrghhhhhh': 29, 'biggie': 347, 'hide': 1584, 'taping': 3263, 'eeww': 1030, 'updating': 3504, 'piщ': 2506, 'loser': 1968, 'kewl': 1820, 'national': 2215, 'plasma': 2515, 'passing': 2427, 'become': 309, 'professor': 2611, 'almost': 121, 'inconsiderate': 1713, 'progress': 2614, 'really': 2704, 'atta': 221, 'outer': 2381, 'broncos': 440, 'hmyeah': 1604, 'services': 2919, 'ribbon': 2770, 'em': 1062, 'ninja': 2252, 'planet': 2511, 'interior': 1732, 'breaking': 426, 'minorities': 2117, 'scientific': 2863, 'channel': 573, 'plans': 2514, 'music': 2194, 'shown': 2962, 'handle': 1493, 'beat': 302, 'humans': 1659, 'likes': 1928, 'serving': 2920, 'ceiling': 551, 'touched': 3392, 'times': 3357, 'should': 2956, 'fashion': 1160, 'woo': 3704, 'bastard': 291, 'humor': 1662, 'accessible': 50, 'camps': 505, 'tons': 3377, 'hair': 1481, 'harry': 1512, 'symbolic': 3233, 'other': 2374, 'learned': 1892, 'japs': 1759, 'destroy': 877, 'claiming': 633, 'rearrange': 2706, 'sinners': 2985, 'denkins': 863, 'yahoo': 3756, 'boo': 390, 'yee': 3766, 'wanna': 3577, 'wussy': 3749, 'hurry': 1670, 'might': 2106, 'pan': 2407, 'whales': 3635, 'boneration': 388, 'russian': 2820, 'broad': 437, 'phillip': 2479, 'hooters': 1632, 'amusement': 139, 'values': 3530}\n"
     ]
    }
   ],
   "source": [
    "print(bow_non_lem.vocabulary_)"
   ]
  },
  {
   "cell_type": "markdown",
   "metadata": {
    "collapsed": true
   },
   "source": []
  },
  {
   "cell_type": "code",
   "execution_count": null,
   "metadata": {
    "collapsed": true
   },
   "outputs": [],
   "source": [
    "X_train, X_test, y_train, y_test = train_test_split(data[features], \n",
    "                                                    data['admit'], \n",
    "                                                    test_size=0.2)\n",
    "print(X_train.shape, X_test.shape, y_train.shape, y_test.shape)\n",
    "y_train.hist()"
   ]
  },
  {
   "cell_type": "code",
   "execution_count": null,
   "metadata": {
    "collapsed": true
   },
   "outputs": [],
   "source": []
  },
  {
   "cell_type": "code",
   "execution_count": null,
   "metadata": {
    "collapsed": true
   },
   "outputs": [],
   "source": []
  }
 ],
 "metadata": {
  "anaconda-cloud": {},
  "kernelspec": {
   "display_name": "Python 3",
   "language": "python",
   "name": "python3"
  },
  "language_info": {
   "codemirror_mode": {
    "name": "ipython",
    "version": 3
   },
   "file_extension": ".py",
   "mimetype": "text/x-python",
   "name": "python",
   "nbconvert_exporter": "python",
   "pygments_lexer": "ipython3",
   "version": "3.5.2"
  }
 },
 "nbformat": 4,
 "nbformat_minor": 1
}
