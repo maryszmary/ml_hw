{
 "cells": [
  {
   "cell_type": "markdown",
   "metadata": {},
   "source": [
    "# Гарри Поттер"
   ]
  },
  {
   "cell_type": "markdown",
   "metadata": {},
   "source": [
    "### Импортирую нужные библиотеки и загружаю датасет."
   ]
  },
  {
   "cell_type": "code",
   "execution_count": 108,
   "metadata": {
    "collapsed": true
   },
   "outputs": [],
   "source": [
    "import pandas\n",
    "import numpy as np\n",
    "import matplotlib.pyplot as plt\n",
    "\n",
    "from sklearn.feature_extraction.text import CountVectorizer\n",
    "from sklearn.naive_bayes import MultinomialNB\n",
    "from sklearn.metrics import classification_report, f1_score, accuracy_score, confusion_matrix, roc_curve\n",
    "from sklearn.model_selection import StratifiedKFold, train_test_split"
   ]
  },
  {
   "cell_type": "code",
   "execution_count": 4,
   "metadata": {
    "collapsed": true
   },
   "outputs": [],
   "source": [
    "heroes = pandas.read_csv('hp-with-text.csv', sep='\\t', names=[\"name\", \"house\", \"text\"], header=1)"
   ]
  },
  {
   "cell_type": "code",
   "execution_count": 6,
   "metadata": {
    "collapsed": false
   },
   "outputs": [
    {
     "data": {
      "text/html": [
       "<div>\n",
       "<table border=\"1\" class=\"dataframe\">\n",
       "  <thead>\n",
       "    <tr style=\"text-align: right;\">\n",
       "      <th></th>\n",
       "      <th>name</th>\n",
       "      <th>house</th>\n",
       "      <th>text</th>\n",
       "    </tr>\n",
       "  </thead>\n",
       "  <tbody>\n",
       "    <tr>\n",
       "      <th>0</th>\n",
       "      <td>Harry Potter</td>\n",
       "      <td>Gryffindor</td>\n",
       "      <td>Harry was an extremely brave, loyal, and selfl...</td>\n",
       "    </tr>\n",
       "    <tr>\n",
       "      <th>1</th>\n",
       "      <td>Dolores Umbridge</td>\n",
       "      <td>Slytherin</td>\n",
       "      <td>Dolores Umbridge was nothing short of a sociop...</td>\n",
       "    </tr>\n",
       "    <tr>\n",
       "      <th>2</th>\n",
       "      <td>Horace Slughorn</td>\n",
       "      <td>Slytherin</td>\n",
       "      <td>Horace Slughorn was described as having a bumb...</td>\n",
       "    </tr>\n",
       "    <tr>\n",
       "      <th>3</th>\n",
       "      <td>Albus Dumbledore</td>\n",
       "      <td>Gryffindor</td>\n",
       "      <td>Considered to be the most powerful wizard of h...</td>\n",
       "    </tr>\n",
       "    <tr>\n",
       "      <th>4</th>\n",
       "      <td>Severus Snape</td>\n",
       "      <td>Slytherin</td>\n",
       "      <td>At times, Snape could appear cold, cynical, ma...</td>\n",
       "    </tr>\n",
       "  </tbody>\n",
       "</table>\n",
       "</div>"
      ],
      "text/plain": [
       "               name       house  \\\n",
       "0      Harry Potter  Gryffindor   \n",
       "1  Dolores Umbridge   Slytherin   \n",
       "2   Horace Slughorn   Slytherin   \n",
       "3  Albus Dumbledore  Gryffindor   \n",
       "4     Severus Snape   Slytherin   \n",
       "\n",
       "                                                text  \n",
       "0  Harry was an extremely brave, loyal, and selfl...  \n",
       "1  Dolores Umbridge was nothing short of a sociop...  \n",
       "2  Horace Slughorn was described as having a bumb...  \n",
       "3  Considered to be the most powerful wizard of h...  \n",
       "4  At times, Snape could appear cold, cynical, ma...  "
      ]
     },
     "execution_count": 6,
     "metadata": {},
     "output_type": "execute_result"
    }
   ],
   "source": [
    "heroes.head()"
   ]
  },
  {
   "cell_type": "markdown",
   "metadata": {},
   "source": [
    "Проверяю, насколько выборка сбалансирована."
   ]
  },
  {
   "cell_type": "code",
   "execution_count": 10,
   "metadata": {
    "collapsed": false
   },
   "outputs": [
    {
     "name": "stdout",
     "output_type": "stream",
     "text": [
      "house             \n",
      "Gryffindor  count                       42\n",
      "            unique                      42\n",
      "            top            James Potter II\n",
      "            freq                         1\n",
      "Hufflepuff  count                       11\n",
      "            unique                      11\n",
      "            top              Pomona Sprout\n",
      "            freq                         1\n",
      "Ravenclaw   count                       15\n",
      "            unique                      15\n",
      "            top           Helena Ravenclaw\n",
      "            freq                         1\n",
      "Slytherin   count                       26\n",
      "            unique                      26\n",
      "            top       Avery (Marauder-era)\n",
      "            freq                         1\n",
      "Name: name, dtype: object\n"
     ]
    }
   ],
   "source": [
    "print(heroes.groupby('house').describe()['name'])"
   ]
  },
  {
   "cell_type": "markdown",
   "metadata": {},
   "source": [
    "Датасет насбалансирован: между Хафлпафом и Гриффиндором разница почти в 4 раза. При этом данных не так много, чтобы выкидывать какую-то их часть. С другой стороны, превосходство в 4 раза не такое большое, чтобы всё испортить. \n",
    "\n",
    "Если присваивать всем людям дом Гриффиндор, мы будем правы только в 42/94 = 44.7 процентах случаев. Возьмём это  за бейзлайн.\n",
    "\n",
    "Чтобы справиться с этой проблемой, попробую использовать оверсэмплинг."
   ]
  },
  {
   "cell_type": "markdown",
   "metadata": {},
   "source": [
    "### Разделяю выборку на train и test"
   ]
  },
  {
   "cell_type": "code",
   "execution_count": 77,
   "metadata": {
    "collapsed": false
   },
   "outputs": [
    {
     "name": "stdout",
     "output_type": "stream",
     "text": [
      "(75,) (19,) (75,) (19,)\n"
     ]
    }
   ],
   "source": [
    "x_train, x_test, y_train, y_test = train_test_split(heroes['text'],\n",
    "                                                    heroes['house'], \n",
    "                                                    test_size=0.2)\n",
    "print(x_train.shape, x_test.shape, y_train.shape, y_test.shape)"
   ]
  },
  {
   "cell_type": "code",
   "execution_count": 87,
   "metadata": {
    "collapsed": true
   },
   "outputs": [],
   "source": [
    "# строю мешок слов, отрезаю стоп-слова, \n",
    "bow = CountVectorizer(stop_words='english')\n",
    "bowed_messages = bow.fit_transform(x_train, y_train)"
   ]
  },
  {
   "cell_type": "markdown",
   "metadata": {},
   "source": [
    "Посмотрим на словарь (не знаю зачем)"
   ]
  },
  {
   "cell_type": "code",
   "execution_count": 127,
   "metadata": {
    "collapsed": false
   },
   "outputs": [
    {
     "data": {
      "text/plain": [
       "453"
      ]
     },
     "execution_count": 127,
     "metadata": {},
     "output_type": "execute_result"
    }
   ],
   "source": [
    "len(bow.vocabulary_)"
   ]
  },
  {
   "cell_type": "code",
   "execution_count": 89,
   "metadata": {
    "collapsed": false
   },
   "outputs": [],
   "source": [
    "# oversampling\n",
    "from imblearn.over_sampling import RandomOverSampler\n",
    "\n",
    "ros = RandomOverSampler()\n",
    "x_resampled, y_resampled = ros.fit_sample(bowed_messages.toarray(), y_train)"
   ]
  },
  {
   "cell_type": "code",
   "execution_count": 131,
   "metadata": {
    "collapsed": false
   },
   "outputs": [
    {
     "data": {
      "text/plain": [
       "array(['Gryffindor', 'Gryffindor', 'Gryffindor', 'Gryffindor',\n",
       "       'Gryffindor', 'Gryffindor', 'Gryffindor', 'Gryffindor',\n",
       "       'Gryffindor', 'Gryffindor', 'Gryffindor', 'Gryffindor',\n",
       "       'Gryffindor', 'Gryffindor', 'Gryffindor', 'Gryffindor',\n",
       "       'Gryffindor', 'Gryffindor', 'Gryffindor', 'Gryffindor',\n",
       "       'Gryffindor', 'Gryffindor', 'Gryffindor', 'Gryffindor',\n",
       "       'Gryffindor', 'Gryffindor', 'Gryffindor', 'Gryffindor',\n",
       "       'Gryffindor', 'Gryffindor', 'Gryffindor', 'Gryffindor',\n",
       "       'Gryffindor', 'Ravenclaw', 'Ravenclaw', 'Ravenclaw', 'Ravenclaw',\n",
       "       'Ravenclaw', 'Ravenclaw', 'Ravenclaw', 'Ravenclaw', 'Ravenclaw',\n",
       "       'Ravenclaw', 'Ravenclaw', 'Ravenclaw', 'Ravenclaw', 'Ravenclaw',\n",
       "       'Ravenclaw', 'Ravenclaw', 'Ravenclaw', 'Ravenclaw', 'Ravenclaw',\n",
       "       'Ravenclaw', 'Ravenclaw', 'Ravenclaw', 'Ravenclaw', 'Ravenclaw',\n",
       "       'Ravenclaw', 'Ravenclaw', 'Ravenclaw', 'Ravenclaw', 'Ravenclaw',\n",
       "       'Ravenclaw', 'Ravenclaw', 'Ravenclaw', 'Ravenclaw', 'Slytherin',\n",
       "       'Slytherin', 'Slytherin', 'Slytherin', 'Slytherin', 'Slytherin',\n",
       "       'Slytherin', 'Slytherin', 'Slytherin', 'Slytherin', 'Slytherin',\n",
       "       'Slytherin', 'Slytherin', 'Slytherin', 'Slytherin', 'Slytherin',\n",
       "       'Slytherin', 'Slytherin', 'Slytherin', 'Slytherin', 'Slytherin',\n",
       "       'Slytherin', 'Slytherin', 'Slytherin', 'Slytherin', 'Slytherin',\n",
       "       'Slytherin', 'Slytherin', 'Slytherin', 'Slytherin', 'Slytherin',\n",
       "       'Slytherin', 'Slytherin', 'Hufflepuff', 'Hufflepuff', 'Hufflepuff',\n",
       "       'Hufflepuff', 'Hufflepuff', 'Hufflepuff', 'Hufflepuff',\n",
       "       'Hufflepuff', 'Hufflepuff', 'Hufflepuff', 'Hufflepuff',\n",
       "       'Hufflepuff', 'Hufflepuff', 'Hufflepuff', 'Hufflepuff',\n",
       "       'Hufflepuff', 'Hufflepuff', 'Hufflepuff', 'Hufflepuff',\n",
       "       'Hufflepuff', 'Hufflepuff', 'Hufflepuff', 'Hufflepuff',\n",
       "       'Hufflepuff', 'Hufflepuff', 'Hufflepuff', 'Hufflepuff',\n",
       "       'Hufflepuff', 'Hufflepuff', 'Hufflepuff', 'Hufflepuff',\n",
       "       'Hufflepuff', 'Hufflepuff'], dtype=object)"
      ]
     },
     "execution_count": 131,
     "metadata": {},
     "output_type": "execute_result"
    }
   ],
   "source": [
    "y_resampled"
   ]
  },
  {
   "cell_type": "code",
   "execution_count": 126,
   "metadata": {
    "collapsed": false
   },
   "outputs": [
    {
     "data": {
      "text/plain": [
       "(132, 453)"
      ]
     },
     "execution_count": 126,
     "metadata": {},
     "output_type": "execute_result"
    }
   ],
   "source": [
    "x_resampled.shape"
   ]
  },
  {
   "cell_type": "code",
   "execution_count": 91,
   "metadata": {
    "collapsed": false
   },
   "outputs": [
    {
     "data": {
      "text/plain": [
       "MultinomialNB(alpha=1.0, class_prior=None, fit_prior=True)"
      ]
     },
     "execution_count": 91,
     "metadata": {},
     "output_type": "execute_result"
    }
   ],
   "source": [
    "# теперь обучаем модель. пускай это будет Наивный Байес.\n",
    "\n",
    "naive_model = MultinomialNB()\n",
    "naive_model.fit(bowed_messages, y_train)"
   ]
  },
  {
   "cell_type": "markdown",
   "metadata": {},
   "source": [
    "Посмотрим, что получилось."
   ]
  },
  {
   "cell_type": "code",
   "execution_count": 92,
   "metadata": {
    "collapsed": false
   },
   "outputs": [],
   "source": [
    "bowed_test = bow.transform(x_test)\n",
    "predicted = naive_model.predict(bowed_test)"
   ]
  },
  {
   "cell_type": "code",
   "execution_count": 93,
   "metadata": {
    "collapsed": false
   },
   "outputs": [
    {
     "name": "stdout",
     "output_type": "stream",
     "text": [
      "             precision    recall  f1-score   support\n",
      "\n",
      " Gryffindor       0.47      0.78      0.58         9\n",
      " Hufflepuff       0.00      0.00      0.00         3\n",
      "  Ravenclaw       0.00      0.00      0.00         1\n",
      "  Slytherin       0.25      0.17      0.20         6\n",
      "\n",
      "avg / total       0.30      0.42      0.34        19\n",
      "\n"
     ]
    },
    {
     "name": "stderr",
     "output_type": "stream",
     "text": [
      "/home/maryszmary/.local/lib/python3.5/site-packages/sklearn/metrics/classification.py:1113: UndefinedMetricWarning: Precision and F-score are ill-defined and being set to 0.0 in labels with no predicted samples.\n",
      "  'precision', 'predicted', average, warn_for)\n"
     ]
    }
   ],
   "source": [
    "print(classification_report(y_test, predicted))"
   ]
  },
  {
   "cell_type": "code",
   "execution_count": 94,
   "metadata": {
    "collapsed": false
   },
   "outputs": [
    {
     "data": {
      "text/plain": [
       "array([[7, 0, 0, 2],\n",
       "       [2, 0, 0, 1],\n",
       "       [1, 0, 0, 0],\n",
       "       [5, 0, 0, 1]])"
      ]
     },
     "execution_count": 94,
     "metadata": {},
     "output_type": "execute_result"
    }
   ],
   "source": [
    "confusion_matrix(y_test, predicted)"
   ]
  },
  {
   "cell_type": "markdown",
   "metadata": {},
   "source": [
    "Как мы видим, классификатор переобучается на самых больших классах (Гриффиноре и Слизерине), и ничего не определяет Хафлпаф и Равенкло."
   ]
  },
  {
   "cell_type": "code",
   "execution_count": null,
   "metadata": {
    "collapsed": true
   },
   "outputs": [],
   "source": [
    "### Теперь попробую ограничить частотность слов."
   ]
  },
  {
   "cell_type": "code",
   "execution_count": 95,
   "metadata": {
    "collapsed": false
   },
   "outputs": [
    {
     "data": {
      "text/plain": [
       "MultinomialNB(alpha=1.0, class_prior=None, fit_prior=True)"
      ]
     },
     "execution_count": 95,
     "metadata": {},
     "output_type": "execute_result"
    }
   ],
   "source": [
    "# строю мешок слов, отрезаю стоп-слова, ограничиваю моксимальное кол-во вхождений\n",
    "bow = CountVectorizer(stop_words='english', max_df=35, min_df=5)\n",
    "bowed_messages = bow.fit_transform(x_train, y_train)\n",
    "\n",
    "# oversampling\n",
    "ros = RandomOverSampler()\n",
    "x_resampled, y_resampled = ros.fit_sample(bowed_messages.toarray(), y_train)\n",
    "\n",
    "# тренирую модель\n",
    "naive_model = MultinomialNB()\n",
    "naive_model.fit(bowed_messages, y_train)"
   ]
  },
  {
   "cell_type": "code",
   "execution_count": 96,
   "metadata": {
    "collapsed": true
   },
   "outputs": [],
   "source": [
    "# тестирую\n",
    "bowed_test = bow.transform(x_test)\n",
    "predicted = naive_model.predict(bowed_test)"
   ]
  },
  {
   "cell_type": "code",
   "execution_count": 97,
   "metadata": {
    "collapsed": false
   },
   "outputs": [
    {
     "name": "stdout",
     "output_type": "stream",
     "text": [
      "             precision    recall  f1-score   support\n",
      "\n",
      " Gryffindor       0.58      0.78      0.67         9\n",
      " Hufflepuff       0.67      0.67      0.67         3\n",
      "  Ravenclaw       1.00      1.00      1.00         1\n",
      "  Slytherin       0.67      0.33      0.44         6\n",
      "\n",
      "avg / total       0.64      0.63      0.61        19\n",
      "\n"
     ]
    },
    {
     "data": {
      "text/plain": [
       "array([[7, 1, 0, 1],\n",
       "       [1, 2, 0, 0],\n",
       "       [0, 0, 1, 0],\n",
       "       [4, 0, 0, 2]])"
      ]
     },
     "execution_count": 97,
     "metadata": {},
     "output_type": "execute_result"
    }
   ],
   "source": [
    "print(classification_report(y_test, predicted))\n",
    "confusion_matrix(y_test, predicted)"
   ]
  },
  {
   "cell_type": "markdown",
   "metadata": {},
   "source": [
    "### А теперь попробуем рандомный лес"
   ]
  },
  {
   "cell_type": "code",
   "execution_count": 117,
   "metadata": {
    "collapsed": false
   },
   "outputs": [
    {
     "data": {
      "text/plain": [
       "RandomForestClassifier(bootstrap=True, class_weight=None, criterion='gini',\n",
       "            max_depth=None, max_features='auto', max_leaf_nodes=None,\n",
       "            min_impurity_split=1e-07, min_samples_leaf=1,\n",
       "            min_samples_split=2, min_weight_fraction_leaf=0.0,\n",
       "            n_estimators=30, n_jobs=1, oob_score=False, random_state=None,\n",
       "            verbose=0, warm_start=False)"
      ]
     },
     "execution_count": 117,
     "metadata": {},
     "output_type": "execute_result"
    }
   ],
   "source": [
    "from sklearn.ensemble import RandomForestClassifier\n",
    "model = RandomForestClassifier(n_estimators = 30)\n",
    "model.fit(bowed_messages, y_train)"
   ]
  },
  {
   "cell_type": "code",
   "execution_count": 118,
   "metadata": {
    "collapsed": true
   },
   "outputs": [],
   "source": [
    "# тестирую\n",
    "bowed_test = bow.transform(x_test)\n",
    "predicted = model.predict(bowed_test)"
   ]
  },
  {
   "cell_type": "code",
   "execution_count": 119,
   "metadata": {
    "collapsed": false
   },
   "outputs": [
    {
     "name": "stdout",
     "output_type": "stream",
     "text": [
      "             precision    recall  f1-score   support\n",
      "\n",
      " Gryffindor       0.53      0.89      0.67         9\n",
      " Hufflepuff       0.00      0.00      0.00         3\n",
      "  Ravenclaw       0.00      0.00      0.00         1\n",
      "  Slytherin       0.67      0.33      0.44         6\n",
      "\n",
      "avg / total       0.46      0.53      0.46        19\n",
      "\n"
     ]
    },
    {
     "name": "stderr",
     "output_type": "stream",
     "text": [
      "/home/maryszmary/.local/lib/python3.5/site-packages/sklearn/metrics/classification.py:1113: UndefinedMetricWarning: Precision and F-score are ill-defined and being set to 0.0 in labels with no predicted samples.\n",
      "  'precision', 'predicted', average, warn_for)\n"
     ]
    },
    {
     "data": {
      "text/plain": [
       "array([[8, 0, 1, 0],\n",
       "       [2, 0, 0, 1],\n",
       "       [1, 0, 0, 0],\n",
       "       [4, 0, 0, 2]])"
      ]
     },
     "execution_count": 119,
     "metadata": {},
     "output_type": "execute_result"
    }
   ],
   "source": [
    "print(classification_report(y_test, predicted))\n",
    "confusion_matrix(y_test, predicted)"
   ]
  },
  {
   "cell_type": "markdown",
   "metadata": {},
   "source": [
    "### А теперь попробуем дерево решений"
   ]
  },
  {
   "cell_type": "code",
   "execution_count": 120,
   "metadata": {
    "collapsed": false
   },
   "outputs": [
    {
     "data": {
      "text/plain": [
       "DecisionTreeClassifier(class_weight=None, criterion='gini', max_depth=None,\n",
       "            max_features=None, max_leaf_nodes=None,\n",
       "            min_impurity_split=1e-07, min_samples_leaf=1,\n",
       "            min_samples_split=2, min_weight_fraction_leaf=0.0,\n",
       "            presort=False, random_state=None, splitter='best')"
      ]
     },
     "execution_count": 120,
     "metadata": {},
     "output_type": "execute_result"
    }
   ],
   "source": [
    "from sklearn.tree import DecisionTreeClassifier\n",
    "tree = DecisionTreeClassifier()\n",
    "tree.fit(bowed_messages, y_train)"
   ]
  },
  {
   "cell_type": "code",
   "execution_count": 123,
   "metadata": {
    "collapsed": true
   },
   "outputs": [],
   "source": [
    "# тестирую\n",
    "bowed_test = bow.transform(x_test)\n",
    "predicted = tree.predict(bowed_test)"
   ]
  },
  {
   "cell_type": "code",
   "execution_count": 124,
   "metadata": {
    "collapsed": false
   },
   "outputs": [
    {
     "name": "stdout",
     "output_type": "stream",
     "text": [
      "             precision    recall  f1-score   support\n",
      "\n",
      " Gryffindor       0.57      0.44      0.50         9\n",
      " Hufflepuff       0.33      0.33      0.33         3\n",
      "  Ravenclaw       0.00      0.00      0.00         1\n",
      "  Slytherin       0.50      0.33      0.40         6\n",
      "\n",
      "avg / total       0.48      0.37      0.42        19\n",
      "\n"
     ]
    },
    {
     "data": {
      "text/plain": [
       "array([[4, 1, 3, 1],\n",
       "       [1, 1, 0, 1],\n",
       "       [1, 0, 0, 0],\n",
       "       [1, 1, 2, 2]])"
      ]
     },
     "execution_count": 124,
     "metadata": {},
     "output_type": "execute_result"
    }
   ],
   "source": [
    "print(classification_report(y_test, predicted))\n",
    "confusion_matrix(y_test, predicted)"
   ]
  },
  {
   "cell_type": "code",
   "execution_count": null,
   "metadata": {
    "collapsed": true
   },
   "outputs": [],
   "source": []
  }
 ],
 "metadata": {
  "anaconda-cloud": {},
  "kernelspec": {
   "display_name": "Python 3",
   "language": "python",
   "name": "python3"
  },
  "language_info": {
   "codemirror_mode": {
    "name": "ipython",
    "version": 3
   },
   "file_extension": ".py",
   "mimetype": "text/x-python",
   "name": "python",
   "nbconvert_exporter": "python",
   "pygments_lexer": "ipython3",
   "version": "3.5.2"
  }
 },
 "nbformat": 4,
 "nbformat_minor": 1
}
